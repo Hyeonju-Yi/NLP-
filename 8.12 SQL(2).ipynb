{
 "cells": [
  {
   "cell_type": "markdown",
   "metadata": {},
   "source": [
    " sample로 시작!\n",
    "**CRUD : create, read, update, delete**\n",
    "\n",
    "## 날짜 연산\n",
    "\n",
    "- SELECT CURRENT_TIMESTAMP;\n",
    "- SELECT CURRENT_DATE + INTERVAL 1DAY;\n",
    "\n",
    "## CASE 문으로 데이터 변환하기\n",
    "\n",
    "- SELECT 열명( as '별명'),\n",
    "    CASE\n",
    "    WHEN 조건식1 THEN 식1\n",
    "    WHEN 조건식2 THEN 식2...\n",
    "    ELSE 식3\n",
    "  END as '열명' from 테이블명;\n",
    "  \n",
    "- SELECT a, CASE WHEN a IS NULL THEN 0 ELSE a END 'a(null=0)' FROM sample37;\n",
    "\n",
    "## 행 추가하기\n",
    "#### INSERT INTO 테이블명(열1, 열2, ..) VALUES(값1, 값2, ...);\n",
    "\n",
    "## 삭제하기\n",
    "####  DELETE FROM 테이블명 WHERE 조건식;\n",
    "\n",
    "## 데이터 갱신하기\n",
    "#### UPDATE 테이블명 SET 열1 = 값1, 열2 = 값2...WHERE 조건식\n",
    "ex) update sample41 set b = '2014-09-07' where no=2;  \n",
    "ex) update sample41 set no = no + 1; **(일괄 업데이트)**  \n",
    "ex) update sample41 set a = 'xxx', b = '2014-01-01 where no = 2; **(복수열 갱신)**\n",
    "\n",
    "## NULL로 갱신하기\n",
    "#### UPDATE 테이블명 SET 열1 = NULL;\n",
    "\n",
    "## 물리삭제와 논리삭제\n",
    "\n",
    "\n",
    "\n",
    "\n",
    "\n",
    "\n",
    "# 5. 집계와 서브쿼리\n",
    "\n",
    "\n",
    "## 행개수 구하기\n",
    "####  select **count(*)** from 테이블명;  \n",
    "- NULL 값이 있는 경우, count되지 않음\n",
    "\n",
    "- SELECT **SUM(열명)** FROM 테이블명;\n",
    "- SELECT **AVG(열명), SUM(열명)/COUNT(열명)** FROM 테이블명;\n",
    "- SELECT **MIN(열명), MAX(열명)** FROM 테이블명;\n",
    "- SELECT **DISTINCT 열명** FROM 테이블명; 중복 제거\n",
    "\n",
    "\n",
    "## 그룹화 Group by\n",
    "- **SELECT 열명 FROM 테이블명 GROUP BY 열명;**\n",
    "- **SELECT 열명 FROM 테이블명 GROUP BY 열명 HAVING 조건식;**\n",
    "\n",
    "\n",
    "- **ex) SELECT name, count(name), sum(quantity) FROM sample51 GROUP BY name ORDER BY sum(quantity) DESC;**  \n",
    "-- name을 기준으로 grouping 하고, sum(quantity)기준으로 내림차순 정렬\n",
    "\n",
    "\n",
    "## 서브쿼리: SQL 명령문 안에 지정하는 하부 SELECT 명령으로 괄호를 묶어 지정\n",
    "- DELETE FROM 테이블명 WHERE 열명 = (SELECT 하부명령);\n",
    "- '스칼라값'을 반환하다.: SELECT 명령이 하나의 값만 반환하는 것\n",
    "\n",
    "\n",
    "\n",
    "\n",
    "- INSERT INTO 테이블명 select 값1, 값2;\n",
    "\n",
    "## 상관 서브쿼리: EXISTS(SELECT 명령)\n",
    "\n",
    "- 두개의 테이블을 서로 참조하여 한 쪽 테이블의 값을 변경\n",
    "- UPDATE 테이블명1 SET 열명='변경값' WHERE  \n",
    "   EXISTS/NOT EXISTS (SELECT *FROM 테이블명2 WHERE 열명2 = 열명1);\n",
    "   \n",
    "\n",
    "# 6장. 데이터베이스 객체 작성과 삭제\n",
    "\n",
    "## 테이블 작성/삭제/변경\n",
    "- CREATE TABLE 테이블명(열 정의1, 열 정의2 ... )\n",
    "- DROP TABLE 테이블명: 테이블 삭제\n",
    "- TRUNCATE TABLE 테이블명 : 행 삭제\n",
    "- ALTER TABLE 테이블 하부명령 : 테이블 변경\n",
    "\n",
    "인덱스 ==> 쿼리의 성능/속도가 빨라짐.\n",
    "\n",
    "\n"
   ]
  },
  {
   "cell_type": "code",
   "execution_count": 1,
   "metadata": {
    "scrolled": true
   },
   "outputs": [
    {
     "name": "stdout",
     "output_type": "stream",
     "text": [
      "Collecting pymysql\n",
      "  Downloading https://files.pythonhosted.org/packages/ed/39/15045ae46f2a123019aa968dfcba0396c161c20f855f11dea6796bcaae95/PyMySQL-0.9.3-py2.py3-none-any.whl (47kB)\n",
      "Installing collected packages: pymysql\n",
      "Successfully installed pymysql-0.9.3\n",
      "Note: you may need to restart the kernel to use updated packages.\n"
     ]
    }
   ],
   "source": [
    "pip install pymysql"
   ]
  },
  {
   "cell_type": "markdown",
   "metadata": {},
   "source": [
    "https://github.com/PyMySQL/PyMySQL\n",
    "\n",
    "\n",
    "DB 테이블을 DataFrame으로 읽어오는 방법  \n",
    ": https://swalloow.github.io/db-to-dataframe"
   ]
  },
  {
   "cell_type": "code",
   "execution_count": 16,
   "metadata": {},
   "outputs": [
    {
     "name": "stdout",
     "output_type": "stream",
     "text": [
      "{'id': 1, 'password': 'very-secret'}\n"
     ]
    }
   ],
   "source": [
    "import pymysql.cursors\n",
    "\n",
    "# Connect to the database\n",
    "connection = pymysql.connect(host='localhost',\n",
    "                             user='root',\n",
    "                             password='1234',\n",
    "                             db='db',\n",
    "                             charset='utf8mb4',\n",
    "                             cursorclass=pymysql.cursors.DictCursor)\n",
    "\n",
    "try:\n",
    "    with connection.cursor() as cursor:\n",
    "        # Create a new record\n",
    "        sql = \"INSERT INTO `users` (`email`, `password`) VALUES (%s, %s)\"\n",
    "        cursor.execute(sql, ('webmaster@python.org', 'very-secret'))\n",
    "\n",
    "    # connection is not autocommit by default. So you must commit to save\n",
    "    # your changes.\n",
    "    connection.commit()\n",
    "\n",
    "    with connection.cursor() as cursor:\n",
    "        # Read a single record\n",
    "        sql = \"SELECT `id`, `password` FROM `users` WHERE `email`=%s\"\n",
    "        cursor.execute(sql, ('webmaster@python.org',))\n",
    "        result = cursor.fetchone()\n",
    "        print(result)\n",
    "finally:\n",
    "    connection.close()"
   ]
  },
  {
   "cell_type": "code",
   "execution_count": null,
   "metadata": {},
   "outputs": [],
   "source": []
  },
  {
   "cell_type": "code",
   "execution_count": null,
   "metadata": {},
   "outputs": [],
   "source": []
  }
 ],
 "metadata": {
  "kernelspec": {
   "display_name": "Python 3",
   "language": "python",
   "name": "python3"
  },
  "language_info": {
   "codemirror_mode": {
    "name": "ipython",
    "version": 3
   },
   "file_extension": ".py",
   "mimetype": "text/x-python",
   "name": "python",
   "nbconvert_exporter": "python",
   "pygments_lexer": "ipython3",
   "version": "3.6.8"
  }
 },
 "nbformat": 4,
 "nbformat_minor": 2
}
