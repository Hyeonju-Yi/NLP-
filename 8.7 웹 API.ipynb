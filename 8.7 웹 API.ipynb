{
 "cells": [
  {
   "cell_type": "markdown",
   "metadata": {},
   "source": [
    "## API: Application Programming Interface\n",
    "\n",
    "- REST API : 한번의 요청, 한번의 응답 후 연결 close\n",
    "- Streaming API : 한번의 요청, 갱신마다 응답/ 트위터"
   ]
  },
  {
   "cell_type": "markdown",
   "metadata": {},
   "source": [
    "## 1. JSON : JavaScript Object Notation  \n",
    "    : 웹서버에서 클라이언트로 데이터를 전달하기 위해 만든 구조화된 텍스트 형식\n",
    "\n",
    "#### - json.dumps(python_data [, indent=n, sort_keys=True or False, ensure_ascii=True or False]  : 파이썬데이터 > JSON 데이터로\n",
    "#### - json.loads(json_data) : JSON 데이터 > 파이썬 데이터로"
   ]
  },
  {
   "cell_type": "code",
   "execution_count": 2,
   "metadata": {},
   "outputs": [
    {
     "data": {
      "text/plain": [
       "dict"
      ]
     },
     "execution_count": 2,
     "metadata": {},
     "output_type": "execute_result"
    }
   ],
   "source": [
    "import json\n",
    "\n",
    "python_dict = {\n",
    "    \"이름\": \"홍길동\",\n",
    "    \"나이\": 25,\n",
    "    \"거주지\": \"서울\",\n",
    "    \"신체정보\": {\n",
    "        \"키\": 175.4,\n",
    "        \"몸무게\": 71.2\n",
    "    },\n",
    "    \"취미\": [\n",
    "        \"등산\",\n",
    "        \"자전거타기\",\n",
    "        \"독서\"\n",
    "    ]\n",
    "}\n",
    "type(python_dict)"
   ]
  },
  {
   "cell_type": "markdown",
   "metadata": {},
   "source": [
    "#### python_dict 데이터를 json_data로 변경"
   ]
  },
  {
   "cell_type": "code",
   "execution_count": 5,
   "metadata": {
    "scrolled": true
   },
   "outputs": [
    {
     "data": {
      "text/plain": [
       "str"
      ]
     },
     "execution_count": 5,
     "metadata": {},
     "output_type": "execute_result"
    }
   ],
   "source": [
    "json_data = json.dumps(python_dict)\n",
    "type(json_data)"
   ]
  },
  {
   "cell_type": "code",
   "execution_count": 6,
   "metadata": {},
   "outputs": [
    {
     "name": "stdout",
     "output_type": "stream",
     "text": [
      "{\"\\uc774\\ub984\": \"\\ud64d\\uae38\\ub3d9\", \"\\ub098\\uc774\": 25, \"\\uac70\\uc8fc\\uc9c0\": \"\\uc11c\\uc6b8\", \"\\uc2e0\\uccb4\\uc815\\ubcf4\": {\"\\ud0a4\": 175.4, \"\\ubab8\\ubb34\\uac8c\": 71.2}, \"\\ucde8\\ubbf8\": [\"\\ub4f1\\uc0b0\", \"\\uc790\\uc804\\uac70\\ud0c0\\uae30\", \"\\ub3c5\\uc11c\"]}\n"
     ]
    }
   ],
   "source": [
    "print(json_data)  # 형태를 알아보기 힘듦"
   ]
  },
  {
   "cell_type": "code",
   "execution_count": 9,
   "metadata": {},
   "outputs": [
    {
     "name": "stdout",
     "output_type": "stream",
     "text": [
      "{\n",
      "   \"거주지\": \"서울\",\n",
      "   \"나이\": 25,\n",
      "   \"신체정보\": {\n",
      "      \"몸무게\": 71.2,\n",
      "      \"키\": 175.4\n",
      "   },\n",
      "   \"이름\": \"홍길동\",\n",
      "   \"취미\": [\n",
      "      \"등산\",\n",
      "      \"자전거타기\",\n",
      "      \"독서\"\n",
      "   ]\n",
      "}\n"
     ]
    }
   ],
   "source": [
    "json_data = json.dumps(python_dict, indent=3, sort_keys=True, ensure_ascii=False)\n",
    "print(json_data)  # 위 각 인자를 설정하여 보기 좋게 만듦."
   ]
  },
  {
   "cell_type": "markdown",
   "metadata": {},
   "source": [
    "#### json_data를 json_dict이라는 파이썬 딕셔너리 데이터로 변경"
   ]
  },
  {
   "cell_type": "code",
   "execution_count": 11,
   "metadata": {},
   "outputs": [
    {
     "data": {
      "text/plain": [
       "dict"
      ]
     },
     "execution_count": 11,
     "metadata": {},
     "output_type": "execute_result"
    }
   ],
   "source": [
    "json_dict = json.loads(json_data)\n",
    "type(json_dict)"
   ]
  },
  {
   "cell_type": "code",
   "execution_count": 12,
   "metadata": {},
   "outputs": [
    {
     "data": {
      "text/plain": [
       "71.2"
      ]
     },
     "execution_count": 12,
     "metadata": {},
     "output_type": "execute_result"
    }
   ],
   "source": [
    "json_dict['신체정보']['몸무게']  # 신체정보 중 몸무게의 value를 반환"
   ]
  },
  {
   "cell_type": "code",
   "execution_count": 13,
   "metadata": {},
   "outputs": [
    {
     "data": {
      "text/plain": [
       "['등산', '자전거타기', '독서']"
      ]
     },
     "execution_count": 13,
     "metadata": {},
     "output_type": "execute_result"
    }
   ],
   "source": [
    "json_dict['취미']  # 리스트로 되어 있는 '취미'의 value를 반환"
   ]
  },
  {
   "cell_type": "code",
   "execution_count": 14,
   "metadata": {},
   "outputs": [
    {
     "data": {
      "text/plain": [
       "'자전거타기'"
      ]
     },
     "execution_count": 14,
     "metadata": {},
     "output_type": "execute_result"
    }
   ],
   "source": [
    "json_dict['취미'][1] # 취미 중 2번째 데이터를 반환"
   ]
  },
  {
   "cell_type": "code",
   "execution_count": 15,
   "metadata": {},
   "outputs": [
    {
     "name": "stdout",
     "output_type": "stream",
     "text": [
      "{'거주지': '서울', '나이': 25, '신체정보': {'몸무게': 71.2, '키': 175.4}, '이름': '홍길동', '취미': ['등산', '자전거타기', '독서']}\n"
     ]
    }
   ],
   "source": [
    "print(json_dict)"
   ]
  },
  {
   "cell_type": "markdown",
   "metadata": {},
   "source": [
    "### * 파이썬에서 { ,  [ 로 시작하면, 여러줄에 걸쳐 입력을 해도 한줄로 인식"
   ]
  },
  {
   "cell_type": "markdown",
   "metadata": {},
   "source": [
    "## 2. XML : eXtensible Markup Language\n",
    "\n",
    "#### - xmltodict.parse(xml_input [, xml_attribs=True or False] \n",
    "    : XML형식의 데이터를 파이썬의 딕셔너리 타입으로 변환하는 함수"
   ]
  },
  {
   "cell_type": "code",
   "execution_count": 16,
   "metadata": {},
   "outputs": [
    {
     "name": "stdout",
     "output_type": "stream",
     "text": [
      "<?xml version=\"1.0\" encoding=\"UTF-8\" ?>\n",
      "<사용자정보>\n",
      "    <이름>홍길동</이름>\n",
      "    <나이>25</나이>\n",
      "    <거주지>서울</거주지>\n",
      "    <신체정보>\n",
      "        <키 unit=\"cm\">175.4</키>\n",
      "        <몸무게 unit=\"kg\">71.2</몸무게>\n",
      "    </신체정보>\n",
      "    <취미>등산</취미>\n",
      "    <취미>자전거타기</취미>\n",
      "    <취미>독서</취미>\n",
      "</사용자정보> \n",
      "\n"
     ]
    }
   ],
   "source": [
    "xml_data = \"\"\"<?xml version=\"1.0\" encoding=\"UTF-8\" ?>\n",
    "<사용자정보>\n",
    "    <이름>홍길동</이름>\n",
    "    <나이>25</나이>\n",
    "    <거주지>서울</거주지>\n",
    "    <신체정보>\n",
    "        <키 unit=\"cm\">175.4</키>\n",
    "        <몸무게 unit=\"kg\">71.2</몸무게>\n",
    "    </신체정보>\n",
    "    <취미>등산</취미>\n",
    "    <취미>자전거타기</취미>\n",
    "    <취미>독서</취미>\n",
    "</사용자정보> \n",
    "\"\"\"\n",
    "print(xml_data)"
   ]
  },
  {
   "cell_type": "code",
   "execution_count": 17,
   "metadata": {},
   "outputs": [
    {
     "name": "stdout",
     "output_type": "stream",
     "text": [
      "Collecting xmltodict\n",
      "  Downloading https://files.pythonhosted.org/packages/28/fd/30d5c1d3ac29ce229f6bdc40bbc20b28f716e8b363140c26eff19122d8a5/xmltodict-0.12.0-py2.py3-none-any.whl\n",
      "Installing collected packages: xmltodict\n",
      "Successfully installed xmltodict-0.12.0\n"
     ]
    }
   ],
   "source": [
    "!pip install xmltodict"
   ]
  },
  {
   "cell_type": "code",
   "execution_count": 28,
   "metadata": {},
   "outputs": [
    {
     "data": {
      "text/plain": [
       "OrderedDict([('사용자정보',\n",
       "              OrderedDict([('이름', '홍길동'),\n",
       "                           ('나이', '25'),\n",
       "                           ('거주지', '서울'),\n",
       "                           ('신체정보',\n",
       "                            OrderedDict([('키',\n",
       "                                          OrderedDict([('@unit', 'cm'),\n",
       "                                                       ('#text', '175.4')])),\n",
       "                                         ('몸무게',\n",
       "                                          OrderedDict([('@unit', 'kg'),\n",
       "                                                       ('#text', '71.2')]))])),\n",
       "                           ('취미', ['등산', '자전거타기', '독서'])]))])"
      ]
     },
     "execution_count": 28,
     "metadata": {},
     "output_type": "execute_result"
    }
   ],
   "source": [
    "import xmltodict\n",
    "\n",
    "dict_data = xmltodict.parse(xml_data, xml_attribs=True)  # True가 기본! 속성값을 표현해 줌\n",
    "dict_data  # 딕셔너리 형태로 변경됨."
   ]
  },
  {
   "cell_type": "code",
   "execution_count": 26,
   "metadata": {},
   "outputs": [
    {
     "data": {
      "text/plain": [
       "OrderedDict([('사용자정보',\n",
       "              OrderedDict([('이름', '홍길동'),\n",
       "                           ('나이', '25'),\n",
       "                           ('거주지', '서울'),\n",
       "                           ('신체정보',\n",
       "                            OrderedDict([('키', '175.4'), ('몸무게', '71.2')])),\n",
       "                           ('취미', ['등산', '자전거타기', '독서'])]))])"
      ]
     },
     "execution_count": 26,
     "metadata": {},
     "output_type": "execute_result"
    }
   ],
   "source": [
    "import xmltodict\n",
    "\n",
    "dict_data = xmltodict.parse(xml_data, xml_attribs=False)\n",
    "dict_data"
   ]
  },
  {
   "cell_type": "code",
   "execution_count": 20,
   "metadata": {},
   "outputs": [
    {
     "data": {
      "text/plain": [
       "'홍길동'"
      ]
     },
     "execution_count": 20,
     "metadata": {},
     "output_type": "execute_result"
    }
   ],
   "source": [
    "dict_data['사용자정보']['이름']"
   ]
  },
  {
   "cell_type": "code",
   "execution_count": 29,
   "metadata": {
    "scrolled": true
   },
   "outputs": [
    {
     "data": {
      "text/plain": [
       "'kg'"
      ]
     },
     "execution_count": 29,
     "metadata": {},
     "output_type": "execute_result"
    }
   ],
   "source": [
    "dict_data['사용자정보']['신체정보']['몸무게']['@unit']"
   ]
  },
  {
   "cell_type": "code",
   "execution_count": 36,
   "metadata": {},
   "outputs": [
    {
     "data": {
      "text/plain": [
       "OrderedDict([('사용자정보',\n",
       "              OrderedDict([('이름', '홍길동'),\n",
       "                           ('신체정보',\n",
       "                            OrderedDict([('키',\n",
       "                                          OrderedDict([('@unit', 'cm'),\n",
       "                                                       ('#text', '175.4')])),\n",
       "                                         ('몸무게',\n",
       "                                          OrderedDict([('@unit', 'kg'),\n",
       "                                                       ('#text', '71.2')]))])),\n",
       "                           ('거주지', '서울'),\n",
       "                           ('나이', '25'),\n",
       "                           ('취미', ['등산', '독서', '자전거타기'])]))])"
      ]
     },
     "execution_count": 36,
     "metadata": {},
     "output_type": "execute_result"
    }
   ],
   "source": [
    "import xmltodict  # 항목 순서 변경\n",
    "\n",
    "xml_data2 = \"\"\"<?xml version=\"1.0\" encoding=\"UTF-8\" ?>\n",
    "<사용자정보>\n",
    "    <이름>홍길동</이름>\n",
    "    <신체정보>\n",
    "        <키 unit=\"cm\">175.4</키>\n",
    "        <몸무게 unit=\"kg\">71.2</몸무게>\n",
    "    </신체정보>\n",
    "    <거주지>서울</거주지>\n",
    "    <나이>25</나이>    \n",
    "    <취미>등산</취미>\n",
    "    <취미>독서</취미>\n",
    "    <취미>자전거타기</취미>\n",
    "</사용자정보> \n",
    "\"\"\"\n",
    "\n",
    "dict_data2 = xmltodict.parse(xml_data2, xml_attribs=True)\n",
    "dict_data2"
   ]
  },
  {
   "cell_type": "code",
   "execution_count": 41,
   "metadata": {},
   "outputs": [
    {
     "name": "stdout",
     "output_type": "stream",
     "text": [
      "OrderedDict([('사용자정보', OrderedDict([('이름', '홍길동'), ('신체정보', OrderedDict([('키', OrderedDict([('@unit', 'cm'), ('#text', '175.4')])), ('몸무게', OrderedDict([('@unit', 'kg'), ('#text', '71.2')]))])), ('거주지', '서울'), ('나이', '25'), ('취미', ['등산', '독서', '자전거타기'])]))])\n"
     ]
    },
    {
     "data": {
      "text/plain": [
       "collections.OrderedDict"
      ]
     },
     "execution_count": 41,
     "metadata": {},
     "output_type": "execute_result"
    }
   ],
   "source": [
    "print(dict_data2)\n",
    "type(dict_data2)"
   ]
  },
  {
   "cell_type": "markdown",
   "metadata": {},
   "source": [
    "## 웹 사이트 주소에 부가 정보 추가하기"
   ]
  },
  {
   "cell_type": "code",
   "execution_count": 42,
   "metadata": {},
   "outputs": [
    {
     "name": "stdout",
     "output_type": "stream",
     "text": [
      "https://api.github.com/events\n"
     ]
    }
   ],
   "source": [
    "base_url = 'https://api.github.com/'\n",
    "sub_dir = 'events'\n",
    "url = base_url + sub_dir\n",
    "print(url)    "
   ]
  },
  {
   "cell_type": "code",
   "execution_count": 43,
   "metadata": {},
   "outputs": [
    {
     "name": "stdout",
     "output_type": "stream",
     "text": [
      "https://api.github.com/events\n",
      "https://api.github.com/user\n",
      "https://api.github.com/emails\n"
     ]
    }
   ],
   "source": [
    "import requests\n",
    "\n",
    "base_url = 'https://api.github.com/'\n",
    "sub_dirs = ['events', 'user','emails']\n",
    "\n",
    "for sub_dir in sub_dirs:\n",
    "    url_dir = base_url + sub_dir\n",
    "    r = requests.get(url_dir)\n",
    "    print(r.url)"
   ]
  },
  {
   "cell_type": "code",
   "execution_count": 44,
   "metadata": {},
   "outputs": [
    {
     "name": "stdout",
     "output_type": "stream",
     "text": [
      "http://api.openweathermap.org/data/2.5/weather?lat=37.57&lon=126.98&api_key=b235c57pc357fb68acr1e81&unit=metric\n"
     ]
    }
   ],
   "source": [
    "# 매개 변수 추가하기 : 문자열\n",
    "\n",
    "import requests\n",
    "\n",
    "LAT = '37.57'\n",
    "LON = '126.98'\n",
    "API_KEY = 'b235c57pc357fb68acr1e81'\n",
    "UNIT = 'metric'\n",
    "\n",
    "site_url = 'http://api.openweathermap.org/data/2.5/weather'\n",
    "parameter = '?lat=%s&lon=%s&api_key=%s&unit=%s'%(LAT, LON, API_KEY, UNIT)\n",
    "url_para = site_url + parameter\n",
    "r = requests.get(url_para)\n",
    "\n",
    "print(r.url)  # 잘못된 API 키를 가져서 오류남."
   ]
  },
  {
   "cell_type": "code",
   "execution_count": 46,
   "metadata": {},
   "outputs": [
    {
     "name": "stdout",
     "output_type": "stream",
     "text": [
      "http://api.openweathermap.org/data/2.5/weather?lat=37.57&lon=126.98&appid=b235c57pc357fb68acr1e81&units=metric\n"
     ]
    }
   ],
   "source": [
    "# 매개 변수 추가하기 : 딕셔너리\n",
    "\n",
    "import requests\n",
    "\n",
    "LAT = '37.57'\n",
    "LON = '126.98'\n",
    "API_KEY = 'b235c57pc357fb68acr1e81'\n",
    "UNIT = 'metric'\n",
    "\n",
    "req_url = 'http://api.openweathermap.org/data/2.5/weather'\n",
    "req_parameter = {'lat':LAT, 'lon': LON, 'appid': API_KEY, 'units': UNIT}\n",
    "r = requests.get(req_url,params=req_parameter)\n",
    "print(r.url)"
   ]
  },
  {
   "cell_type": "markdown",
   "metadata": {},
   "source": [
    "### 웹사이트 주소의 인코딩과 디코딩\n",
    "\n",
    "- 인코딩된 API키를 디코딩 : requests.utils.unquote()\n",
    "\n",
    "#### * API키에 URL인코딩된 문자열이 포함되어 있으면 반드시 이 문자열을 디코딩한 후 'requests.get(url, params=req_parameter)'의 인자로 이용"
   ]
  },
  {
   "cell_type": "code",
   "execution_count": 47,
   "metadata": {},
   "outputs": [
    {
     "name": "stdout",
     "output_type": "stream",
     "text": [
      "Encoded url: et5piq3pfpqLEWPpCbvtSQ%2Bertertg%2Bx3evdvbaRBvhWEerg3efac2r3f3RfhDTERTw%2B9rkvoewRV%2Fovmrk3dq%3D%3D\n",
      "Decoded url: et5piq3pfpqLEWPpCbvtSQ+ertertg+x3evdvbaRBvhWEerg3efac2r3f3RfhDTERTw+9rkvoewRV/ovmrk3dq==\n"
     ]
    }
   ],
   "source": [
    "import requests\n",
    "\n",
    "API_KEY = \"et5piq3pfpqLEWPpCbvtSQ%2Bertertg%2Bx3evdvbaRBvhWEerg3efac2r3f3RfhDTERTw%2B9rkvoewRV%2Fovmrk3dq%3D%3D\"\n",
    "\n",
    "API_KEY_decode = requests.utils.unquote(API_KEY)\n",
    "\n",
    "print(\"Encoded url:\", API_KEY)\n",
    "print(\"Decoded url:\", API_KEY_decode)"
   ]
  },
  {
   "cell_type": "code",
   "execution_count": 48,
   "metadata": {},
   "outputs": [
    {
     "name": "stdout",
     "output_type": "stream",
     "text": [
      "http://openapi.airkorea.or.kr/openapi/services/rest/MsrstnInfoInqireSvc/getNearbyMsrstnList?ServiceKey=et5piq3pfpqLEWPpCbvtSQ%2Bertertg%2Bx3evdvbaRBvhWEerg3efac2r3f3RfhDTERTw%2B9rkvoewRV%2Fovmrk3dq%3D%3D&tmX=244148.546388&tmY=412423.75772\n"
     ]
    }
   ],
   "source": [
    "req_url = \"http://openapi.airkorea.or.kr/openapi/services/rest/MsrstnInfoInqireSvc/getNearbyMsrstnList\"\n",
    "\n",
    "tm_x = 244148.546388\n",
    "tm_y = 412423.75772\n",
    "\n",
    "# 디코딩된 API 키를 사용\n",
    "req_parameter = {\"ServiceKey\":API_KEY_decode, \"tmX\":tm_x, \"tmY\":tm_y}\n",
    "\n",
    "r = requests.get(req_url,  params = req_parameter)\n",
    "print(r.url)"
   ]
  },
  {
   "cell_type": "code",
   "execution_count": 49,
   "metadata": {
    "scrolled": true
   },
   "outputs": [
    {
     "name": "stdout",
     "output_type": "stream",
     "text": [
      "http://openapi.airkorea.or.kr/openapi/services/rest/MsrstnInfoInqireSvc/getNearbyMsrstnList?ServiceKey=et5piq3pfpqLEWPpCbvtSQ%252Bertertg%252Bx3evdvbaRBvhWEerg3efac2r3f3RfhDTERTw%252B9rkvoewRV%252Fovmrk3dq%253D%253D&tmX=244148.546388&tmY=412423.75772\n"
     ]
    }
   ],
   "source": [
    "# 인코딩된 API 키를 사용\n",
    "\n",
    "req_parameter = {'ServiceKey':API_KEY, 'tmX':tm_x, 'tmY':tm_y}\n",
    "\n",
    "r = requests.get(req_url, params = req_parameter)\n",
    "print(r.url)"
   ]
  },
  {
   "cell_type": "markdown",
   "metadata": {},
   "source": [
    "### 우주 정거장 정보 가져오기"
   ]
  },
  {
   "cell_type": "code",
   "execution_count": 51,
   "metadata": {},
   "outputs": [
    {
     "data": {
      "text/plain": [
       "{'iss_position': {'latitude': '-36.8842', 'longitude': '72.2428'},\n",
       " 'timestamp': 1565146679,\n",
       " 'message': 'success'}"
      ]
     },
     "execution_count": 51,
     "metadata": {},
     "output_type": "execute_result"
    }
   ],
   "source": [
    "import requests\n",
    "\n",
    "url = 'http://api.open-notify.org/iss-now.json'\n",
    "\n",
    "json_to_dict = requests.get(url).json()\n",
    "json_to_dict"
   ]
  },
  {
   "cell_type": "code",
   "execution_count": 54,
   "metadata": {},
   "outputs": [
    {
     "name": "stdout",
     "output_type": "stream",
     "text": [
      "{'latitude': '-36.8842', 'longitude': '72.2428'}\n",
      "-36.8842\n",
      "1565146679\n",
      "success\n"
     ]
    }
   ],
   "source": [
    "print(json_to_dict['iss_position'])\n",
    "print(json_to_dict['iss_position']['latitude'])\n",
    "print(json_to_dict['timestamp'])\n",
    "print(json_to_dict['message'])"
   ]
  },
  {
   "cell_type": "code",
   "execution_count": 55,
   "metadata": {},
   "outputs": [
    {
     "name": "stdout",
     "output_type": "stream",
     "text": [
      "{'latitude': '-25.9303', 'longitude': '85.0047'}\n",
      "{'latitude': '-25.4610', 'longitude': '85.4574'}\n",
      "{'latitude': '-24.9663', 'longitude': '85.9287'}\n",
      "{'latitude': '-24.4937', 'longitude': '86.3737'}\n",
      "{'latitude': '-23.9956', 'longitude': '86.8370'}\n",
      "{'latitude': '-23.5198', 'longitude': '87.2745'}\n",
      "{'latitude': '-23.0186', 'longitude': '87.7302'}\n",
      "{'latitude': '-22.5398', 'longitude': '88.1608'}\n",
      "{'latitude': '-22.0356', 'longitude': '88.6094'}\n",
      "{'latitude': '-21.5299', 'longitude': '89.0545'}\n",
      "{'latitude': '-21.0470', 'longitude': '89.4753'}\n",
      "{'latitude': '-20.5385', 'longitude': '89.9138'}\n",
      "{'latitude': '-20.0531', 'longitude': '90.3285'}\n",
      "{'latitude': '-19.5421', 'longitude': '90.7609'}\n",
      "{'latitude': '-19.0543', 'longitude': '91.1699'}\n",
      "{'latitude': '-18.5410', 'longitude': '91.5964'}\n",
      "{'latitude': '-18.0510', 'longitude': '92.0001'}\n",
      "{'latitude': '-17.5354', 'longitude': '92.4212'}\n",
      "{'latitude': '-17.0433', 'longitude': '92.8199'}\n",
      "{'latitude': '-16.5256', 'longitude': '93.2360'}\n"
     ]
    }
   ],
   "source": [
    "import requests\n",
    "import time\n",
    "\n",
    "url = 'http://api.open-notify.org/iss-now.json'\n",
    "\n",
    "def ISS_Position(iss_position_api_url):\n",
    "    json_to_dict = requests.get(iss_position_api_url).json()\n",
    "    return json_to_dict['iss_position']\n",
    "\n",
    "for k in range(20):  \n",
    "    print(ISS_Position(url))\n",
    "    time.sleep(10)  # 10초마다 가져오기"
   ]
  },
  {
   "cell_type": "code",
   "execution_count": 56,
   "metadata": {
    "scrolled": true
   },
   "outputs": [
    {
     "name": "stdout",
     "output_type": "stream",
     "text": [
      "{'latitude': '-12.1755', 'longitude': '96.6164'}\n",
      "{'latitude': '-11.6498', 'longitude': '97.0129'}\n",
      "end\n"
     ]
    }
   ],
   "source": [
    "import requests\n",
    "import time\n",
    "\n",
    "url = 'http://api.open-notify.org/iss-now.json'\n",
    "\n",
    "def ISS_Position(iss_position_api_url):\n",
    "    json_to_dict = requests.get(iss_position_api_url).json()\n",
    "    return json_to_dict['iss_position']\n",
    "\n",
    "for k in range(2):  \n",
    "    print(ISS_Position(url))\n",
    "    time.sleep(10)  # 10초마다 가져오기\n",
    "print('end')"
   ]
  },
  {
   "cell_type": "markdown",
   "metadata": {},
   "source": [
    "### 국가 정보 가져오기"
   ]
  },
  {
   "cell_type": "code",
   "execution_count": 62,
   "metadata": {},
   "outputs": [
    {
     "data": {
      "text/plain": [
       "[{'name': 'South Korea',\n",
       "  'topLevelDomain': ['.kr'],\n",
       "  'alpha2Code': 'KR',\n",
       "  'alpha3Code': 'KOR',\n",
       "  'callingCodes': ['82'],\n",
       "  'capital': 'Seoul',\n",
       "  'altSpellings': ['KR', 'Republic of Korea'],\n",
       "  'region': 'Asia',\n",
       "  'subregion': 'Eastern Asia',\n",
       "  'population': 51448183,\n",
       "  'latlng': [37.0, 127.5],\n",
       "  'demonym': 'South Korean',\n",
       "  'area': 100210.0,\n",
       "  'gini': 31.3,\n",
       "  'timezones': ['UTC+09:00'],\n",
       "  'borders': ['PRK'],\n",
       "  'nativeName': '대한민국',\n",
       "  'numericCode': '410',\n",
       "  'currencies': ['KRW'],\n",
       "  'languages': ['ko'],\n",
       "  'translations': {'de': 'Südkorea',\n",
       "   'es': 'Corea del Sur',\n",
       "   'fr': 'Corée du Sud',\n",
       "   'ja': '大韓民国',\n",
       "   'it': 'Corea del Sud'},\n",
       "  'relevance': '1.5'}]"
      ]
     },
     "execution_count": 62,
     "metadata": {},
     "output_type": "execute_result"
    }
   ],
   "source": [
    "import requests\n",
    "\n",
    "url_temp = 'https://restcountries.eu/rest/v1/name/'\n",
    "country = 'South Korea'\n",
    "url = url_temp + country\n",
    "\n",
    "json_to_list = requests.get(url).json()\n",
    "json_to_list"
   ]
  },
  {
   "cell_type": "code",
   "execution_count": 69,
   "metadata": {},
   "outputs": [
    {
     "data": {
      "text/plain": [
       "'Seoul'"
      ]
     },
     "execution_count": 69,
     "metadata": {},
     "output_type": "execute_result"
    }
   ],
   "source": [
    "json_to_list[0]['capital']"
   ]
  },
  {
   "cell_type": "code",
   "execution_count": 64,
   "metadata": {},
   "outputs": [
    {
     "name": "stdout",
     "output_type": "stream",
     "text": [
      "*South Korea:Seoul\n",
      "*United States of America:Washington, D.C.\n",
      "*United Kingdom:London\n",
      "*France:Paris\n",
      "*Germany:Berlin\n"
     ]
    }
   ],
   "source": [
    "import requests\n",
    "import json\n",
    "\n",
    "countries = ['South Korea', 'United States of America', 'United Kingdom', 'France', 'Germany']\n",
    "\n",
    "def country_to_capital(country):\n",
    "    url_temp = 'https://restcountries.eu/rest/v1/name/'\n",
    "    url = url_temp + country\n",
    "    json_to_list = requests.get(url).json()\n",
    "    return json_to_list[0]['capital']\n",
    "\n",
    "for country in countries:\n",
    "    capital = country_to_capital(country)\n",
    "    print('*{0}:{1}'.format(country, capital))"
   ]
  },
  {
   "cell_type": "markdown",
   "metadata": {},
   "source": [
    "### 주소 및 우편번호 가져오기(공공데이터)"
   ]
  },
  {
   "cell_type": "code",
   "execution_count": 71,
   "metadata": {},
   "outputs": [
    {
     "data": {
      "text/plain": [
       "'6vWs3/gdNz5zgq9l/dggrvgDBcw0u/pUFN8vDwkvsnRGyMH+7q2d5rpYiwlUsteT3ooTYg0tY98bhlGXSWiTsQ=='"
      ]
     },
     "execution_count": 71,
     "metadata": {},
     "output_type": "execute_result"
    }
   ],
   "source": [
    "import requests\n",
    "\n",
    "API_KEY = '6vWs3%2FgdNz5zgq9l%2FdggrvgDBcw0u%2FpUFN8vDwkvsnRGyMH%2B7q2d5rpYiwlUsteT3ooTYg0tY98bhlGXSWiTsQ%3D%3D'\n",
    "API_KEY_decode = requests.utils.unquote(API_KEY)\n",
    "API_KEY_decode"
   ]
  },
  {
   "cell_type": "code",
   "execution_count": 77,
   "metadata": {},
   "outputs": [
    {
     "name": "stdout",
     "output_type": "stream",
     "text": [
      "<?xml version=\"1.0\" encoding=\"UTF-8\" standalone=\"yes\"?><NewAddressListResponse><cmmMsgHeader><requestMsgId></requestMsgId><responseMsgId></responseMsgId><responseTime>20190807:160056273</responseTime><successYN>Y</successYN><returnCode>00</returnCode><errMsg></errMsg><totalCount>1</totalCount><countPerPage>10</countPerPage><totalPage>1</totalPage><currentPage></currentPage></cmmMsgHeader><newAddressListAreaCd><zipNo>06579</zipNo><lnmAdres>서울특별시 서초구 반포대로 201 (반포동, 국립중앙도서관)</lnmAdres><rnAdres>서울특별시 서초구 반포동 산60-1 국립중앙도서관</rnAdres></newAddressListAreaCd></NewAddressListResponse>\n"
     ]
    }
   ],
   "source": [
    "req_url = 'http://openapi.epost.go.kr/postal/retrieveNewAdressAreaCdService/retrieveNewAdressAreaCdService/getNewAddressListAreaCd'\n",
    "\n",
    "search_Se = 'road'\n",
    "srch_wrd = '반포대로 201'\n",
    "\n",
    "req_parameter = {'ServiceKey': API_KEY_decode, 'searchSe':search_Se, 'srchwrd':srch_wrd}\n",
    "r = requests.get(req_url, params = req_parameter)\n",
    "xml_data = r.text\n",
    "print(xml_data)  # xml 문서로 불러와짐."
   ]
  },
  {
   "cell_type": "code",
   "execution_count": 80,
   "metadata": {},
   "outputs": [
    {
     "data": {
      "text/plain": [
       "OrderedDict([('NewAddressListResponse',\n",
       "              OrderedDict([('cmmMsgHeader',\n",
       "                            OrderedDict([('requestMsgId', None),\n",
       "                                         ('responseMsgId', None),\n",
       "                                         ('responseTime',\n",
       "                                          '20190807:160056273'),\n",
       "                                         ('successYN', 'Y'),\n",
       "                                         ('returnCode', '00'),\n",
       "                                         ('errMsg', None),\n",
       "                                         ('totalCount', '1'),\n",
       "                                         ('countPerPage', '10'),\n",
       "                                         ('totalPage', '1'),\n",
       "                                         ('currentPage', None)])),\n",
       "                           ('newAddressListAreaCd',\n",
       "                            OrderedDict([('zipNo', '06579'),\n",
       "                                         ('lnmAdres',\n",
       "                                          '서울특별시 서초구 반포대로 201 (반포동, 국립중앙도서관)'),\n",
       "                                         ('rnAdres',\n",
       "                                          '서울특별시 서초구 반포동 산60-1 국립중앙도서관')]))]))])"
      ]
     },
     "execution_count": 80,
     "metadata": {},
     "output_type": "execute_result"
    }
   ],
   "source": [
    "import xmltodict\n",
    "\n",
    "dict_data = xmltodict.parse(xml_data)\n",
    "dict_data"
   ]
  },
  {
   "cell_type": "code",
   "execution_count": 84,
   "metadata": {},
   "outputs": [
    {
     "name": "stdout",
     "output_type": "stream",
     "text": [
      "[입력한 도로명 주소] 반포대로 201\n",
      "[응답 데이터에서 추추한 결과]\n",
      "- 우편번호 06579\n",
      "- 도로명 주소: 서울특별시 서초구 반포대로 201 (반포동, 국립중앙도서관)\n",
      "- 지번 주소: 서울특별시 서초구 반포동 산60-1 국립중앙도서관\n"
     ]
    }
   ],
   "source": [
    "address_list = dict_data['NewAddressListResponse']['newAddressListAreaCd']\n",
    "\n",
    "print('[입력한 도로명 주소]', srch_wrd)\n",
    "print('[응답 데이터에서 추추한 결과]')\n",
    "print('- 우편번호', address_list['zipNo'])\n",
    "print('- 도로명 주소:', address_list['lnmAdres'])\n",
    "print('- 지번 주소:', address_list['rnAdres'])"
   ]
  },
  {
   "cell_type": "markdown",
   "metadata": {},
   "source": [
    "1. API key 불러오기 / 디코딩\n",
    "2. 불러올 데이터 url / 정보 정의\n",
    "3. 딕셔너리로 구성\n",
    "4. 필요한 데이터 가공"
   ]
  },
  {
   "cell_type": "code",
   "execution_count": 95,
   "metadata": {},
   "outputs": [
    {
     "data": {
      "text/plain": [
       "OrderedDict([('NewAddressListResponse',\n",
       "              OrderedDict([('cmmMsgHeader',\n",
       "                            OrderedDict([('requestMsgId', None),\n",
       "                                         ('responseMsgId', None),\n",
       "                                         ('responseTime',\n",
       "                                          '20190807:164854142'),\n",
       "                                         ('successYN', 'Y'),\n",
       "                                         ('returnCode', '00'),\n",
       "                                         ('errMsg', None),\n",
       "                                         ('totalCount', '1'),\n",
       "                                         ('countPerPage', '10'),\n",
       "                                         ('totalPage', '1'),\n",
       "                                         ('currentPage', None)])),\n",
       "                           ('newAddressListAreaCd',\n",
       "                            OrderedDict([('zipNo', '06220'),\n",
       "                                         ('lnmAdres',\n",
       "                                          '서울특별시 강남구 테헤란로 212 (역삼동, 멀티캠퍼스)'),\n",
       "                                         ('rnAdres',\n",
       "                                          '서울특별시 강남구 역삼동 718-5 멀티캠퍼스')]))]))])"
      ]
     },
     "execution_count": 95,
     "metadata": {},
     "output_type": "execute_result"
    }
   ],
   "source": [
    "import requests\n",
    "import xmltodict\n",
    "\n",
    "API_KEY = '6vWs3%2FgdNz5zgq9l%2FdggrvgDBcw0u%2FpUFN8vDwkvsnRGyMH%2B7q2d5rpYiwlUsteT3ooTYg0tY98bhlGXSWiTsQ%3D%3D'\n",
    "API_KEY_decode = requests.utils.unquote(API_KEY)\n",
    "\n",
    "req_url1 = 'http://openapi.epost.go.kr/postal/retrieveNewAdressAreaCdService/retrieveNewAdressAreaCdService/getNewAddressListAreaCd'\n",
    "\n",
    "search_Se = 'road'\n",
    "srch_wrd = '테헤란로 212'\n",
    "\n",
    "req_parameters = {'ServiceKey': API_KEY_decode, 'searchSe': search_Se, 'srchwrd': srch_wrd}\n",
    "r = requests.get(req_url1, params = req_parameters)\n",
    "xml_data1= r.text\n",
    "\n",
    "dict_data1 = xmltodict.parse(xml_data1)\n",
    "dict_data1"
   ]
  },
  {
   "cell_type": "code",
   "execution_count": 96,
   "metadata": {},
   "outputs": [
    {
     "name": "stdout",
     "output_type": "stream",
     "text": [
      "[입력한 도로명 주소:] 테헤란로 212\n",
      "[응답 데이터에서 추출한 결과]\n",
      "- 우편번호 : 06220\n",
      "- 도로명 주소 : 서울특별시 강남구 테헤란로 212 (역삼동, 멀티캠퍼스)\n",
      "- 지번 주소 : 서울특별시 강남구 역삼동 718-5 멀티캠퍼스\n"
     ]
    }
   ],
   "source": [
    "address_list = dict_data1['NewAddressListResponse']['newAddressListAreaCd']\n",
    "\n",
    "print('[입력한 도로명 주소:]', srch_wrd)\n",
    "print('[응답 데이터에서 추출한 결과]')\n",
    "print('- 우편번호 :', address_list['zipNo'])\n",
    "print('- 도로명 주소 :', address_list['lnmAdres'])\n",
    "print('- 지번 주소 :', address_list['rnAdres'])     \n",
    "      "
   ]
  }
 ],
 "metadata": {
  "kernelspec": {
   "display_name": "Python 3",
   "language": "python",
   "name": "python3"
  },
  "language_info": {
   "codemirror_mode": {
    "name": "ipython",
    "version": 3
   },
   "file_extension": ".py",
   "mimetype": "text/x-python",
   "name": "python",
   "nbconvert_exporter": "python",
   "pygments_lexer": "ipython3",
   "version": "3.6.8"
  }
 },
 "nbformat": 4,
 "nbformat_minor": 2
}
