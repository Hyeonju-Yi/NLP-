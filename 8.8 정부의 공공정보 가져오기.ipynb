{
 "cells": [
  {
   "cell_type": "markdown",
   "metadata": {},
   "source": [
    "## 날씨 정보 가져오기"
   ]
  },
  {
   "cell_type": "code",
   "execution_count": 101,
   "metadata": {},
   "outputs": [
    {
     "data": {
      "text/plain": [
       "'Lh/D6Mdj6gOEbTuoFWNOe3HDgiZw15pSaQlE8XJ9cLQGLGAxzLUfVJedmBeEzozv7Q1ixZVSgvCU6t5mRJf8Gw=='"
      ]
     },
     "execution_count": 101,
     "metadata": {},
     "output_type": "execute_result"
    }
   ],
   "source": [
    "import requests\n",
    "\n",
    "API_KEY = 'Lh%2FD6Mdj6gOEbTuoFWNOe3HDgiZw15pSaQlE8XJ9cLQGLGAxzLUfVJedmBeEzozv7Q1ixZVSgvCU6t5mRJf8Gw%3D%3D'\n",
    "\n",
    "API_KEY_decode = requests.utils.unquote(API_KEY)\n",
    "API_KEY_decode"
   ]
  },
  {
   "cell_type": "markdown",
   "metadata": {},
   "source": [
    "### 초단기 실황 조회"
   ]
  },
  {
   "cell_type": "code",
   "execution_count": 102,
   "metadata": {},
   "outputs": [
    {
     "data": {
      "text/plain": [
       "{'response': {'header': {'resultCode': '0000', 'resultMsg': 'OK'},\n",
       "  'body': {'items': {'item': [{'baseDate': 20190808,\n",
       "      'baseTime': 1500,\n",
       "      'category': 'PTY',\n",
       "      'nx': 60,\n",
       "      'ny': 127,\n",
       "      'obsrValue': 0},\n",
       "     {'baseDate': 20190808,\n",
       "      'baseTime': 1500,\n",
       "      'category': 'REH',\n",
       "      'nx': 60,\n",
       "      'ny': 127,\n",
       "      'obsrValue': 59},\n",
       "     {'baseDate': 20190808,\n",
       "      'baseTime': 1500,\n",
       "      'category': 'RN1',\n",
       "      'nx': 60,\n",
       "      'ny': 127,\n",
       "      'obsrValue': 0},\n",
       "     {'baseDate': 20190808,\n",
       "      'baseTime': 1500,\n",
       "      'category': 'T1H',\n",
       "      'nx': 60,\n",
       "      'ny': 127,\n",
       "      'obsrValue': 32.4},\n",
       "     {'baseDate': 20190808,\n",
       "      'baseTime': 1500,\n",
       "      'category': 'UUU',\n",
       "      'nx': 60,\n",
       "      'ny': 127,\n",
       "      'obsrValue': 2.6},\n",
       "     {'baseDate': 20190808,\n",
       "      'baseTime': 1500,\n",
       "      'category': 'VEC',\n",
       "      'nx': 60,\n",
       "      'ny': 127,\n",
       "      'obsrValue': 266}]},\n",
       "   'numOfRows': 6,\n",
       "   'pageNo': 1,\n",
       "   'totalCount': 8}}}"
      ]
     },
     "execution_count": 102,
     "metadata": {},
     "output_type": "execute_result"
    }
   ],
   "source": [
    "import json\n",
    "import datetime\n",
    "\n",
    "now = datetime.datetime.now()\n",
    "date = '{:%Y%m%d}'.format(now)\n",
    "time = '{:%H00}'.format(now)\n",
    "\n",
    "\n",
    "\n",
    "if(now.minute >= 30):\n",
    "    time = '{0}00'.format(now.hour)\n",
    "else:\n",
    "    time = '{0}00'.format(now.hour-1)\n",
    "\n",
    "req_url = 'http://newsky2.kma.go.kr/service/SecndSrtpdFrcstInfoService2/ForecastGrib'\n",
    "\n",
    "baseDate = date\n",
    "baseTime = time\n",
    "\n",
    "nx_val = 60\n",
    "ny_val = 127\n",
    "\n",
    "num_of_rows = 6\n",
    "page_no = 1\n",
    "\n",
    "output_type = 'json'\n",
    "\n",
    "req_parameter = {\"ServiceKey\":API_KEY_decode, \n",
    "                 \"nx\":nx_val, \"ny\": ny_val, \n",
    "                 \"base_date\":baseDate, \"base_time\":baseTime, \n",
    "                 \"pageNo\":page_no, \"numOfRows\":num_of_rows, \n",
    "                 \"_type\":output_type}\n",
    "\n",
    "\n",
    "r = requests.get(req_url, params = req_parameter)\n",
    "\n",
    "dict_data = r.json()\n",
    "dict_data"
   ]
  },
  {
   "cell_type": "code",
   "execution_count": 104,
   "metadata": {},
   "outputs": [
    {
     "name": "stdout",
     "output_type": "stream",
     "text": [
      "[발표 날짜: 20190808 ]\n",
      "[발표 시간: 1500 ]\n",
      "* 강수: 없음\n",
      "* 습도: 60 퍼센트\n",
      "* 기온: 31.3도\n"
     ]
    }
   ],
   "source": [
    "weather_itmes = dict_data['response']['body']['items']['item']\n",
    "\n",
    "sky_cond = ['맑음', '구름 조금', '구름 많음', '흐림']\n",
    "rain_type = ['없음', '비', '진눈깨비', '눈']\n",
    "\n",
    "print('[발표 날짜: {} ]'.format(weather_itmes[0]['baseDate']))\n",
    "print('[발표 시간: {} ]'.format(weather_itmes[0]['baseTime']))\n",
    "\n",
    "for k in range(len(weather_itmes)):\n",
    "    weather_item = weather_items[k]\n",
    "    obsrValue = weather_item['obsrValue']\n",
    "    if(weather_item['category'] == 'T1H'):\n",
    "        print('* 기온: {}도'.format(obsrValue))\n",
    "    elif(weather_item['category'] == 'REH'):\n",
    "        print('* 습도: {} 퍼센트'.format(obsrValue))\n",
    "    elif(weather_item['category'] == 'SKY'):\n",
    "        print('* 하늘: {}'.format(sky_cond[obsrValue-1]))\n",
    "    elif(weather_item['category'] =='PTY') :\n",
    "        print('* 강수: {}'.format(rain_type[obsrValue]))"
   ]
  },
  {
   "cell_type": "markdown",
   "metadata": {},
   "source": [
    "### 일기 예보 조회"
   ]
  },
  {
   "cell_type": "code",
   "execution_count": 105,
   "metadata": {},
   "outputs": [
    {
     "data": {
      "text/plain": [
       "{'response': {'header': {'resultCode': '0000', 'resultMsg': 'OK'},\n",
       "  'body': {'items': {'item': [{'baseDate': 20190808,\n",
       "      'baseTime': 1530,\n",
       "      'category': 'LGT',\n",
       "      'fcstDate': 20190808,\n",
       "      'fcstTime': 1600,\n",
       "      'fcstValue': 0,\n",
       "      'nx': 61,\n",
       "      'ny': 125},\n",
       "     {'baseDate': 20190808,\n",
       "      'baseTime': 1530,\n",
       "      'category': 'LGT',\n",
       "      'fcstDate': 20190808,\n",
       "      'fcstTime': 1700,\n",
       "      'fcstValue': 0,\n",
       "      'nx': 61,\n",
       "      'ny': 125},\n",
       "     {'baseDate': 20190808,\n",
       "      'baseTime': 1530,\n",
       "      'category': 'LGT',\n",
       "      'fcstDate': 20190808,\n",
       "      'fcstTime': 1800,\n",
       "      'fcstValue': 0,\n",
       "      'nx': 61,\n",
       "      'ny': 125},\n",
       "     {'baseDate': 20190808,\n",
       "      'baseTime': 1530,\n",
       "      'category': 'PTY',\n",
       "      'fcstDate': 20190808,\n",
       "      'fcstTime': 1600,\n",
       "      'fcstValue': 0,\n",
       "      'nx': 61,\n",
       "      'ny': 125},\n",
       "     {'baseDate': 20190808,\n",
       "      'baseTime': 1530,\n",
       "      'category': 'PTY',\n",
       "      'fcstDate': 20190808,\n",
       "      'fcstTime': 1700,\n",
       "      'fcstValue': 0,\n",
       "      'nx': 61,\n",
       "      'ny': 125},\n",
       "     {'baseDate': 20190808,\n",
       "      'baseTime': 1530,\n",
       "      'category': 'PTY',\n",
       "      'fcstDate': 20190808,\n",
       "      'fcstTime': 1800,\n",
       "      'fcstValue': 0,\n",
       "      'nx': 61,\n",
       "      'ny': 125},\n",
       "     {'baseDate': 20190808,\n",
       "      'baseTime': 1530,\n",
       "      'category': 'RN1',\n",
       "      'fcstDate': 20190808,\n",
       "      'fcstTime': 1600,\n",
       "      'fcstValue': 0,\n",
       "      'nx': 61,\n",
       "      'ny': 125},\n",
       "     {'baseDate': 20190808,\n",
       "      'baseTime': 1530,\n",
       "      'category': 'RN1',\n",
       "      'fcstDate': 20190808,\n",
       "      'fcstTime': 1700,\n",
       "      'fcstValue': 0,\n",
       "      'nx': 61,\n",
       "      'ny': 125},\n",
       "     {'baseDate': 20190808,\n",
       "      'baseTime': 1530,\n",
       "      'category': 'RN1',\n",
       "      'fcstDate': 20190808,\n",
       "      'fcstTime': 1800,\n",
       "      'fcstValue': 0,\n",
       "      'nx': 61,\n",
       "      'ny': 125},\n",
       "     {'baseDate': 20190808,\n",
       "      'baseTime': 1530,\n",
       "      'category': 'SKY',\n",
       "      'fcstDate': 20190808,\n",
       "      'fcstTime': 1600,\n",
       "      'fcstValue': 4,\n",
       "      'nx': 61,\n",
       "      'ny': 125},\n",
       "     {'baseDate': 20190808,\n",
       "      'baseTime': 1530,\n",
       "      'category': 'SKY',\n",
       "      'fcstDate': 20190808,\n",
       "      'fcstTime': 1700,\n",
       "      'fcstValue': 4,\n",
       "      'nx': 61,\n",
       "      'ny': 125},\n",
       "     {'baseDate': 20190808,\n",
       "      'baseTime': 1530,\n",
       "      'category': 'SKY',\n",
       "      'fcstDate': 20190808,\n",
       "      'fcstTime': 1800,\n",
       "      'fcstValue': 4,\n",
       "      'nx': 61,\n",
       "      'ny': 125},\n",
       "     {'baseDate': 20190808,\n",
       "      'baseTime': 1530,\n",
       "      'category': 'T1H',\n",
       "      'fcstDate': 20190808,\n",
       "      'fcstTime': 1600,\n",
       "      'fcstValue': 32,\n",
       "      'nx': 61,\n",
       "      'ny': 125},\n",
       "     {'baseDate': 20190808,\n",
       "      'baseTime': 1530,\n",
       "      'category': 'T1H',\n",
       "      'fcstDate': 20190808,\n",
       "      'fcstTime': 1700,\n",
       "      'fcstValue': 31,\n",
       "      'nx': 61,\n",
       "      'ny': 125},\n",
       "     {'baseDate': 20190808,\n",
       "      'baseTime': 1530,\n",
       "      'category': 'T1H',\n",
       "      'fcstDate': 20190808,\n",
       "      'fcstTime': 1800,\n",
       "      'fcstValue': 30,\n",
       "      'nx': 61,\n",
       "      'ny': 125},\n",
       "     {'baseDate': 20190808,\n",
       "      'baseTime': 1530,\n",
       "      'category': 'REH',\n",
       "      'fcstDate': 20190808,\n",
       "      'fcstTime': 1600,\n",
       "      'fcstValue': 70,\n",
       "      'nx': 61,\n",
       "      'ny': 125},\n",
       "     {'baseDate': 20190808,\n",
       "      'baseTime': 1530,\n",
       "      'category': 'REH',\n",
       "      'fcstDate': 20190808,\n",
       "      'fcstTime': 1700,\n",
       "      'fcstValue': 70,\n",
       "      'nx': 61,\n",
       "      'ny': 125},\n",
       "     {'baseDate': 20190808,\n",
       "      'baseTime': 1530,\n",
       "      'category': 'REH',\n",
       "      'fcstDate': 20190808,\n",
       "      'fcstTime': 1800,\n",
       "      'fcstValue': 70,\n",
       "      'nx': 61,\n",
       "      'ny': 125},\n",
       "     {'baseDate': 20190808,\n",
       "      'baseTime': 1530,\n",
       "      'category': 'UUU',\n",
       "      'fcstDate': 20190808,\n",
       "      'fcstTime': 1600,\n",
       "      'fcstValue': 1.4,\n",
       "      'nx': 61,\n",
       "      'ny': 125},\n",
       "     {'baseDate': 20190808,\n",
       "      'baseTime': 1530,\n",
       "      'category': 'UUU',\n",
       "      'fcstDate': 20190808,\n",
       "      'fcstTime': 1700,\n",
       "      'fcstValue': 1.4,\n",
       "      'nx': 61,\n",
       "      'ny': 125},\n",
       "     {'baseDate': 20190808,\n",
       "      'baseTime': 1530,\n",
       "      'category': 'UUU',\n",
       "      'fcstDate': 20190808,\n",
       "      'fcstTime': 1800,\n",
       "      'fcstValue': 1.4,\n",
       "      'nx': 61,\n",
       "      'ny': 125},\n",
       "     {'baseDate': 20190808,\n",
       "      'baseTime': 1530,\n",
       "      'category': 'VVV',\n",
       "      'fcstDate': 20190808,\n",
       "      'fcstTime': 1600,\n",
       "      'fcstValue': 0.2,\n",
       "      'nx': 61,\n",
       "      'ny': 125},\n",
       "     {'baseDate': 20190808,\n",
       "      'baseTime': 1530,\n",
       "      'category': 'VVV',\n",
       "      'fcstDate': 20190808,\n",
       "      'fcstTime': 1700,\n",
       "      'fcstValue': 0.5,\n",
       "      'nx': 61,\n",
       "      'ny': 125},\n",
       "     {'baseDate': 20190808,\n",
       "      'baseTime': 1530,\n",
       "      'category': 'VVV',\n",
       "      'fcstDate': 20190808,\n",
       "      'fcstTime': 1800,\n",
       "      'fcstValue': 0.8,\n",
       "      'nx': 61,\n",
       "      'ny': 125},\n",
       "     {'baseDate': 20190808,\n",
       "      'baseTime': 1530,\n",
       "      'category': 'VEC',\n",
       "      'fcstDate': 20190808,\n",
       "      'fcstTime': 1600,\n",
       "      'fcstValue': 262,\n",
       "      'nx': 61,\n",
       "      'ny': 125},\n",
       "     {'baseDate': 20190808,\n",
       "      'baseTime': 1530,\n",
       "      'category': 'VEC',\n",
       "      'fcstDate': 20190808,\n",
       "      'fcstTime': 1700,\n",
       "      'fcstValue': 250,\n",
       "      'nx': 61,\n",
       "      'ny': 125},\n",
       "     {'baseDate': 20190808,\n",
       "      'baseTime': 1530,\n",
       "      'category': 'VEC',\n",
       "      'fcstDate': 20190808,\n",
       "      'fcstTime': 1800,\n",
       "      'fcstValue': 240,\n",
       "      'nx': 61,\n",
       "      'ny': 125},\n",
       "     {'baseDate': 20190808,\n",
       "      'baseTime': 1530,\n",
       "      'category': 'WSD',\n",
       "      'fcstDate': 20190808,\n",
       "      'fcstTime': 1600,\n",
       "      'fcstValue': 1.4,\n",
       "      'nx': 61,\n",
       "      'ny': 125},\n",
       "     {'baseDate': 20190808,\n",
       "      'baseTime': 1530,\n",
       "      'category': 'WSD',\n",
       "      'fcstDate': 20190808,\n",
       "      'fcstTime': 1700,\n",
       "      'fcstValue': 1.5,\n",
       "      'nx': 61,\n",
       "      'ny': 125},\n",
       "     {'baseDate': 20190808,\n",
       "      'baseTime': 1530,\n",
       "      'category': 'WSD',\n",
       "      'fcstDate': 20190808,\n",
       "      'fcstTime': 1800,\n",
       "      'fcstValue': 1.6,\n",
       "      'nx': 61,\n",
       "      'ny': 125}]},\n",
       "   'numOfRows': 30,\n",
       "   'pageNo': 1,\n",
       "   'totalCount': 30}}}"
      ]
     },
     "execution_count": 105,
     "metadata": {},
     "output_type": "execute_result"
    }
   ],
   "source": [
    "import json\n",
    "import datetime\n",
    "\n",
    "now = datetime.datetime.now()\n",
    "date = '{:%Y%m%d}'.format(now)\n",
    "time = '{:%H00}'.format(now)\n",
    "\n",
    "if(now.minute >= 30):\n",
    "    time = '{0}00'.format(now.hour)\n",
    "else:\n",
    "    time = '{0}00'.format(now.hour-1)\n",
    "    \n",
    "req_url = 'http://newsky2.kma.go.kr/service/SecndSrtpdFrcstInfoService2/ForecastTimeData'\n",
    "\n",
    "baseDate = date\n",
    "baseTime = time\n",
    "\n",
    "nx_val = 61\n",
    "ny_val = 125\n",
    "\n",
    "num_of_rows = 30\n",
    "page_no = 1\n",
    "\n",
    "output_type = 'json'\n",
    "\n",
    "req_parameter = {'ServiceKey': API_KEY_decode,\n",
    "                'nx': nx_val, 'ny': ny_val,\n",
    "                'base_date':baseDate, 'base_time': baseTime,\n",
    "                'pageNo':page_no, 'numOfRows': num_of_rows,\n",
    "                '_type': output_type}\n",
    "\n",
    "r = requests.get(req_url, params = req_parameter)\n",
    "\n",
    "dict_data = r.json()\n",
    "dict_data\n",
    "\n"
   ]
  },
  {
   "cell_type": "code",
   "execution_count": 109,
   "metadata": {},
   "outputs": [
    {
     "name": "stdout",
     "output_type": "stream",
     "text": [
      "[ 발표 날짜 : 20190808]\n",
      "[ 발표 시간 : 1530]\n",
      "[초단기 일기 예보]\n",
      "* 시간: 1600, 강수: 없음\n",
      "* 시간: 1700, 강수: 없음\n",
      "* 시간: 1800, 강수: 없음\n",
      "* 시간: 1600, 하늘: 흐림\n",
      "* 시간: 1700, 하늘: 흐림\n",
      "* 시간: 1800, 하늘: 흐림\n",
      "* 시간: 1600, 기온: 32 도\n",
      "* 시간: 1700, 기온: 31 도\n",
      "* 시간: 1800, 기온: 30 도\n",
      "* 시간: 1600, 습도: 70 퍼센트\n",
      "* 시간: 1700, 습도: 70 퍼센트\n",
      "* 시간: 1800, 습도: 70 퍼센트\n"
     ]
    }
   ],
   "source": [
    "weather_items = dict_data['response']['body']['items']['item']\n",
    "\n",
    "sky_cond = ['맑음', '구름 조금', '구름 많음', '흐림']\n",
    "rain_type = ['없음', '비', '진눈깨비', '눈']\n",
    "\n",
    "print('[ 발표 날짜 : {}]'.format(weather_items[0]['baseDate']))\n",
    "print('[ 발표 시간 : {}]'.format(weather_items[0]['baseTime']))\n",
    "\n",
    "print('[초단기 일기 예보]')\n",
    "\n",
    "for k in range(len(weather_items)):\n",
    "    weather_item = weather_items[k]\n",
    "    \n",
    "    fcstTime = weather_item['fcstTime']\n",
    "    fcstValue = weather_item['fcstValue']\n",
    "    \n",
    "    if(weather_item['category'] == 'T1H'):\n",
    "        print('* 시간: {0}, 기온: {1} 도'.format(fcstTime, fcstValue))\n",
    "    elif(weather_item['category'] == 'REH'):\n",
    "        print('* 시간: {0}, 습도: {1} 퍼센트'.format(fcstTime, fcstValue))\n",
    "    elif(weather_item['category'] == 'SKY'):\n",
    "        print('* 시간: {0}, 하늘: {1}'.format(fcstTime, sky_cond[fcstValue-1]))\n",
    "    elif(weather_item['category'] == 'PTY'):\n",
    "        print('* 시간: {0}, 강수: {1}'.format(fcstTime, rain_type[fcstValue]))"
   ]
  },
  {
   "cell_type": "markdown",
   "metadata": {},
   "source": [
    "### 초단기실황조회\t"
   ]
  },
  {
   "cell_type": "code",
   "execution_count": 110,
   "metadata": {},
   "outputs": [
    {
     "name": "stdout",
     "output_type": "stream",
     "text": [
      "[ 발표 날짜 : 20190808 ]\n",
      "[ 발표 시간 : 1500 ]\n",
      "[ 초단기 실황 조회 ]\n",
      "--------------------------------\n",
      " * 시간: 1500, 강수 : 없음\n",
      "--------------------------------\n",
      " * 시간: 1500, 습도 : 53 퍼센트\n",
      "--------------------------------\n",
      " * 시간: 1500, 기온 : 33.2 도\n",
      "--------------------------------\n"
     ]
    }
   ],
   "source": [
    "import requests\n",
    "\n",
    "API_KEY = 'Lh%2FD6Mdj6gOEbTuoFWNOe3HDgiZw15pSaQlE8XJ9cLQGLGAxzLUfVJedmBeEzozv7Q1ixZVSgvCU6t5mRJf8Gw%3D%3D'\n",
    "API_KEY_decode = requests.utils.unquote(API_KEY)\n",
    "# print(API_KEY_decode)\n",
    "\n",
    "import json\n",
    "import datetime\n",
    "\n",
    "now = datetime.datetime.now()\n",
    "date = '{:%Y%m%d}'.format(now)\n",
    "time = '{:%H00}'.format(now)\n",
    "\n",
    "if (now.minute >= 30):\n",
    "    time = '{0}00'.format(now.hour)\n",
    "else:\n",
    "    time = '{0}00'.format(now.hour-1)\n",
    "\n",
    "\n",
    "req_url = 'http://newsky2.kma.go.kr/service/SecndSrtpdFrcstInfoService2/ForecastGrib'\n",
    "\n",
    "baseDate = date\n",
    "baseTime = time\n",
    "\n",
    "nx_val = 61\n",
    "ny_val = 125\n",
    "\n",
    "num_of_rows = 30\n",
    "page_no = 1\n",
    "\n",
    "output_type = 'json'\n",
    "\n",
    "req_parameter = {'ServiceKey': API_KEY_decode,\n",
    "                 'nx': nx_val, 'ny': ny_val,\n",
    "                 'base_date': baseDate, 'base_time': baseTime,\n",
    "                 'pageNo': page_no, 'numOfRows': num_of_rows,\n",
    "                 '_type': output_type\n",
    "                }\n",
    "\n",
    "r = requests.get(req_url, params = req_parameter)\n",
    "\n",
    "dict_data = r.json()\n",
    "# dict_data\n",
    "\n",
    "weather_items = dict_data['response']['body']['items']['item']\n",
    "\n",
    "sky_cond = ['맑음', '구름 많음', '흐림']\n",
    "rain_type = ['없음', '비', '진눈개비', '눈', '소나기']\n",
    "\n",
    "print('[ 발표 날짜 : {} ]'.format(weather_items[0]['baseDate']))\n",
    "print('[ 발표 시간 : {} ]'.format(weather_items[0]['baseTime']))\n",
    "\n",
    "print('[ 초단기 실황 조회 ]')\n",
    "print('--------------------------------')\n",
    "\n",
    "for k in range(len(weather_items)):\n",
    "    weather_item = weather_items[k]\n",
    "    obsrValue = weather_item['obsrValue']\n",
    "\n",
    "\n",
    "    if(weather_item['category']) == 'T1H':\n",
    "        print(' * 시간: {0}, 기온 : {1} 도'.format(baseTime, obsrValue))\n",
    "        print('--------------------------------')\n",
    "    elif(weather_item['category']) == 'PTY':\n",
    "        print(' * 시간: {0}, 강수 : {1}'.format(baseTime, rain_type[obsrValue]))\n",
    "        print('--------------------------------')\n",
    "    elif(weather_item['category']) == 'REH':\n",
    "        print(' * 시간: {0}, 습도 : {1} 퍼센트'.format(baseTime, obsrValue))\n",
    "        print('--------------------------------')\n",
    "    \n",
    "#     if(weather_item['category']) == 'VEC':\n",
    "#         print(' * 시간: {0}, 풍향 : {1}'.format(baseTime, obsrValue))\n",
    "#     elif(weather_item['category']) == 'UUU':\n",
    "#         print(' * 시간: {0}, 동서바람성분 : {1}'.format(baseTime, obsrValue))\n",
    "#     elif(weather_item['category']) == 'VVV':\n",
    "#         print(' * 시간: {0}, 남북바람성분: {1}'.format(baseTime, obsrValue))\n",
    "#     elif(weather_item['category']) == 'WSD':\n",
    "#         print(' * 시간: {0}, 풍속: {1} m/s'.format(baseTime, obsrValue))\n"
   ]
  },
  {
   "cell_type": "markdown",
   "metadata": {},
   "source": [
    "## 대기 오염 정보 가져오기\n",
    "### 근접 측정소 목록 조회"
   ]
  },
  {
   "cell_type": "code",
   "execution_count": 111,
   "metadata": {},
   "outputs": [
    {
     "data": {
      "text/plain": [
       "'Lh/D6Mdj6gOEbTuoFWNOe3HDgiZw15pSaQlE8XJ9cLQGLGAxzLUfVJedmBeEzozv7Q1ixZVSgvCU6t5mRJf8Gw=='"
      ]
     },
     "execution_count": 111,
     "metadata": {},
     "output_type": "execute_result"
    }
   ],
   "source": [
    "import requests\n",
    "\n",
    "API_KEY = 'Lh%2FD6Mdj6gOEbTuoFWNOe3HDgiZw15pSaQlE8XJ9cLQGLGAxzLUfVJedmBeEzozv7Q1ixZVSgvCU6t5mRJf8Gw%3D%3D'\n",
    "API_KEY_decode = requests.utils.unquote(API_KEY)\n",
    "API_KEY_decode"
   ]
  },
  {
   "cell_type": "code",
   "execution_count": 112,
   "metadata": {},
   "outputs": [
    {
     "data": {
      "text/plain": [
       "15"
      ]
     },
     "execution_count": 112,
     "metadata": {},
     "output_type": "execute_result"
    }
   ],
   "source": [
    "req_url = 'http://openapi.airkorea.or.kr/openapi/services/rest/MsrstnInfoInqireSvc/getTMStdrCrdnt'\n",
    "\n",
    "umd_name = '강남구'\n",
    "num_of_rows = 20\n",
    "page_no = 1\n",
    "\n",
    "output_type = 'json'\n",
    "\n",
    "req_parameter = {'ServiceKey': API_KEY_decode,\n",
    "                'umdName': umd_name,\n",
    "                'pageNo': page_no,\n",
    "                'numOfRows': num_of_rows,\n",
    "                '_returnType': output_type}\n",
    "\n",
    "dict_data = requests.get(req_url, params = req_parameter).json()\n",
    "dict_data['totalCount']"
   ]
  },
  {
   "cell_type": "code",
   "execution_count": 113,
   "metadata": {},
   "outputs": [
    {
     "name": "stdout",
     "output_type": "stream",
     "text": [
      "[입력한 읍/면/동명] 강남구\n",
      "[TM 기준 좌표 조회 결과]\n",
      "- 위치: 서울특별시 강남구 개포동\n",
      "- 1. TM 좌표(X, Y): 205717.622601, 442157.356084\n",
      "\n",
      "- 위치: 서울특별시 강남구 논현동\n",
      "- 2. TM 좌표(X, Y): 202733.974301, 445717.50469\n",
      "\n",
      "- 위치: 서울특별시 강남구 대치동\n",
      "- 3. TM 좌표(X, Y): 205531.680369, 444110.660327\n",
      "\n",
      "- 위치: 서울특별시 강남구 도곡동\n",
      "- 4. TM 좌표(X, Y): 203934.423171, 442933.459035\n",
      "\n",
      "- 위치: 서울특별시 강남구 삼성동\n",
      "- 5. TM 좌표(X, Y): 204892.522763, 445751.44374\n",
      "\n",
      "- 위치: 서울특별시 강남구 세곡동\n",
      "- 6. TM 좌표(X, Y): 209167.215126, 440247.830577\n",
      "\n",
      "- 위치: 서울특별시 강남구 수서동\n",
      "- 7. TM 좌표(X, Y): 208484.254547, 442635.484428\n",
      "\n",
      "- 위치: 서울특별시 강남구 신사동\n",
      "- 8. TM 좌표(X, Y): 202504.303319, 446794.971711\n",
      "\n",
      "- 위치: 서울특별시 강남구 압구정동\n",
      "- 9. TM 좌표(X, Y): 202447.342016, 447610.908303\n",
      "\n",
      "- 위치: 서울특별시 강남구 역삼동\n",
      "- 10. TM 좌표(X, Y): 203338.992989, 444208.200588\n",
      "\n",
      "- 위치: 서울특별시 강남구 율현동\n",
      "- 11. TM 좌표(X, Y): 209836.31517, 440994.889091\n",
      "\n",
      "- 위치: 서울특별시 강남구 일원동\n",
      "- 12. TM 좌표(X, Y): 207259.035086, 442876.579913\n",
      "\n",
      "- 위치: 서울특별시 강남구 자곡동\n",
      "- 13. TM 좌표(X, Y): 208772.473735, 441575.518313\n",
      "\n",
      "- 위치: 서울특별시 강남구 청담동\n",
      "- 14. TM 좌표(X, Y): 204392.403871, 446908.017775\n",
      "\n",
      "- 위치: 서울특별시 강남구 포이동\n",
      "- 15. TM 좌표(X, Y): 204486.142717, 441441.452301\n",
      "\n"
     ]
    }
   ],
   "source": [
    "print('[입력한 읍/면/동명]', umd_name)\n",
    "print('[TM 기준 좌표 조회 결과]')\n",
    "\n",
    "for k in range(dict_data['totalCount']):\n",
    "    sido = dict_data['list'][k]['sidoName']\n",
    "    sgg = dict_data['list'][k]['sggName']\n",
    "    umd = dict_data['list'][k]['umdName']\n",
    "    tmX = dict_data['list'][k]['tmX']\n",
    "    tmY = dict_data['list'][k]['tmY']\n",
    "    \n",
    "    print('- 위치: {0} {1} {2}'.format(sido, sgg, umd))\n",
    "    print('- {0}. TM 좌표(X, Y): {1}, {2}\\n'.format(k+1, tmX, tmY))"
   ]
  },
  {
   "cell_type": "code",
   "execution_count": 114,
   "metadata": {},
   "outputs": [
    {
     "name": "stdout",
     "output_type": "stream",
     "text": [
      "TM좌표(X, Y): 205717.622601, 442157.356084\n"
     ]
    }
   ],
   "source": [
    "k = 0\n",
    "\n",
    "TM_X = dict_data['list'][k]['tmX']\n",
    "TM_Y = dict_data['list'][k]['tmY']\n",
    "print('TM좌표(X, Y): {0}, {1}'.format(TM_X, TM_Y))"
   ]
  },
  {
   "cell_type": "code",
   "execution_count": 115,
   "metadata": {},
   "outputs": [
    {
     "name": "stdout",
     "output_type": "stream",
     "text": [
      "해당 지역 근처에 있는 측정소의 개수: 3\n"
     ]
    }
   ],
   "source": [
    "req_url = 'http://openapi.airkorea.or.kr/openapi/services/rest/MsrstnInfoInqireSvc/getNearbyMsrstnList'\n",
    "\n",
    "x_value = TM_X\n",
    "y_value = TM_Y\n",
    "\n",
    "num_of_rows = 20\n",
    "page_no = 1\n",
    "\n",
    "output_type = 'json'\n",
    "req_parameter = {'ServiceKey': API_KEY_decode,\n",
    "                'tmX': x_value,\n",
    "                'tmY': y_value,\n",
    "                'pageNo': page_no, 'numOfRows': num_of_rows,\n",
    "                '_returnType': output_type}\n",
    "\n",
    "dict_data = requests.get(req_url, params = req_parameter).json()\n",
    "dict_data['totalCount']\n",
    "\n",
    "\n",
    "print('해당 지역 근처에 있는 측정소의 개수:', dict_data['totalCount'])"
   ]
  },
  {
   "cell_type": "code",
   "execution_count": 116,
   "metadata": {},
   "outputs": [
    {
     "name": "stdout",
     "output_type": "stream",
     "text": [
      "[측정소 정보]\n",
      "- 측정소 이름: 강남대로, 거리: 2.6 [km]\n",
      "- 측정소 주소: 서울 서초구 강남대로 201서초구민회관 앞 중앙차로 \n",
      "\n",
      "- 측정소 이름: 송파구, 거리: 3.4 [km]\n",
      "- 측정소 주소: 서울시 송파구 백제고분로 236(삼전동 주민센터) \n",
      "\n",
      "- 측정소 이름: 강남구, 거리: 4.7 [km]\n",
      "- 측정소 주소: 서울 강남구 학동로 426강남구청 별관 1동 \n",
      "\n"
     ]
    }
   ],
   "source": [
    "print('[측정소 정보]')\n",
    "\n",
    "for k in range(dict_data['totalCount']):\n",
    "    \n",
    "    stationName = dict_data['list'][k]['stationName']\n",
    "    distance = dict_data['list'][k]['tm']\n",
    "    addr = dict_data['list'][k]['addr']\n",
    "    \n",
    "    print('- 측정소 이름: {0}, 거리: {1} [km]'.format(stationName, distance))\n",
    "    print('- 측정소 주소: {0} \\n'.format(addr))"
   ]
  },
  {
   "cell_type": "markdown",
   "metadata": {},
   "source": [
    "# ---------------------------------------------------------------------------------------"
   ]
  },
  {
   "cell_type": "code",
   "execution_count": 117,
   "metadata": {},
   "outputs": [
    {
     "data": {
      "text/plain": [
       "2"
      ]
     },
     "execution_count": 117,
     "metadata": {},
     "output_type": "execute_result"
    }
   ],
   "source": [
    "req_url = 'http://openapi.airkorea.or.kr/openapi/services/rest/MsrstnInfoInqireSvc/getTMStdrCrdnt'\n",
    "\n",
    "umd_name = '논현동'\n",
    "num_of_rows = 20\n",
    "page_no = 1\n",
    "\n",
    "output_type = 'json'\n",
    "\n",
    "req_parameter = {'ServiceKey': API_KEY_decode,\n",
    "                'umdName': umd_name,\n",
    "                'pageNo': page_no,\n",
    "                'numOfRows': num_of_rows,\n",
    "                '_returnType': output_type}\n",
    "\n",
    "dict_data = requests.get(req_url, params = req_parameter).json()\n",
    "dict_data['totalCount']"
   ]
  },
  {
   "cell_type": "code",
   "execution_count": 120,
   "metadata": {},
   "outputs": [
    {
     "name": "stdout",
     "output_type": "stream",
     "text": [
      "[입력한 읍/면/동명] 논현동\n",
      "[TM 기준 좌표 조회 결과]\n",
      "- 위치: 서울특별시 강남구 논현동\n",
      "- 1. TM 좌표(X, Y): 202733.974301, 445717.50469\n",
      "\n",
      "- 위치: 인천광역시 남동구 논현동\n",
      "- 2. TM 좌표(X, Y): 175850.136025, 434153.586394\n",
      "\n"
     ]
    }
   ],
   "source": [
    "print('[입력한 읍/면/동명]', umd_name)\n",
    "print('[TM 기준 좌표 조회 결과]')\n",
    "\n",
    "for k in range(dict_data['totalCount']):\n",
    "    sido = dict_data['list'][k]['sidoName']\n",
    "    sgg = dict_data['list'][k]['sggName']\n",
    "    umd = dict_data['list'][k]['umdName']\n",
    "    tmX = dict_data['list'][k]['tmX']\n",
    "    tmY = dict_data['list'][k]['tmY']\n",
    "    \n",
    "    print('- 위치: {0} {1} {2}'.format(sido, sgg, umd))\n",
    "    print('- {0}. TM 좌표(X, Y): {1}, {2}\\n'.format(k+1, tmX, tmY))"
   ]
  },
  {
   "cell_type": "code",
   "execution_count": 121,
   "metadata": {},
   "outputs": [
    {
     "name": "stdout",
     "output_type": "stream",
     "text": [
      "TM좌표(X, Y): 202733.974301, 445717.50469\n"
     ]
    }
   ],
   "source": [
    "k = 0\n",
    "\n",
    "TM_X = dict_data['list'][k]['tmX']\n",
    "TM_Y = dict_data['list'][k]['tmY']\n",
    "print('TM좌표(X, Y): {0}, {1}'.format(TM_X, TM_Y))"
   ]
  },
  {
   "cell_type": "code",
   "execution_count": 122,
   "metadata": {},
   "outputs": [
    {
     "name": "stdout",
     "output_type": "stream",
     "text": [
      "해당 지역 근처에 있는 측정소의 개수: 3\n"
     ]
    }
   ],
   "source": [
    "req_url = 'http://openapi.airkorea.or.kr/openapi/services/rest/MsrstnInfoInqireSvc/getNearbyMsrstnList'\n",
    "\n",
    "x_value = TM_X\n",
    "y_value = TM_Y\n",
    "\n",
    "num_of_rows = 20\n",
    "page_no = 1\n",
    "\n",
    "output_type = 'json'\n",
    "req_parameter = {'ServiceKey': API_KEY_decode,\n",
    "                'tmX': x_value,\n",
    "                'tmY': y_value,\n",
    "                'pageNo': page_no, 'numOfRows': num_of_rows,\n",
    "                '_returnType': output_type}\n",
    "\n",
    "dict_data = requests.get(req_url, params = req_parameter).json()\n",
    "dict_data['totalCount']\n",
    "\n",
    "\n",
    "print('해당 지역 근처에 있는 측정소의 개수:', dict_data['totalCount'])"
   ]
  },
  {
   "cell_type": "code",
   "execution_count": 123,
   "metadata": {},
   "outputs": [
    {
     "name": "stdout",
     "output_type": "stream",
     "text": [
      "[측정소 정보]\n",
      "- 측정소 이름: 도산대로, 거리: 1.1 [km]\n",
      "- 측정소 주소: 서울 강남구 도산대로 104신사역2번출구 앞 \n",
      "\n",
      "- 측정소 이름: 강남구, 거리: 1.4 [km]\n",
      "- 측정소 주소: 서울 강남구 학동로 426강남구청 별관 1동 \n",
      "\n",
      "- 측정소 이름: 강변북로, 거리: 2.9 [km]\n",
      "- 측정소 주소: 서울 성동구 강변북로 257한강사업본부 옆 \n",
      "\n"
     ]
    }
   ],
   "source": [
    "print('[측정소 정보]')\n",
    "\n",
    "for k in range(dict_data['totalCount']):\n",
    "    \n",
    "    stationName = dict_data['list'][k]['stationName']\n",
    "    distance = dict_data['list'][k]['tm']\n",
    "    addr = dict_data['list'][k]['addr']\n",
    "    \n",
    "    print('- 측정소 이름: {0}, 거리: {1} [km]'.format(stationName, distance))\n",
    "    print('- 측정소 주소: {0} \\n'.format(addr))"
   ]
  },
  {
   "cell_type": "markdown",
   "metadata": {},
   "source": [
    "### 측정 정보 가져오기"
   ]
  },
  {
   "cell_type": "code",
   "execution_count": 124,
   "metadata": {},
   "outputs": [
    {
     "data": {
      "text/plain": [
       "{'_returnType': 'json',\n",
       " 'coGrade': '1',\n",
       " 'coValue': '0.4',\n",
       " 'dataTerm': '',\n",
       " 'dataTime': '2019-08-08 15:00',\n",
       " 'khaiGrade': '2',\n",
       " 'khaiValue': '95',\n",
       " 'mangName': '도로변대기',\n",
       " 'no2Grade': '1',\n",
       " 'no2Value': '0.012',\n",
       " 'numOfRows': '10',\n",
       " 'o3Grade': '2',\n",
       " 'o3Value': '0.036',\n",
       " 'pageNo': '1',\n",
       " 'pm10Grade': '2',\n",
       " 'pm10Grade1h': '1',\n",
       " 'pm10Value': '26',\n",
       " 'pm10Value24': '42',\n",
       " 'pm25Grade': '2',\n",
       " 'pm25Grade1h': '2',\n",
       " 'pm25Value': '19',\n",
       " 'pm25Value24': '33',\n",
       " 'resultCode': '',\n",
       " 'resultMsg': '',\n",
       " 'rnum': 0,\n",
       " 'serviceKey': '',\n",
       " 'sidoName': '',\n",
       " 'so2Grade': '1',\n",
       " 'so2Value': '0.004',\n",
       " 'stationCode': '',\n",
       " 'stationName': '',\n",
       " 'totalCount': '',\n",
       " 'ver': ''}"
      ]
     },
     "execution_count": 124,
     "metadata": {},
     "output_type": "execute_result"
    }
   ],
   "source": [
    "req_url = 'http://openapi.airkorea.or.kr/openapi/services/rest/ArpltnInforInqireSvc/getMsrstnAcctoRltmMesureDnsty'\n",
    "\n",
    "station_name = '도산대로'\n",
    "data_term = 'DAILY'\n",
    "num_of_rows = 10\n",
    "page_no = 1\n",
    "version = 1.3\n",
    "output_type = 'json'\n",
    "\n",
    "req_parameter = {'ServiceKey': API_KEY_decode,\n",
    "                'stationName': station_name,\n",
    "                'dataTerm': data_term, 'ver.': version,\n",
    "                'pageNo': page_no, 'numOfRows': num_of_rows,\n",
    "                '_returnType': output_type}\n",
    "\n",
    "dict_data = requests.get(req_url, params = req_parameter).json()\n",
    "dict_data['list'][0]\n"
   ]
  },
  {
   "cell_type": "code",
   "execution_count": 125,
   "metadata": {},
   "outputs": [
    {
     "name": "stdout",
     "output_type": "stream",
     "text": [
      "[측정소(도산대로)에서 측정된 대기 오염 상태]\n",
      "- 측정시간: 2019-08-08 15:00\n",
      "- [지수] 아황산가스:1, 일산화탄소:1, 오존:2, 이산화질소:1\n",
      "- [등급] 미세먼지: 2, 초미세 먼지: 2, 통합대기환경: 2\n"
     ]
    }
   ],
   "source": [
    "dataTime = dict_data['list'][0]['dataTime']\n",
    "\n",
    "so2Grade = dict_data['list'][0]['so2Grade']\n",
    "coGrade = dict_data['list'][0]['coGrade']\n",
    "o3Grade = dict_data['list'][0]['o3Grade']\n",
    "no2Grade = dict_data['list'][0]['no2Grade']\n",
    "\n",
    "pm10Grade = dict_data['list'][0]['pm10Grade']\n",
    "pm25Grade = dict_data['list'][0]['pm25Grade']\n",
    "khaiGrade = dict_data['list'][0]['khaiGrade']\n",
    "\n",
    "\n",
    "\n",
    "print('[측정소({0})에서 측정된 대기 오염 상태]'.format(station_name))\n",
    "print('- 측정시간: {0}'.format(dataTime))\n",
    "\n",
    "print('- [지수] 아황산가스:{0}, 일산화탄소:{1}, 오존:{2}, 이산화질소:{3}'.\n",
    "      format(so2Grade, coGrade, o3Grade, no2Grade))\n",
    "\n",
    "print('- [등급] 미세먼지: {0}, 초미세 먼지: {1}, 통합대기환경: {2}'.\n",
    "      format(pm10Grade, pm25Grade, khaiGrade))"
   ]
  },
  {
   "cell_type": "code",
   "execution_count": 126,
   "metadata": {},
   "outputs": [
    {
     "name": "stdout",
     "output_type": "stream",
     "text": [
      "[측정소(도산대로)에서 측정된 대기 오염 상태]\n",
      "- 측정시간: 2019-08-08 15:00\n",
      "- 아황산가스:좋음, 일산화탄소:좋음, 오존:보통, 이산화질소:좋음\n",
      "- 미세먼지: 보통, 초미세 먼지: 보통, 통합대기환경: 보통\n"
     ]
    }
   ],
   "source": [
    "gradeNum2Str = {'1': '좋음', '2': '보통', '3': '나쁨', '4': '매우나쁨'}\n",
    "\n",
    "print('[측정소({0})에서 측정된 대기 오염 상태]'.format(station_name))\n",
    "print('- 측정시간: {0}'.format(dataTime))\n",
    "\n",
    "print('- 아황산가스:{0}, 일산화탄소:{1}, 오존:{2}, 이산화질소:{3}'.\n",
    "      format(gradeNum2Str[so2Grade], gradeNum2Str[coGrade], gradeNum2Str[o3Grade], gradeNum2Str[no2Grade]))\n",
    "\n",
    "print('- 미세먼지: {0}, 초미세 먼지: {1}, 통합대기환경: {2}'.\n",
    "      format(gradeNum2Str[pm10Grade], gradeNum2Str[pm25Grade], gradeNum2Str[khaiGrade]))\n"
   ]
  }
 ],
 "metadata": {
  "kernelspec": {
   "display_name": "Python 3",
   "language": "python",
   "name": "python3"
  },
  "language_info": {
   "codemirror_mode": {
    "name": "ipython",
    "version": 3
   },
   "file_extension": ".py",
   "mimetype": "text/x-python",
   "name": "python",
   "nbconvert_exporter": "python",
   "pygments_lexer": "ipython3",
   "version": "3.6.8"
  }
 },
 "nbformat": 4,
 "nbformat_minor": 2
}
