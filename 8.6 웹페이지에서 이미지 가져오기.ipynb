{
 "cells": [
  {
   "cell_type": "code",
   "execution_count": 1,
   "metadata": {},
   "outputs": [
    {
     "data": {
      "text/plain": [
       "<Response [200]>"
      ]
     },
     "execution_count": 1,
     "metadata": {},
     "output_type": "execute_result"
    }
   ],
   "source": [
    "import requests\n",
    "url = 'https://www.python.org/static/img/python-logo.png'\n",
    "html_image = requests.get(url)\n",
    "html_image"
   ]
  },
  {
   "cell_type": "code",
   "execution_count": 2,
   "metadata": {},
   "outputs": [
    {
     "data": {
      "text/plain": [
       "'python-logo.png'"
      ]
     },
     "execution_count": 2,
     "metadata": {},
     "output_type": "execute_result"
    }
   ],
   "source": [
    "import os\n",
    "\n",
    "image_file_name = os.path.basename(url) # 앞의 path는 삭제하고 마지막 basename만 추출\n",
    "image_file_name"
   ]
  },
  {
   "cell_type": "code",
   "execution_count": 6,
   "metadata": {},
   "outputs": [],
   "source": [
    "folder = 'C:/myPyCode/download'\n",
    "\n",
    "if not os.path.exists(folder): # 무조건 생성하는 것이 아니라, 존재 하지 않을 경우에만 생성\n",
    "    os.makedirs(folder)  # folder = directory"
   ]
  },
  {
   "cell_type": "code",
   "execution_count": 8,
   "metadata": {},
   "outputs": [
    {
     "data": {
      "text/plain": [
       "'C:/myPyCode/download\\\\python-logo.png'"
      ]
     },
     "execution_count": 8,
     "metadata": {},
     "output_type": "execute_result"
    }
   ],
   "source": [
    "image_path = os.path.join(folder, image_file_name)  # os에 상관없이 사용 가능\n",
    "image_path"
   ]
  },
  {
   "cell_type": "code",
   "execution_count": 9,
   "metadata": {},
   "outputs": [],
   "source": [
    "imageFile = open(image_path, 'wb') # binary파일 모드로 write해야 하므로 'wb'"
   ]
  },
  {
   "cell_type": "code",
   "execution_count": 11,
   "metadata": {},
   "outputs": [],
   "source": [
    "chunk_size = 1000000    # 이미지 데이터를 1000000바이트씩 나눠서 저장\n",
    "for chunk in html_image.iter_content(chunk_size):\n",
    "    imageFile.write(chunk)\n",
    "imageFile.close()"
   ]
  },
  {
   "cell_type": "code",
   "execution_count": 12,
   "metadata": {},
   "outputs": [
    {
     "data": {
      "text/plain": [
       "['python-logo.png']"
      ]
     },
     "execution_count": 12,
     "metadata": {},
     "output_type": "execute_result"
    }
   ],
   "source": [
    "os.listdir(folder)"
   ]
  },
  {
   "cell_type": "markdown",
   "metadata": {},
   "source": [
    "## 위 코드 통합"
   ]
  },
  {
   "cell_type": "code",
   "execution_count": 3,
   "metadata": {},
   "outputs": [],
   "source": [
    "import requests\n",
    "import os\n",
    "\n",
    "url = 'https://www.python.org/static/img/python-logo.png'\n",
    "html_image = requests.get(url)\n",
    "image_file_name = os.path.basename(url)\n",
    "\n",
    "folder = 'C:/myPyCode/download'\n",
    "if not os.path.exists(folder):\n",
    "    os.makedirs(folder) \n",
    "\n",
    "image_path = os.path.join(folder, image_file_name) \n",
    "\n",
    "imageFile = open(image_path, 'wb')\n",
    "\n",
    "chunk_size = 1000000\n",
    "for chunk in html_image.iter_content(chunk_size):\n",
    "    imageFile.write(chunk)\n",
    "imageFile.close()"
   ]
  },
  {
   "cell_type": "code",
   "execution_count": null,
   "metadata": {},
   "outputs": [],
   "source": []
  },
  {
   "cell_type": "code",
   "execution_count": 2,
   "metadata": {},
   "outputs": [],
   "source": [
    "import requests\n",
    "import os\n",
    "\n",
    "url = 'https://ssl.gstatic.com/ui/v1/icons/mail/rfr/logo_gmail_lockup_default_1x.png'\n",
    "html_image1 = requests.get(url)\n",
    "image_file_name1 = os.path.basename(url) #위 이미지 파일에서 이미지 제목만 추출\n",
    "\n",
    "folder = 'C:/myPyCode/download'\n",
    "if not os.path.exists(folder):\n",
    "    os.makedirs(folder)\n",
    "    \n",
    "image_path1 = os.path.join(folder, image_file_name1)\n",
    "imageFile1 = open(image_path1, 'wb') # 저장하려는 파일이 텍스트 파일이 이닌 바이너리 파일\n",
    "\n",
    "chunk_size = 1000000\n",
    "for chunk in html_image1.iter_content(chunk_size):\n",
    "    imageFile1.write(chunk)\n",
    "imageFile1.close()"
   ]
  },
  {
   "cell_type": "markdown",
   "metadata": {},
   "source": [
    "## 무료 사진 사이트: https://pixabay.com/ko/"
   ]
  },
  {
   "cell_type": "code",
   "execution_count": 10,
   "metadata": {},
   "outputs": [],
   "source": [
    "import requests\n",
    "from bs4 import BeautifulSoup\n",
    "import os\n",
    "\n",
    "url = 'https://pixabay.com/ko/images/search/?cat=animals&pagi=1'\n",
    "\n",
    "html_pixabay_image = requests.get(url).text\n",
    "soup_pixabay_image = BeautifulSoup(html_pixabay_image, 'lxml')\n",
    "pixabay_image_elements = soup_pixabay_image.select('img')\n",
    "pixabay_image_url = pixabay_image_elements[0].get('src')\n",
    "pixabay_image_url\n",
    "\n",
    "html_image = requests.get(pixabay_image_url)\n",
    "\n",
    "folder = 'C:/myPyCode/download'\n",
    "\n",
    "image_path = os.path.join(folder, os.path.basename(pixabay_image_url))\n",
    "imageFile = open(image_path, 'wb')\n",
    "\n",
    "chunk_size = 1000000\n",
    "for chunk in html_image.iter_content(chunk_size):\n",
    "    imageFile.write(chunk)\n",
    "imageFile.close()"
   ]
  },
  {
   "cell_type": "code",
   "execution_count": 15,
   "metadata": {
    "scrolled": true
   },
   "outputs": [
    {
     "name": "stdout",
     "output_type": "stream",
     "text": [
      "이미지 파일명: \"sunset-4373510__340.jpg\". 내려받기 완료!\n",
      "이미지 파일명: \"tiger-4383776__340.jpg\". 내려받기 완료!\n",
      "이미지 파일명: \"flower-4373800__340.jpg\". 내려받기 완료!\n",
      "이미지 파일명: \"goat-4383002__340.jpg\". 내려받기 완료!\n",
      "이미지 파일명: \"butterfly-4381234__340.jpg\". 내려받기 완료!\n",
      "이미지 파일명: \"hare-4375952__340.jpg\". 내려받기 완료!\n",
      "이미지 파일명: \"rauhaardackel-4381363__340.jpg\". 내려받기 완료!\n",
      "이미지 파일명: \"butterfly-4377958__340.jpg\". 내려받기 완료!\n",
      "이미지 파일명: \"giraffes-4384005__340.jpg\". 내려받기 완료!\n",
      "이미지 파일명: \"cat-4336901__340.jpg\". 내려받기 완료!\n",
      "=================================\n",
      "선택한 모든 이미지 내려받기 완료!\n"
     ]
    }
   ],
   "source": [
    "import requests\n",
    "from bs4 import BeautifulSoup\n",
    "import os\n",
    "\n",
    "def get_image_url(url):\n",
    "    html_image_url = requests.get(url).text\n",
    "    soup_image_url = BeautifulSoup(html_image_url, 'lxml')\n",
    "    image_elements = soup_image_url.select('img')\n",
    "    if(image_elements != None):\n",
    "        image_urls = []\n",
    "        for image_element in image_elements:\n",
    "            image_urls.append(image_element.get('src'))\n",
    "        return image_urls\n",
    "    else:\n",
    "        return None\n",
    "    \n",
    "def download_image(img_folder, img_url):\n",
    "    if(img_url != None):\n",
    "        html_image = requests.get(img_url)\n",
    "        imageFile = open(os.path.join(img_folder, os.path.basename(img_url)),'wb')\n",
    "        \n",
    "        chunk_size = 1000000\n",
    "        for chunk in html_image.iter_content(chunk_size):\n",
    "            imageFile.write(chunk)\n",
    "            imageFile.close()\n",
    "        print('이미지 파일명: \"{0}\". 내려받기 완료!'.format(os.path.basename(img_url)))\n",
    "\n",
    "    else:\n",
    "        print('내려받을 이미지가 없습니다.')\n",
    "        \n",
    "pixabay_url = 'https://pixabay.com/ko/images/search/?cat=animals'\n",
    "\n",
    "figure_folder = 'C:/myPyCode/download'\n",
    "\n",
    "pixabay_image_urls = get_image_url(pixabay_url)\n",
    "\n",
    "num_of_download_image = 10\n",
    "\n",
    "for k in range(num_of_download_image):\n",
    "    download_image(figure_folder, pixabay_image_urls[k])\n",
    "\n",
    "print('=================================')\n",
    "print('선택한 모든 이미지 내려받기 완료!')"
   ]
  },
  {
   "cell_type": "code",
   "execution_count": null,
   "metadata": {},
   "outputs": [],
   "source": []
  },
  {
   "cell_type": "code",
   "execution_count": null,
   "metadata": {},
   "outputs": [],
   "source": []
  },
  {
   "cell_type": "code",
   "execution_count": null,
   "metadata": {},
   "outputs": [],
   "source": []
  }
 ],
 "metadata": {
  "kernelspec": {
   "display_name": "Python 3",
   "language": "python",
   "name": "python3"
  },
  "language_info": {
   "codemirror_mode": {
    "name": "ipython",
    "version": 3
   },
   "file_extension": ".py",
   "mimetype": "text/x-python",
   "name": "python",
   "nbconvert_exporter": "python",
   "pygments_lexer": "ipython3",
   "version": "3.6.8"
  }
 },
 "nbformat": 4,
 "nbformat_minor": 2
}
