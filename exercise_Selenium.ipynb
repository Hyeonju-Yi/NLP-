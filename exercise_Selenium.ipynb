{
 "cells": [
  {
   "cell_type": "code",
   "execution_count": 6,
   "metadata": {},
   "outputs": [],
   "source": [
    "from bs4 import BeautifulSoup as bs\n",
    "from selenium import webdriver as wd\n",
    "from selenium.webdriver.common.by import By\n",
    "\n",
    "# 명시적 대기를 위한 package\n",
    "from selenium.webdriver.support.ui import WebDriverWait\n",
    "# 암묵적 대기를 위한 package\n",
    "from selenium.webdriver.support import expected_conditions as ec\n",
    "\n",
    "import time\n",
    "from datetime import datetime\n",
    "\n",
    "import re\n",
    "\n",
    "from exercise_Selenium_Tour import TourInfo"
   ]
  },
  {
   "cell_type": "code",
   "execution_count": 7,
   "metadata": {},
   "outputs": [],
   "source": [
    "driver_path = 'C:/PythonHome/chromedriver.exe'\n",
    "\n",
    "url = 'http://tour.interpark.com/'\n",
    "keyword = '미국여행'\n",
    "tour_list = []\n",
    "\n",
    "driver = wd.Chrome(executable_path=driver_path)\n",
    "driver.get(url)\n",
    "# 검색창에 keyword 입력 - id: SerchGNBText\n",
    "driver.find_element_by_id('SearchGNBText').send_keys(keyword)\n",
    "# 검색 - class: search-btn\n",
    "# driver.find_element_by_class_name('search-btn').click()\n",
    "# 검색 - class: search-btn, type: button\n",
    "# Class를 접근할 때는 .으로 구분, ID로 접근할 때는 #으로 구분\n",
    "driver.find_element_by_css_selector('button.search-btn').click()\n",
    "\n",
    "# 명시적 대기: 특정 element가 load될 때 까지 대기\n",
    "# 암묵적 대기: 일정 시간 대기\n",
    "\n",
    "now = datetime.now()\n",
    "# 명시적 대기\n",
    "try:\n",
    "    #print('명시적 대기 전: {}:{}:{}'.format(now.hour, now.minute, now.second))\n",
    "    \n",
    "    WebDriverWait(driver, 10).until(\n",
    "        # 지정한 요소가 로딩될 때 까지 대기\n",
    "        # <div class = 'oTravelBox'..>\n",
    "        ec.presence_of_element_located((By.CLASS_NAME, 'oTravelBox'))\n",
    "    )\n",
    "    #print('명시적 대기 후: {}:{}:{}'.format(now.hour, now.minute, now.second))\n",
    "except Exception as e:\n",
    "    print('Exception Occurrance, reason:', e)\n",
    "\n",
    "# 암묵적 대기\n",
    "#print('암묵적 대기 전: {}:{}:{}'.format(now.hour, now.minute, now.second))\n",
    "driver.implicitly_wait(10)\n",
    "#print('암묵적 대기 후: {}:{}:{}'.format(now.hour, now.minute, now.second))\n",
    "# time.sleep(10)\n",
    "\n",
    "driver.find_element_by_css_selector(\n",
    "    '.oTravelBox > .boxList > .moreBtnWrap > .moreBtn').click()\n",
    "\n",
    "# 상품명, comment, 가격, 평점, 이미지 ,링크(상품상세정보), 기간1, 기간2\n",
    "# proTit, proSub, proPrice, proInfo, img, onClick의 주소, proInfo, box\n",
    "# <li class='boxItem'\n",
    "try:\n",
    "    time.sleep(2)\n",
    "    boxItems = driver.find_elements_by_css_selector(\n",
    "        '.oTravelBox > .boxList > .boxItem'\n",
    "    )\n",
    "\n",
    "    for box in boxItems:\n",
    "        title = box.find_element_by_css_selector('h5.proTit').text\n",
    "        \n",
    "        price = box.find_element_by_css_selector('strong.proPrice').text\n",
    "        price = int(re.sub(r'[+, 원~+]', '', price))\n",
    "        \n",
    "        comment = box.find_element_by_css_selector('p.proSub').text\n",
    "        \n",
    "        review_score = box.find_elements_by_css_selector('p.proInfo')[2].text\n",
    "        review_score = float(review_score.split(' ')[1])\n",
    "        \n",
    "        travel = box.find_elements_by_css_selector('p.proInfo')[0].text\n",
    "        p = re.compile('[0-9]+박[0-9]+일')\n",
    "        travel_period = p.findall(travel)[0]\n",
    "        \n",
    "        transfer = travel.split(travel_period)[1]\n",
    "        \n",
    "        departure_period = box.find_elements_by_css_selector('p.proInfo')[1].text\n",
    "        departure_period = departure_period.split(' : ')[1]\n",
    "        \n",
    "        tour_obj = TourInfo(\n",
    "            title, price, comment, review_score, travel_period, departure_period\n",
    "        )\n",
    "        \n",
    "        tour_list.append(tour_obj)\n",
    "except Exception as e:\n",
    "    print('Exception Occurrance, reason:', e)\n",
    "finally:\n",
    "    driver.close()"
   ]
  },
  {
   "cell_type": "code",
   "execution_count": 8,
   "metadata": {},
   "outputs": [],
   "source": [
    "import pymongo\n",
    "from pymongo import MongoClient"
   ]
  },
  {
   "cell_type": "code",
   "execution_count": 10,
   "metadata": {},
   "outputs": [
    {
     "name": "stderr",
     "output_type": "stream",
     "text": [
      "C:\\Users\\Hyeonju\\Anaconda3\\lib\\site-packages\\ipykernel_launcher.py:11: DeprecationWarning: insert is deprecated. Use insert_one or insert_many instead.\n",
      "  # This is added back by InteractiveShellApp.init_path()\n"
     ]
    }
   ],
   "source": [
    "client = MongoClient('localhost', 27017)\n",
    "db = client.test\n",
    "\n",
    "for tour in tour_list:\n",
    "    db.info.insert({\n",
    "        'title': tour.title, \n",
    "        'price': tour.price, \n",
    "        'comment': tour.comment, \n",
    "        'review_score': tour.review_score, \n",
    "        'travel_period': tour.travel_period, \n",
    "        'departure_peroid': tour.departure_period\n",
    "    })"
   ]
  },
  {
   "cell_type": "code",
   "execution_count": null,
   "metadata": {},
   "outputs": [],
   "source": []
  }
 ],
 "metadata": {
  "kernelspec": {
   "display_name": "Python 3",
   "language": "python",
   "name": "python3"
  },
  "language_info": {
   "codemirror_mode": {
    "name": "ipython",
    "version": 3
   },
   "file_extension": ".py",
   "mimetype": "text/x-python",
   "name": "python",
   "nbconvert_exporter": "python",
   "pygments_lexer": "ipython3",
   "version": "3.7.3"
  }
 },
 "nbformat": 4,
 "nbformat_minor": 2
}
