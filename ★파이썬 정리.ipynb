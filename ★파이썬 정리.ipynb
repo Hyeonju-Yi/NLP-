{
 "cells": [
  {
   "cell_type": "markdown",
   "metadata": {},
   "source": [
    "# 3장. 사칙연산 기호\n",
    "\n",
    "- '+' 더하기\n",
    "- '-' 빼기\n",
    "- '*' 곱하기\n",
    "- '/' 나누기\n",
    "- '**' 거듭제곱\n",
    "- '%' 나머지\n",
    "- '//' 몫\n",
    "\n",
    "### 2, 8, 16 진수\n",
    "- 2진수 : 0b , bin()\n",
    "- 8진수 : 0o , oct()\n",
    "- 16진수: 0x , hex()\n",
    "\n",
    "### 비교연산자\n",
    "\n",
    "- == : 같다  \n",
    "- != : 같지 않다  \n",
    "- <, >, <=, >=\n",
    "\n",
    "### 논리연산자\n",
    "- and : 논리곱\n",
    "- or : 논리합\n",
    "- not : 논리부정\n",
    "\n",
    "\n",
    "### 파이썬 연산자 우선순위 확인\n",
    "    > 비교연산과 논리연산의 혼합에서는 비교연산자가 우선순위"
   ]
  },
  {
   "cell_type": "markdown",
   "metadata": {},
   "source": [
    "# 4장. 변수\n",
    "\n",
    "### 변수명 규칙\n",
    "- 문자, 숫자, _ 를 이용하여 생성  \n",
    "- 대소문자 구분  \n",
    "- 숫자로 시작할 수 없음  \n",
    "- 공백 포함 불가  \n",
    "- 밑줄 이외 기호 사용 불가  \n",
    "- 예약어는 사용 불가: None, True, False, and, as, assert, break, class, continue, def, del, elif, else, except, finally, for, from, global, if, import, in, is, lambda, nonlocal, not, or, pass, raise, return, try, while, with, yield\n",
    "\n",
    "\n",
    "### 리스트 [ ]\n",
    "\n",
    "- 리스트의 입력 순서대로 순서가 바뀌지 않고 고정됨\n",
    "- 빈리스트 만들기 : 대괄호를 이용해 만들기 ([ ])\n",
    "- list[0] 0번부터 시작  / list[-1] 맨뒤 항목\n",
    "- 리스트는 요소 변경이 가능하나, 튜플은 불가능\n",
    "\n",
    "\n",
    "- print(list_data**[:5:2]**) # 처음부터 시작하여 6번째 항목까지, 2씩 증가\n",
    "- **del** list_data[6] # 7번째 항목을 삭제하라\n",
    "\n",
    "\n",
    "- myFriends**.append('Thomas')** # 맨 뒤에 항목 추가  \n",
    "- myFriends**.insert**(1,'Paul')** # 특정 위치에 항목 추가  \n",
    "- myFriends**.extend(['Laura','Betty'])** # 맨 뒤에 여러 항목 추가  \n",
    "\n",
    "\n",
    "- myFriends**.remove('Laura')** # 입력값과 첫번째로 일치하는 항목 삭제  \n",
    "- myFriends**.pop()** # 맨 뒤 항목 제거  \n",
    "\n",
    "\n",
    "- myFriends**.sort()** # 리스트 항목을 순방향으로 정렬  \n",
    "- myFriends**.reverse()** # 리스트 항목을 역순으로 정렬  \n",
    "\n",
    "\n",
    "- myFriends**.index('Lisa')** # 인자과 일치하는 첫 번째 항목의 위치 반환  \n",
    "- myFriends**.count('Mary')** # 인자와 일치하는 항목의 개수를 반환\n",
    "\n",
    "\n",
    "### 튜플 ( )\n",
    "\n",
    "- 튜플의 항목은 숫자, 문자열, 불, 리스트, 튜플, 세트, 딕셔너리 등으로 만들 수 있음.\n",
    "- 튜플 데이터는 한번 입력하면 그 이후 변경 불가 > 요소를 변경할 필요가 없거나, 변경할 수 없도록 할 때 사용\n",
    "- 소괄호를 사용하거나, 괄호를 사용하지 않고 입력\n",
    "\n",
    "\n",
    "- tuple = (1,) # 요소가 하나만 있는 튜플은 콤마로 마무리  \n",
    "\n",
    "\n",
    "\n",
    "### 세트{ }\n",
    "- 수학의 집합개념\n",
    "- 교집합, 합집합, 차집합을 구하는 메서드 사용 가능\n",
    "- 세트 내 동일요소가 있을 경우 하나로 변경됨\n",
    "\n",
    "\n",
    "- 교집합 : A.intersection(B) / &\n",
    "- 합집합 : A.union(B) / |\n",
    "- 차집합 : A.difference(B) / -\n",
    "\n",
    "\n",
    "## 리스트, 튜플, 세트 변환\n",
    "\n",
    "- a = [1,2,3,4,5]  # 리스트 a\n",
    "- b = tuple(a) # list a를 튜플 b로 변환\n",
    "- c = set(a) #list a 를 세트 a로 변환\n",
    "- d = list(c) # 세트 c를 리스트 a로 변환\n",
    "\n",
    "\n",
    "\n",
    "### 딕셔너리 { key : value }\n",
    "\n",
    "- key와 value가 항상 쌍으로 구성\n",
    "- 인덱스 대신 key를 이용해 값을 다룸\n",
    "- key : 임의로 지정한 숫자나 문자열이 될 수 있음\n",
    "- value : 어떤 데이터 타입도 가능\n",
    "- 데이터 전체를 ({ })로 감싸서 만듦\n",
    "\n",
    "\n",
    "- dict_data['key'] # 지정한 key의 value만 반환\n",
    "- dict_data[3] # key 3에 해당하는 'value'가 반환 / 위치가 아님!!!!\n",
    "\n",
    "\n",
    "- dict_data['key'] = ['value']로 key : value를 변경하거나 추가할 수 있음.\n",
    "- del dict_data['key'] 로 삭제\n",
    "\n",
    "#### 딕셔너리 메서드\n",
    "- keys() : key 전체를 리스트 형태로 반환\n",
    "- values() : value 전체를 리스트 형태로 반환\n",
    "- items() : key와 value 쌍을 (key, value)처럼 튜플 형태로 반환\n",
    "- update(dict_data2) : 딕셔너리 데이터('dict_data2') 추가\n",
    "- clear() : 모든 항목 삭제\n",
    "\n",
    "\n",
    "- list(dict_data.keys()) # list로 변환하여 모든 key값 반환\n",
    "- list(dict_data.values()) # list로 변환하여 모든 value값 반환\n",
    "- list(dict_data.items())  # # list로 변환하여 모든 item값 반환"
   ]
  },
  {
   "cell_type": "markdown",
   "metadata": {},
   "source": [
    "# 5장. 제어문\n",
    "\n",
    "\n",
    "### 1. if문 (조건에 따른 분기)\n",
    "### 2. for문 (작업을 반복적으로 수행) : for i in range(반복범위):\n",
    "### 3. While 문 (조건에 따라 반복)\n",
    "### 4. 리스트 컴프리헨션 (반복문을 한줄로 코드 작성)"
   ]
  },
  {
   "cell_type": "markdown",
   "metadata": {},
   "source": [
    "#### ** if문 > 중첩 조건문**"
   ]
  },
  {
   "cell_type": "code",
   "execution_count": 6,
   "metadata": {},
   "outputs": [
    {
     "name": "stdout",
     "output_type": "stream",
     "text": [
      "Perfect\n"
     ]
    }
   ],
   "source": [
    "x = 100  \n",
    "if x >= 90:  \n",
    "    if x == 100:  \n",
    "        print('Perfect')  \n",
    "    else:  \n",
    "        print('Very Good')  \n",
    "elif (x >= 80) and (x < 90):  \n",
    "    print('Good')  \n",
    "else:  \n",
    "    print('Bad')  "
   ]
  },
  {
   "cell_type": "markdown",
   "metadata": {},
   "source": [
    "#### ** for문 > 중첩 for문**"
   ]
  },
  {
   "cell_type": "code",
   "execution_count": 7,
   "metadata": {},
   "outputs": [
    {
     "name": "stdout",
     "output_type": "stream",
     "text": [
      "x1 y1\n",
      "x1 y2\n",
      "x2 y1\n",
      "x2 y2\n"
     ]
    }
   ],
   "source": [
    "x_list = ['x1', 'x2']\n",
    "y_list = ['y1', 'y2']\n",
    "\n",
    "for x in x_list:\n",
    "    for y in y_list:\n",
    "        print(x, y)"
   ]
  },
  {
   "cell_type": "markdown",
   "metadata": {},
   "source": [
    "#### ** for문 > 여러개의 리스트 다루기**"
   ]
  },
  {
   "cell_type": "code",
   "execution_count": 18,
   "metadata": {},
   "outputs": [
    {
     "name": "stdout",
     "output_type": "stream",
     "text": [
      "James 95\n",
      "Robert 96\n",
      "Lisa 97\n",
      "Mary 94\n",
      "\n",
      "(---위는 len(), 아래는 zip()활용---)\n",
      "\n",
      "James 95\n",
      "Robert 96\n",
      "Lisa 97\n",
      "Mary 94\n"
     ]
    }
   ],
   "source": [
    "names = ['James', 'Robert', 'Lisa', 'Mary']\n",
    "scores = [95, 96, 97, 94]\n",
    "\n",
    "for i in range(len(names)):\n",
    "    print(names[i], scores[i])\n",
    "    \n",
    "print('\\n(---위는 len(), 아래는 zip()활용---)\\n')\n",
    "    \n",
    "    \n",
    "for name, score in zip(names, scores):\n",
    "    print(name, score)\n",
    "    \n",
    "    "
   ]
  },
  {
   "cell_type": "markdown",
   "metadata": {},
   "source": [
    "#### ** while문 >  조건반복, 무한반복 **"
   ]
  },
  {
   "cell_type": "code",
   "execution_count": 1,
   "metadata": {},
   "outputs": [
    {
     "name": "stdout",
     "output_type": "stream",
     "text": [
      "i.sum\n",
      "1 1\n",
      "2 3\n",
      "3 6\n",
      "4 10\n",
      "5 15\n",
      "6 21\n"
     ]
    }
   ],
   "source": [
    "i = 0\n",
    "sum = 0\n",
    "\n",
    "print('i.sum')\n",
    "while(sum < 20) :\n",
    "    i = i + 1\n",
    "    sum = sum + i\n",
    "    print(i, sum)\n",
    "    \n",
    "# 무한반복\n",
    "# while True:\n",
    "#     print('while test')    "
   ]
  },
  {
   "cell_type": "markdown",
   "metadata": {},
   "source": [
    "#### ** break(멈추기), continue(건너뛰기) **"
   ]
  },
  {
   "cell_type": "code",
   "execution_count": 2,
   "metadata": {},
   "outputs": [
    {
     "name": "stdout",
     "output_type": "stream",
     "text": [
      "1\n",
      "continue next\n",
      "3\n",
      "4\n"
     ]
    }
   ],
   "source": [
    "k = 0\n",
    "while True:\n",
    "    k = k + 1\n",
    "    \n",
    "    if(k ==2):\n",
    "        print('continue next')\n",
    "        continue\n",
    "    if(k > 4):\n",
    "        break\n",
    "        \n",
    "    print(k)"
   ]
  },
  {
   "cell_type": "markdown",
   "metadata": {},
   "source": [
    "#### ** 리스트 컴프리헨션 ** "
   ]
  },
  {
   "cell_type": "code",
   "execution_count": 7,
   "metadata": {},
   "outputs": [
    {
     "name": "stdout",
     "output_type": "stream",
     "text": [
      "[1, 4, 9, 16, 25]\n"
     ]
    }
   ],
   "source": [
    "numbers = [1,2,3,4,5]\n",
    "square = [i**2 for i in numbers]\n",
    "print(square)"
   ]
  },
  {
   "cell_type": "code",
   "execution_count": 9,
   "metadata": {},
   "outputs": [
    {
     "name": "stdout",
     "output_type": "stream",
     "text": [
      "[9, 16, 25]\n"
     ]
    }
   ],
   "source": [
    "numbers = [1,2,3,4,5]\n",
    "square = [i**2 for i in numbers if i >= 3]\n",
    "print(square)\n"
   ]
  },
  {
   "cell_type": "markdown",
   "metadata": {},
   "source": [
    "# 6장. 입력과 출력\n",
    "\n",
    "- print('Best','python','book', sep = '-:*:-')   # sep'' : 요소 사이 구분\n",
    "- 줄바꿈: \\n / 줄 이어쓰기: end=''\n",
    "- %s(문자열) / %d(정수) / %f(실수)\n",
    "- string.format() : 형식 지정 문자열, 출력 위치 지정 (p.102 숫자 출력 형식 지정 표)\n",
    "- 입력받을 숫자가 **정수인지 실수인지 확실치 않으면 float()로!**\n",
    "\n",
    "\n",
    "- 파일 열기 : f = open('file_name', 'mode') / 기본: rt(텍스트 파일로 읽기모드)\n",
    "- 파일 쓰기 : f = open('file_name', 'w') / **f.write('str') / f.close / !type file_name.txt(파일내용 출력)**\n",
    "- 파일 읽기 : f = open('file_name', 'r' / **file_text = f.read() 변수에 파일내용 저장 / f.close() / print(file_text) 파일내용 출력**\n",
    "\n",
    "\n",
    "- with문으로 파일 읽고 쓰기\n"
   ]
  },
  {
   "cell_type": "markdown",
   "metadata": {},
   "source": [
    "#### ** 줄바꾸기, 줄 이어쓰기 **"
   ]
  },
  {
   "cell_type": "code",
   "execution_count": 16,
   "metadata": {},
   "outputs": [
    {
     "name": "stdout",
     "output_type": "stream",
     "text": [
      "James is my friend. He\n",
      "is\n",
      "Korean\n"
     ]
    }
   ],
   "source": [
    "print('James is my friend. ', end='')\n",
    "print('''He\n",
    "is\n",
    "Korean''')"
   ]
  },
  {
   "cell_type": "markdown",
   "metadata": {},
   "source": [
    "#### ** 형식 / 위치 지정 출력 **"
   ]
  },
  {
   "cell_type": "code",
   "execution_count": 23,
   "metadata": {},
   "outputs": [
    {
     "name": "stdout",
     "output_type": "stream",
     "text": [
      "광재는 나의 친구입니다.\n",
      "반지름: 3, 원주율: 3.141593\n",
      "이름: 광재, 반지름: 3, 원주율: 3.14159265358979\n"
     ]
    }
   ],
   "source": [
    "name = '광재'\n",
    "print('%s는 나의 친구입니다.' %name)\n",
    "\n",
    "r = 3\n",
    "PI = 3.14159265358979\n",
    "print('반지름: %d, 원주율: %f' %(r, PI))\n",
    "\n",
    "print('이름: {0}, 반지름: {1}, 원주율: {2}'.format(name, r, PI))"
   ]
  },
  {
   "cell_type": "markdown",
   "metadata": {},
   "source": [
    "#### ** 반복문으로 파일 읽고 쓰기 **"
   ]
  },
  {
   "cell_type": "code",
   "execution_count": 31,
   "metadata": {},
   "outputs": [
    {
     "name": "stdout",
     "output_type": "stream",
     "text": [
      "2 x 1 = 2 \n",
      "2 x 2 = 4 \n",
      "2 x 3 = 6 \n",
      "2 x 4 = 8 \n",
      "2 x 5 = 10 \n"
     ]
    }
   ],
   "source": [
    "# 파일에 문자열 한 줄씩 쓰기\n",
    "\n",
    "f = open('two_times_table.txt', 'w')\n",
    "for num in range(1, 6):\n",
    "    format_string = '2 x {0} = {1} \\n'.format(num, num*2)\n",
    "    f.write(format_string)\n",
    "f.close()\n",
    "!type two_times_table.txt"
   ]
  },
  {
   "cell_type": "code",
   "execution_count": 10,
   "metadata": {},
   "outputs": [
    {
     "name": "stdout",
     "output_type": "stream",
     "text": [
      "2 x 1 = 2 \n",
      "2 x 2 = 4 \n",
      "2 x 3 = 6 \n",
      "2 x 4 = 8 \n",
      "2 x 5 = 10 \n"
     ]
    }
   ],
   "source": [
    "# 파일에서 문자열 한 줄씩 읽기\n",
    "\n",
    "f = open('two_times_table.txt')\n",
    "line = f.readline()\n",
    "# line2 = f.readline()\n",
    "# f.close()\n",
    "# print(line, end='')  \n",
    "# print(line2, end='')\n",
    "\n",
    "while line:\n",
    "    print(line, end='') # readline으로 읽은 문자열은 \\n이 포함되어 있으므로 end='' 입력\n",
    "    line = f.readline()\n",
    "f.close()"
   ]
  },
  {
   "cell_type": "code",
   "execution_count": 14,
   "metadata": {},
   "outputs": [
    {
     "name": "stdout",
     "output_type": "stream",
     "text": [
      "2 x 1 = 2 \n",
      "2 x 2 = 4 \n",
      "2 x 3 = 6 \n",
      "2 x 4 = 8 \n",
      "2 x 5 = 10 \n"
     ]
    }
   ],
   "source": [
    "# 파일에서 전체 줄 읽기\n",
    "f = open('two_times_table.txt')\n",
    "for line in f.readlines():\n",
    "    print(line, end='')\n",
    "f.close()"
   ]
  },
  {
   "cell_type": "markdown",
   "metadata": {},
   "source": [
    "#### **  with문으로 파일 읽고 쓰기 **"
   ]
  },
  {
   "cell_type": "code",
   "execution_count": 22,
   "metadata": {},
   "outputs": [
    {
     "name": "stdout",
     "output_type": "stream",
     "text": [
      "3 x 1 = 3\n",
      "3 x 2 = 6\n",
      "3 x 3 = 9\n",
      "3 x 4 = 12\n",
      "3 x 5 = 15\n"
     ]
    }
   ],
   "source": [
    "with open('C:/myPyCode/myTextFile3.txt', 'w') as f:\n",
    "    for num in range(1, 6):\n",
    "        format_string = '3 x {0} = {1}\\n'.format(num, num*3)\n",
    "        f.write(format_string)        \n",
    "\n",
    "with open('C:/myPyCode/myTextFile3.txt', 'r') as f:\n",
    "    for line in f.readlines():\n",
    "        print(line, end='')"
   ]
  },
  {
   "cell_type": "markdown",
   "metadata": {},
   "source": [
    "# 7장. 함수\n",
    "\n",
    "#### 람다(lambda) 함수 : lambda_function = lambda<인자> : <인자 활용 수행 코드>\n",
    "\n",
    "\n",
    "#### 내장함수\n",
    "- 형 변환 함수: int(), float(), str(), list(), tuple(), set()\n",
    "- bool 함수: True/False 반환 / 리스트, 튜플, 세트는 인자가 없으면 False반환\n",
    "- 최소값 min(), 최대값 max(): 리스트, 튜플, 세트의 항목이나 문자열 중 최소값, 최대값 반환\n",
    "- 절대값 abs(), 전체합 sum()\n",
    "- 항목의 개수 len() : 공백 포함, 문자열, 리스트, 튜플, 딕셔너리 데이터의 길이 반환"
   ]
  },
  {
   "cell_type": "code",
   "execution_count": 23,
   "metadata": {},
   "outputs": [
    {
     "data": {
      "text/plain": [
       "11"
      ]
     },
     "execution_count": 23,
     "metadata": {},
     "output_type": "execute_result"
    }
   ],
   "source": [
    "# 람다 함수\n",
    "mySimpleFunc = lambda x, y, z : 2*x + 3*y + z\n",
    "mySimpleFunc(1, 2, 3) # 1, 2, 3이 각 x, y, z로 할당"
   ]
  },
  {
   "cell_type": "code",
   "execution_count": 29,
   "metadata": {},
   "outputs": [
    {
     "name": "stdout",
     "output_type": "stream",
     "text": [
      "입력된 이름: James\n",
      "입력된 이름이 없습니다.\n"
     ]
    }
   ],
   "source": [
    "# bool 함수 활용\n",
    "\n",
    "def print_name(name):\n",
    "    if bool(name):\n",
    "        print('입력된 이름:', name)\n",
    "    else:\n",
    "        print('입력된 이름이 없습니다.')\n",
    "\n",
    "print_name('James')\n",
    "print_name('')"
   ]
  },
  {
   "cell_type": "code",
   "execution_count": 31,
   "metadata": {},
   "outputs": [
    {
     "name": "stdout",
     "output_type": "stream",
     "text": [
      "총점: 350, 평균:87.5\n"
     ]
    }
   ],
   "source": [
    "# 내장함수 활용\n",
    "\n",
    "scores = [90, 80, 95, 85]\n",
    "\n",
    "score_sum = 0\n",
    "subject_num = 0\n",
    "for score in scores:\n",
    "    score_sum = score_sum + score\n",
    "    subject_num = subject_num + 1\n",
    "    \n",
    "average = score_sum / subject_num\n",
    "\n",
    "print('총점: {0}, 평균:{1}'.format(score_sum, average))"
   ]
  },
  {
   "cell_type": "code",
   "execution_count": 33,
   "metadata": {},
   "outputs": [
    {
     "name": "stdout",
     "output_type": "stream",
     "text": [
      "총점: 350, 평균:87.5\n"
     ]
    }
   ],
   "source": [
    "scores = [90, 80, 95, 85]\n",
    "\n",
    "print('총점: {0}, 평균:{1}'.format(sum(scores), sum(scores)/len(scores)))"
   ]
  },
  {
   "cell_type": "code",
   "execution_count": 34,
   "metadata": {},
   "outputs": [
    {
     "name": "stdout",
     "output_type": "stream",
     "text": [
      "최고점: 95, 최하점: 80\n"
     ]
    }
   ],
   "source": [
    "print('최고점: {0}, 최하점: {1}'.format(max(scores), min(scores)))"
   ]
  },
  {
   "cell_type": "markdown",
   "metadata": {},
   "source": [
    "# 8장. 객체와 클래스\n",
    "\n",
    "**- 객체(Object): 변수(속성: 바퀴크기, 색상)과 함수(행동: 이동속도, 좌/우회전, 정지)의 묶음 / Class의 Instance**  \n",
    "**- 클래스(Class): 클래스명은 알파벳 대문자로 시작, 클래스 함수의 첫번째 인자는 self**\n",
    "\n",
    "- 클래스에서 사용하는 변수:  \n",
    "-- 클래스 변수(함수 밖): 변수명 = 데이터   \n",
    "-- 인스턴스 변수(함수 안) : self.변수명 = 데이터  \n"
   ]
  },
  {
   "cell_type": "code",
   "execution_count": 41,
   "metadata": {},
   "outputs": [
    {
     "name": "stdout",
     "output_type": "stream",
     "text": [
      "자전거: 시속 30킬로미터로 전진\n",
      "자전거: 좌회전\n",
      "자전거 (26, black): 정지\n"
     ]
    }
   ],
   "source": [
    "class Bicycle():\n",
    "    \n",
    "    def move(self, speed):\n",
    "        print('자전거: 시속 {0}킬로미터로 전진'.format(speed))\n",
    "        \n",
    "    def turn(self, direction):\n",
    "        print('자전거: {0}회전'.format(direction))\n",
    "    \n",
    "    def stop(self):\n",
    "        print('자전거 ({0}, {1}): 정지'.format(self.wheel_size, self.color))\n",
    "        \n",
    "my_bicycle = Bicycle() # 객체 생성\n",
    "\n",
    "my_bicycle.wheel_size = 26 # 객체 속성 설정\n",
    "my_bicycle.color = 'black'\n",
    "\n",
    "my_bicycle.move(30)  # 객체 메서드 호출\n",
    "my_bicycle.turn('좌')\n",
    "my_bicycle.stop()"
   ]
  },
  {
   "cell_type": "code",
   "execution_count": 47,
   "metadata": {
    "scrolled": true
   },
   "outputs": [
    {
     "name": "stdout",
     "output_type": "stream",
     "text": [
      "자전거: 시속 30킬로미터로 전진\n",
      "자전거: 좌회전\n",
      "자전거 (27, Red): 정지\n"
     ]
    }
   ],
   "source": [
    "class Bicycle():\n",
    "\n",
    "    def __init__(self, wheel_size, color):\n",
    "        self.wheel_size = wheel_size\n",
    "        self.color = color\n",
    "        \n",
    "    def move(self, speed):\n",
    "        print('자전거: 시속 {0}킬로미터로 전진'.format(speed))\n",
    "        \n",
    "    def turn(self, direction):\n",
    "        print('자전거: {0}회전'.format(direction))\n",
    "    \n",
    "    def stop(self):\n",
    "        print('자전거 ({0}, {1}): 정지'.format(self.wheel_size, self.color))\n",
    "\n",
    "my_bicycle1 = Bicycle(27, 'Red') # 객체 생성과 동시에 속성값 지정\n",
    "\n",
    "my_bicycle1.move(30)  # 객체 메서드 호출\n",
    "my_bicycle1.turn('좌')\n",
    "my_bicycle1.stop()"
   ]
  },
  {
   "cell_type": "markdown",
   "metadata": {},
   "source": [
    "# 9장. 문자열과 텍스트 파일 데이터 다루기\n",
    "\n",
    "- **문자열 분리하기 : .split('구분자')**\n",
    "- 앞에서부터 n개까지만 실행 .split(maxsplit=n)\n",
    "- **필요없는 문자 지우기: .strip()**\n",
    "- 문자열 사이의 불필요한 문자 지우기: .lstrip() / .rstrip()\n",
    "- 문자열 연결하기: \" \".join()\n",
    "- 문자열 바꾸기 : .replace(old, new[, count])\n",
    "- 대소문자로 변경하기: str.lower() / str.upper()  : 파이썬은 대소문자를 구분함."
   ]
  },
  {
   "cell_type": "code",
   "execution_count": 10,
   "metadata": {},
   "outputs": [
    {
     "name": "stdout",
     "output_type": "stream",
     "text": [
      "['+82', '01-2345-6789']\n",
      "국내전화번호: 01-2345-6789\n"
     ]
    }
   ],
   "source": [
    "phone_number = '+82-01-2345-6789'\n",
    "split_num = phone_number.split('-',1) # - 를 기준으로 2개로 구분\n",
    "\n",
    "print(split_num)\n",
    "print('국내전화번호: {0}'.format(split_num[1]))"
   ]
  },
  {
   "cell_type": "markdown",
   "metadata": {},
   "source": [
    "#### ** 필요없는 문자열 삭제하기 **"
   ]
  },
  {
   "cell_type": "code",
   "execution_count": 16,
   "metadata": {},
   "outputs": [
    {
     "data": {
      "text/plain": [
       "['  에스프레소', ' 아메리카노', '    카페라테', '    카푸치노  ']"
      ]
     },
     "execution_count": 16,
     "metadata": {},
     "output_type": "execute_result"
    }
   ],
   "source": [
    "coffee_menu = '  에스프레소, 아메리카노,    카페라테,    카푸치노  '\n",
    "coffee_menu_list = coffee_menu.split(',')\n",
    "coffee_menu_list\n"
   ]
  },
  {
   "cell_type": "code",
   "execution_count": 17,
   "metadata": {},
   "outputs": [
    {
     "name": "stdout",
     "output_type": "stream",
     "text": [
      "['에스프레소', '아메리카노', '카페라테', '카푸치노']\n"
     ]
    }
   ],
   "source": [
    "coffee_list = []\n",
    "for coffee in coffee_menu_list:\n",
    "    temp = coffee.strip() # 하나씩 문자열 공백 제거\n",
    "    coffee_list.append(temp) # 리스트 변수에 공백 제거한 문자열 추가\n",
    "    \n",
    "print(coffee_list)"
   ]
  },
  {
   "cell_type": "markdown",
   "metadata": {},
   "source": [
    "#### ** 문자열 연결하기 **"
   ]
  },
  {
   "cell_type": "code",
   "execution_count": 20,
   "metadata": {},
   "outputs": [
    {
     "data": {
      "text/plain": [
       "'서울시-_-서초구-_-반포대로'"
      ]
     },
     "execution_count": 20,
     "metadata": {},
     "output_type": "execute_result"
    }
   ],
   "source": [
    "address_list = ['서울시', '서초구', '반포대로']\n",
    "'-_-'.join(address_list)"
   ]
  },
  {
   "cell_type": "markdown",
   "metadata": {},
   "source": [
    "#### ** 문자열 바꾸기 **"
   ]
  },
  {
   "cell_type": "code",
   "execution_count": 30,
   "metadata": {},
   "outputs": [
    {
     "name": "stdout",
     "output_type": "stream",
     "text": [
      "IPython is fast. IPython is friendly. IPython is open\n",
      "IPython is fast. IPython is friendly. Python is open\n"
     ]
    }
   ],
   "source": [
    "str_a = 'Python is fast. Python is friendly. Python is open'\n",
    "print(str_a.replace('Python', 'IPython'))\n",
    "print(str_a.replace('Python', 'IPython', 2)) # 두번째까지만"
   ]
  },
  {
   "cell_type": "code",
   "execution_count": 29,
   "metadata": {},
   "outputs": [
    {
     "name": "stdout",
     "output_type": "stream",
     "text": [
      "[Python][is][fast]/////Python]is]fast]/////Pythonisfast\n"
     ]
    }
   ],
   "source": [
    "str_b = '[Python][is][fast]'\n",
    "str_b1 = str_b.replace('[', '')\n",
    "str_b2 = str_b1.replace(']','')\n",
    "\n",
    "print(str_b + '/////'+  str_b1 +'/////'+ str_b2)"
   ]
  },
  {
   "cell_type": "markdown",
   "metadata": {},
   "source": [
    "### 텍스트 파일 읽고 처리하기"
   ]
  },
  {
   "cell_type": "code",
   "execution_count": 36,
   "metadata": {},
   "outputs": [
    {
     "name": "stdout",
     "output_type": "stream",
     "text": [
      "에스프레소: [10, 12, 11, 15]\n",
      "아메리카노: [50, 45, 53, 49]\n",
      "카페라테: [45, 41, 32, 38]\n",
      "카푸치노: [20, 18, 25, 22]\n"
     ]
    }
   ],
   "source": [
    "file_name = 'C:/myPyCode/data/coffeeShopSales.txt'\n",
    "f = open(file_name)\n",
    "header = f.readline()\n",
    "headerList = header.split() # 첫 줄의 문자열을 분리한 후 리스트로 반환\n",
    "\n",
    "espresso = []\n",
    "americano = []\n",
    "cafelatte = []\n",
    "cappucino = []\n",
    "\n",
    "for line in f:\n",
    "    dataList = line.split() # 문자열에서 공백을 제거하여 문자열 리스트로 변환\n",
    "    \n",
    "    espresso.append(int(dataList[1]))\n",
    "    americano.append(int(dataList[2]))\n",
    "    cafelatte.append(int(dataList[3]))\n",
    "    cappucino.append(int(dataList[4]))\n",
    "    \n",
    "f.close()\n",
    "\n",
    "print('{0}: {1}'.format(headerList[1], espresso))\n",
    "print('{0}: {1}'.format(headerList[2], americano))\n",
    "print('{0}: {1}'.format(headerList[3], cafelatte))\n",
    "print('{0}: {1}'.format(headerList[4], cappucino))"
   ]
  },
  {
   "cell_type": "code",
   "execution_count": 37,
   "metadata": {},
   "outputs": [
    {
     "name": "stdout",
     "output_type": "stream",
     "text": [
      "[에스프레소] 판매량\n",
      "- 나흘 전체: 48, 하루 평균: 12.0\n",
      "[아메리카노] 판매량\n",
      "- 나흘 전체: 197, 하루 평균: 49.25\n",
      "[카페라테] 판매량\n",
      "- 나흘 전체: 156, 하루 평균: 39.0\n",
      "[카푸치노] 판매량\n",
      "- 나흘 전체: 85, 하루 평균: 21.25\n"
     ]
    }
   ],
   "source": [
    "total_sum = [sum(espresso), sum(americano), sum(cafelatte), sum(cappucino)]\n",
    "total_mean = [sum(espresso)/len(espresso), sum(americano)/len(americano), sum(cafelatte)/len(cafelatte), sum(cappucino)/len(cappucino)]\n",
    "\n",
    "for k in range(len(total_sum)):\n",
    "    print('[{0}] 판매량'.format(headerList[k+1]))\n",
    "    print('- 나흘 전체: {0}, 하루 평균: {1}'.format(total_sum[k], total_mean[k]))    "
   ]
  },
  {
   "cell_type": "markdown",
   "metadata": {},
   "source": [
    "# 10장. 모듈\n",
    "\n",
    "- import 모듈명\n",
    "- from 모듈명 import 변수명/ 함수명/ 클래스명 (여러개지정 가능)\n",
    "- from 모듈명 import 변수명/ 함수명/ 클래스명 as 별명\n",
    "\n",
    "\n",
    "- if __name__ == '__main__':  <같은 모듈에서 코드를 직접 수행할때만 실행>\n",
    "-       else:   <import 되었을 때만 실행>\n",
    "\n",
    "### ★수업자료 참고!!★\n"
   ]
  },
  {
   "cell_type": "code",
   "execution_count": null,
   "metadata": {},
   "outputs": [],
   "source": []
  },
  {
   "cell_type": "code",
   "execution_count": null,
   "metadata": {},
   "outputs": [],
   "source": []
  },
  {
   "cell_type": "code",
   "execution_count": null,
   "metadata": {},
   "outputs": [],
   "source": []
  },
  {
   "cell_type": "code",
   "execution_count": null,
   "metadata": {},
   "outputs": [],
   "source": []
  }
 ],
 "metadata": {
  "kernelspec": {
   "display_name": "Python 3",
   "language": "python",
   "name": "python3"
  },
  "language_info": {
   "codemirror_mode": {
    "name": "ipython",
    "version": 3
   },
   "file_extension": ".py",
   "mimetype": "text/x-python",
   "name": "python",
   "nbconvert_exporter": "python",
   "pygments_lexer": "ipython3",
   "version": "3.6.8"
  }
 },
 "nbformat": 4,
 "nbformat_minor": 2
}
