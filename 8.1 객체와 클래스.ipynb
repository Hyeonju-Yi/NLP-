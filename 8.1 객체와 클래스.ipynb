{
 "cells": [
  {
   "cell_type": "markdown",
   "metadata": {},
   "source": [
    "# 객체와 클래스\n",
    "\n",
    "- 객체란?  \n",
    "  속성(상태, 특징: 변수로 구현)과 행위(행동, 동작, 기능: 함수로 구현)로 구성된 대상  \n",
    "  \n",
    "  \n",
    "- 객체는 클래스에서 생성하므로 객체를 클래스의 인스턴스(Instance) 라고 함.\n",
    "  \n",
    "  \n",
    "-  클래스 선언(대문자로 시작)  \n",
    "  class Bicycle():   \n",
    "  \n",
    " \n",
    "- 객체 생성  \n",
    "  my_bicyecle = Bicycle()"
   ]
  },
  {
   "cell_type": "code",
   "execution_count": 3,
   "metadata": {},
   "outputs": [],
   "source": [
    "class Bicycle():\n",
    "    pass\n",
    "\n",
    "my_bicycle = Bicycle()"
   ]
  },
  {
   "cell_type": "code",
   "execution_count": 4,
   "metadata": {},
   "outputs": [
    {
     "data": {
      "text/plain": [
       "<__main__.Bicycle at 0x4ee9d30>"
      ]
     },
     "execution_count": 4,
     "metadata": {},
     "output_type": "execute_result"
    }
   ],
   "source": [
    "my_bicycle"
   ]
  },
  {
   "cell_type": "code",
   "execution_count": 6,
   "metadata": {},
   "outputs": [],
   "source": [
    "# 객체에 속성값 설정\n",
    "\n",
    "my_bicycle.wheel_size = 26\n",
    "my_bicycle.color = 'black'"
   ]
  },
  {
   "cell_type": "code",
   "execution_count": 7,
   "metadata": {},
   "outputs": [
    {
     "name": "stdout",
     "output_type": "stream",
     "text": [
      "바퀴크기: 26\n",
      "색상: black\n"
     ]
    }
   ],
   "source": [
    "print('바퀴크기:', my_bicycle.wheel_size)\n",
    "print('색상:', my_bicycle.color)"
   ]
  },
  {
   "cell_type": "code",
   "execution_count": 16,
   "metadata": {},
   "outputs": [],
   "source": [
    "# 메소드를 만들때 첫번째 파라미터는 무조건  self !!!!!!!!\n",
    "\n",
    "class Bicycle():\n",
    "    \n",
    "    def move(self, speed):\n",
    "        print('자전거: 시속 {0}킬로미터로 전진'.format(speed))\n",
    "        \n",
    "    def turn(self, direction):\n",
    "        print('자전거: {0}회전'.format(direction))\n",
    "        \n",
    "    def stop(self):\n",
    "        print('자전거({0}, {1}): 정지'.format(self.wheel_size, self.color))  # 속성값을 받을때는 무조건 self. 으로 받아야 함 !!!"
   ]
  },
  {
   "cell_type": "code",
   "execution_count": 17,
   "metadata": {
    "scrolled": true
   },
   "outputs": [
    {
     "name": "stdout",
     "output_type": "stream",
     "text": [
      "자전거: 시속 30킬로미터로 전진\n",
      "자전거: 좌회전\n",
      "자전거(26, black): 정지\n"
     ]
    }
   ],
   "source": [
    "# 객체의 메서드 호출\n",
    "\n",
    "my_bicycle = Bicycle()\n",
    "\n",
    "my_bicycle.wheel_size = 26\n",
    "my_bicycle.color = 'black'\n",
    "\n",
    "my_bicycle.move(30)     # 시속 입력\n",
    "my_bicycle.turn('좌')   # 방향 입력\n",
    "my_bicycle.stop()       # 위에서 각 속성 설정됨"
   ]
  },
  {
   "cell_type": "code",
   "execution_count": 32,
   "metadata": {},
   "outputs": [
    {
     "name": "stdout",
     "output_type": "stream",
     "text": [
      "자전거: 시속 20킬로미터로 전진\n",
      "자전거: 좌회전\n",
      "자전거 (27, red): 정지\n",
      "자전거: 시속 15킬로미터로 전진\n",
      "자전거: 우회전\n",
      "자전거 (24, blue): 정지\n",
      "자전거: 시속 5킬로미터로 전진\n",
      "자전거: 우회전\n",
      "자전거 (16, green): 출발\n",
      "자전거: 6번 정지\n"
     ]
    }
   ],
   "source": [
    "class Bicycle():\n",
    "    \n",
    "    def move(self, speed):\n",
    "        print('자전거: 시속 {0}킬로미터로 전진'.format(speed))\n",
    "        \n",
    "    def turn(self, direction):\n",
    "        print('자전거: {0}회전'.format(direction))\n",
    "        \n",
    "    def stop(self):\n",
    "        print('자전거 ({0}, {1}): 정지'.format(self.wheel_size, self.color))\n",
    "                \n",
    "    def start(self):\n",
    "        print('자전거 ({0}, {1}): 출발'.format(self.wheel_size, self.color))\n",
    "        \n",
    "    def stop_count(self, stop):\n",
    "        print('자전거: {0}번 정지'.format(stop))\n",
    "\n",
    "\n",
    "bicycle1 = Bicycle()\n",
    "bicycle1.wheel_size = 27   # 메서드에서 선언된 변수\n",
    "bicycle1.color = 'red'\n",
    "bicycle1.move(20)\n",
    "bicycle1.turn('좌')\n",
    "bicycle1.stop()\n",
    "\n",
    "\n",
    "\n",
    "bicycle2 = Bicycle()\n",
    "bicycle2.wheel_size = 24\n",
    "bicycle2.color = 'blue'\n",
    "bicycle2.move(15)\n",
    "bicycle2.turn('우')\n",
    "bicycle2.stop()\n",
    "\n",
    "\n",
    "\n",
    "bicycle3 = Bicycle()\n",
    "bicycle3.wheel_size = 16\n",
    "bicycle3.color ='green'\n",
    "bicycle3.move(5)\n",
    "bicycle3.turn('우')\n",
    "bicycle3.start()\n",
    "\n",
    "bicycle3.stop_count(6)"
   ]
  },
  {
   "cell_type": "code",
   "execution_count": null,
   "metadata": {},
   "outputs": [],
   "source": [
    "class Bicycle():\n",
    "\n",
    "def __init__(self, wheel_size, color):\n",
    "    self.wheel_size = wheel_size\n",
    "    self.color = color\n",
    "\n",
    "# Bicycle()이라는 클래스를 self로 받는데, wheel_size, color의 인자를 갖는다.\n",
    "# wheel_size와 color는 self로 받아야 하므로 각 객체 선언해 주어야 한다.\n",
    "\n",
    "# 대입대상은 self. 으로 시작해야 함\n",
    "# 속성을 자체적으로 받을 수 있고 객체 생성과 동시에 속성값 지정 가능\n"
   ]
  },
  {
   "cell_type": "markdown",
   "metadata": {},
   "source": [
    "### 클래스에서 사용하는 변수  \n",
    "\n",
    "위치에 따라 클리스 변수(class variable)와 인스턴스 변수(instance variable)로 구분  \n",
    "\n",
    "클래스 변수 : 클래스 내에 있지만 함수 밖에서 '변수명 = 데이터' 형식으로 정의한 변수  \n",
    " * 클래스에서 생성한 모든 객체가 공통으로 사용 가능\n",
    " \n",
    "인스턴스 변수 : 클래스 내의 함수 안에서 'self.변수명 = 데이터' 형식으로 정의한 변수  \n",
    " * 각 인스턴스(객체)에서 개별적으로 관리\n",
    " * 객체 생성 후 '객체명.변수명' 형식으로 접근"
   ]
  },
  {
   "cell_type": "code",
   "execution_count": 45,
   "metadata": {},
   "outputs": [],
   "source": [
    "class Car():\n",
    "    instance_count = 0 # 클래스 변수 생성 및 초기화\n",
    "\n",
    "    def __init__(self, size, color):\n",
    "        self.size = size    # 인스턴스 변수 생성 및 초기화\n",
    "        self.color = color  # 인스턴스 변수 생성 및 초기화\n",
    "        Car.instance_count = Car.instance_count + 1 # 클래스 Car에 있는 변수 이용\n",
    "        print(\"자동차 객체의 수: {0}\".format(Car.instance_count))\n",
    "        \n",
    "    def move(self):\n",
    "        print(\"자동차({0} & {1})가 움직입니다.\".format(self.size, self.color))"
   ]
  },
  {
   "cell_type": "code",
   "execution_count": 46,
   "metadata": {},
   "outputs": [
    {
     "name": "stdout",
     "output_type": "stream",
     "text": [
      "자동차 객체의 수: 1\n",
      "자동차 객체의 수: 2\n"
     ]
    }
   ],
   "source": [
    "car1 = Car('small','white')\n",
    "car2 = Car('big','black') # 객체를 생성할 때마다 클래스 변수 instance_count가 1 씩 증가"
   ]
  },
  {
   "cell_type": "code",
   "execution_count": 66,
   "metadata": {
    "scrolled": true
   },
   "outputs": [
    {
     "name": "stdout",
     "output_type": "stream",
     "text": [
      "Car 클래스의 총 인스턴스 개수: 2\n"
     ]
    }
   ],
   "source": [
    "print('Car 클래스의 총 인스턴스 개수: {0}'.format(Car.instance_count))"
   ]
  },
  {
   "cell_type": "code",
   "execution_count": 48,
   "metadata": {},
   "outputs": [
    {
     "name": "stdout",
     "output_type": "stream",
     "text": [
      "Car 클래스의 총 인스턴스 개수: 2\n"
     ]
    }
   ],
   "source": [
    "print('Car 클래스의 총 인스턴스 개수: {0}'.format(car1.instance_count))"
   ]
  },
  {
   "cell_type": "code",
   "execution_count": 49,
   "metadata": {},
   "outputs": [
    {
     "name": "stdout",
     "output_type": "stream",
     "text": [
      "자동차(small & white)가 움직입니다.\n",
      "자동차(big & black)가 움직입니다.\n"
     ]
    }
   ],
   "source": [
    "car1.move()\n",
    "car2.move()  # move 메서드에 size, color 인자가 들어가게 됨."
   ]
  },
  {
   "cell_type": "code",
   "execution_count": 50,
   "metadata": {},
   "outputs": [],
   "source": [
    "# 이름이 같은 클래스 변수와 인스턴스 변수가 있는 클래스의 경우\n",
    "\n",
    "class Car2():\n",
    "    count = 0; # 클래스 변수 생성 및 초기화\n",
    "\n",
    "    def __init__(self, size, num):\n",
    "        self.size = size    # 인스턴스 변수 생성 및 초기화\n",
    "        self.count = num  # 인스턴스 변수 생성 및 초기화\n",
    "        Car2.count = Car2.count + 1 # 클래스 변수 이용\n",
    "        print(\"자동차 객체의 수: Car2.count = {0}\".format(Car2.count)) # 클래스 변수에 따라 동작\n",
    "        print(\"인스턴스 변수 초기화: self.count = {0}\".format(self.count)) # 인스턴스 변수에 따라 동작 / 클래스 변수와 별개로 동작\n",
    "        \n",
    "    def move(self):\n",
    "        print(\"자동차({0} & {1})가 움직입니다.\".format(self.size, self.count))"
   ]
  },
  {
   "cell_type": "code",
   "execution_count": 51,
   "metadata": {},
   "outputs": [
    {
     "name": "stdout",
     "output_type": "stream",
     "text": [
      "자동차 객체의 수: Car2.count = 1\n",
      "인스턴스 변수 초기화: self.count = 20\n",
      "자동차 객체의 수: Car2.count = 2\n",
      "인스턴스 변수 초기화: self.count = 30\n"
     ]
    }
   ],
   "source": [
    "car1 = Car2('big',20)\n",
    "car2 = Car2('small',30)"
   ]
  },
  {
   "cell_type": "markdown",
   "metadata": {},
   "source": [
    "### 클래스에서 사용하는 함수\n",
    "\n",
    "**1. 인스턴스 메서드(instance method) : 각 객체에서 개별적으로 동작. 'self.함수명()'형식으로 클래스 내의 다른 함수를 호출**  \n",
    "\n",
    "        class 클래스명():  \n",
    "            def 함수명(self[, 인자1, 인자 2 ... ]:  \n",
    "                self.변수명1 = 인자 1  \n",
    "                self.변수명2 = 인자 2  \n",
    "                <코드블록>"
   ]
  },
  {
   "cell_type": "code",
   "execution_count": 67,
   "metadata": {},
   "outputs": [],
   "source": [
    "class Car(): # Car 클래스 선언\n",
    "    instance_count = 0 # 클래스 변수 생성 및 초기화\n",
    "    \n",
    "    # 초기화 함수(인스턴스 메서드)\n",
    "    def __init__(self, size, color):\n",
    "        self.size = size    # 인스턴스 변수 생성 및 초기화\n",
    "        self.color = color  # 인스턴스 변수 생성 및 초기화\n",
    "        Car.instance_count = Car.instance_count + 1 # 클래스 변수 이용\n",
    "        print(\"자동차 객체의 수: {0}\".format(Car.instance_count))  \n",
    "       \n",
    "    # 인스턴스 메서드\n",
    "    def move(self, speed):\n",
    "        self.speed = speed  # 인스턴스 변수 생성    \n",
    "        print(\"자동차({0} & {1})가 \".format(self.size, self.color), end='')\n",
    "        print(\"시속 {0}킬로미터로 전진\".format(self.speed))\n",
    "        \n",
    "    # 인스턴스 메서드\n",
    "    def auto_cruise(self):\n",
    "        print(\"자율 주행 모드\")\n",
    "        self.move(self.speed) # move() 함수의 인자로 인스턴스 변수를 입력"
   ]
  },
  {
   "cell_type": "code",
   "execution_count": 64,
   "metadata": {},
   "outputs": [
    {
     "name": "stdout",
     "output_type": "stream",
     "text": [
      "자동차 객체의 수: 1\n",
      "자동차 객체의 수: 2\n",
      "자동차(small & red)가 시속 80킬로미터로 전진\n",
      "자동차(big & green)가 시속 100킬로미터로 전진\n",
      "자율 주행 모드\n",
      "자동차(small & red)가 시속 80킬로미터로 전진\n",
      "자율 주행 모드\n",
      "자동차(big & green)가 시속 100킬로미터로 전진\n"
     ]
    }
   ],
   "source": [
    "car1 = Car('small','red') # 객체생성 car1\n",
    "car2 = Car('big','green')  # 객체생성 car2\n",
    "\n",
    "car1.move(80)\n",
    "car2.move(100)\n",
    "\n",
    "car1.auto_cruise()\n",
    "car2.auto_cruise()"
   ]
  },
  {
   "cell_type": "markdown",
   "metadata": {},
   "source": [
    "**2. 정적 메서드(static methond) : 클래스와 관련이 있어서 클래스 안에 두기는 하지만 클래스나 클래스의 인스턴스와는 무관하게 독립적으로 동작**\n",
    "        **@staticmethod를 선언해 정적 메서드임을 표시  \n",
    "        날짜 및 시간 정보 제공, 환율 정보 제공, 단위 변환 등 독립적으로 동작하는 함수에 주로 사용**\n",
    "\n",
    "        class 클래스명():  \n",
    "            @staticmethod  \n",
    "            def 함수명([, 인자1, 인자 2 ... ]: \n",
    "                <코드블록>"
   ]
  },
  {
   "cell_type": "code",
   "execution_count": 61,
   "metadata": {},
   "outputs": [],
   "source": [
    "# Car 클래스 선언\n",
    "class Car():\n",
    "        \n",
    "    # def __init__(self, size, color): => 앞의 코드 활용\n",
    "    # def move(self, speed): => 앞의 코드 활용\n",
    "    # def auto_cruise(self): => 앞의 코드 활용\n",
    "    \n",
    "    # 정적 메서드\n",
    "    @staticmethod\n",
    "    def check_type(model_code):\n",
    "        if(model_code >= 20):\n",
    "            print(\"이 자동차는 전기차입니다.\")\n",
    "        elif(10 <= model_code < 20):\n",
    "            print(\"이 자동차는 가솔린차입니다.\")\n",
    "        else:\n",
    "            print(\"이 자동차는 디젤차입니다.\")"
   ]
  },
  {
   "cell_type": "code",
   "execution_count": 62,
   "metadata": {},
   "outputs": [
    {
     "name": "stdout",
     "output_type": "stream",
     "text": [
      "이 자동차는 전기차입니다.\n",
      "이 자동차는 디젤차입니다.\n"
     ]
    }
   ],
   "source": [
    "Car.check_type(25)\n",
    "Car.check_type(2)"
   ]
  },
  {
   "cell_type": "markdown",
   "metadata": {},
   "source": [
    "**3. 클래스 메서드(class method) : 클래스 변수를 사용하기 위한 함수.**  \n",
    "**@classmethod를 지정 / 첫번째 인자는 cls**  \n",
    "\n",
    "        class 클래스명():  \n",
    "            @classmethod  \n",
    "            def 함수명(cls[, 인자1, 인자2,....,]):  \n",
    "                <코드블록>"
   ]
  },
  {
   "cell_type": "code",
   "execution_count": 59,
   "metadata": {},
   "outputs": [],
   "source": [
    "# Car 클래스 선언\n",
    "class Car():\n",
    "    instance_count = 0 # 클래스 변수    \n",
    "  \n",
    "    # 초기화 함수(인스턴스 메서드)\n",
    "    def __init__(self, size, color):\n",
    "        self.size = size    # 인스턴스 변수\n",
    "        self.color = color  # 인스턴스 변수\n",
    "        Car.instance_count = Car.instance_count + 1\n",
    "       \n",
    "    # def move(self, speed): => 앞의 코드 활용\n",
    "    # def auto_cruise(self): => 앞의 코드 활용\n",
    "    # @staticmethod\n",
    "    # def check_type(model_code): => 앞의 코드 활용\n",
    "    \n",
    "    # 클래스 메서드\n",
    "    @classmethod\n",
    "    def count_instance(cls):\n",
    "        print(\"자동차 객체의 개수: {0}\".format(cls.instance_count))"
   ]
  },
  {
   "cell_type": "code",
   "execution_count": 60,
   "metadata": {},
   "outputs": [
    {
     "name": "stdout",
     "output_type": "stream",
     "text": [
      "자동차 객체의 개수: 0\n",
      "자동차 객체의 개수: 1\n",
      "자동차 객체의 개수: 2\n"
     ]
    }
   ],
   "source": [
    "Car.count_instance()\n",
    "\n",
    "car1 = Car('small','red')\n",
    "Car.count_instance()\n",
    "\n",
    "Car2 = Car('big','green')\n",
    "Car.count_instance()"
   ]
  },
  {
   "cell_type": "markdown",
   "metadata": {},
   "source": [
    "### 객체와 클래스를 사용하는 이유\n",
    "\n",
    "- 코드 작성과 관리가 편리\n",
    "- 규모가 큰 프로그램을 만들때 클래스와 객체를 많이 이용\n",
    "- 게임 캐릭터와 같이 유사한 객체가 많은 프로그램을 만들 때도 주로 클래스와 객체를 이용\n"
   ]
  },
  {
   "cell_type": "markdown",
   "metadata": {},
   "source": [
    "###  클래스 상속\n",
    "\n",
    "상속: 이미 만들어진 클래스의 변수와 함수를 그대로 이어받고 새로운 내용만 추가해서 클래스를 선언\n",
    "\n",
    "\n",
    "클래스 선언시:  \n",
    "class 자식 클래스 이름(부모 클래스 이름):  \n",
    "\n",
    "        <코드 블록>"
   ]
  },
  {
   "cell_type": "code",
   "execution_count": 72,
   "metadata": {},
   "outputs": [],
   "source": [
    "class Bicycle():\n",
    "    \n",
    "    def __init__(self, wheel_size, color):\n",
    "        self.wheel_size = wheel_size\n",
    "        self.color = color\n",
    "        \n",
    "    def move(self, speed):\n",
    "        print(\"자전거: 시속 {0}킬로미터로 전진\".format(speed))\n",
    "        \n",
    "    def turn(self, direction):\n",
    "        print(\"자전거: {0}회전\".format(direction))\n",
    "        \n",
    "    def stop(self):\n",
    "        print(\"자전거({0}, {1}): 정지 \".format(self.wheel_size, self.color))"
   ]
  },
  {
   "cell_type": "code",
   "execution_count": 78,
   "metadata": {},
   "outputs": [],
   "source": [
    "class FoldingBicycle(Bicycle):   # 부모 클래스를 상속받아옴\n",
    "        \n",
    "    def __init__(self, wheel_size, color, state): # FoldingBicycle 초기화 / state라는 새로운 인자가 생김.\n",
    "        Bicycle.__init__(self, wheel_size, color) # Bicycle의 초기화 재사용\n",
    "# 권장사항 super().__init__(wheel_size, color)  내장함수 super()도 사용 가능\n",
    "        self.state = state  # 자식 클래스에서 새로 추가한 state라는 인자에 대한 변수 \n",
    "                \n",
    "    def fold(self):\n",
    "        self.state = 'folding'\n",
    "        print(\"자전거: 접기, state = {0}\".format(self.state))\n",
    "\n",
    "    def unfold(self):\n",
    "        self.state = 'unfolding'\n",
    "        print(\"자전거: 펴기, state = {0}\".format(self.state))"
   ]
  },
  {
   "cell_type": "code",
   "execution_count": 79,
   "metadata": {},
   "outputs": [
    {
     "name": "stdout",
     "output_type": "stream",
     "text": [
      "자전거: 시속 20킬로미터로 전진\n",
      "자전거: 접기, state = folding\n",
      "자전거: 펴기, state = unfolding\n",
      "자전거(27, white): 정지 \n"
     ]
    }
   ],
   "source": [
    "folding_bicycle = FoldingBicycle(27, 'white', 'unfolding')  # folding_bicycle이라는 객체를 생성하여 각 인자값을 넣었음.\n",
    "\n",
    "folding_bicycle.move(20) # FoldingBicycle클래스에서 move()함수를 구현하지 않았지만 Bicycle클래스에서 상속 받아옴.\n",
    "folding_bicycle.fold()\n",
    "folding_bicycle.unfold()\n",
    "\n",
    "folding_bicycle.stop()"
   ]
  }
 ],
 "metadata": {
  "kernelspec": {
   "display_name": "Python 3",
   "language": "python",
   "name": "python3"
  },
  "language_info": {
   "codemirror_mode": {
    "name": "ipython",
    "version": 3
   },
   "file_extension": ".py",
   "mimetype": "text/x-python",
   "name": "python",
   "nbconvert_exporter": "python",
   "pygments_lexer": "ipython3",
   "version": "3.6.8"
  }
 },
 "nbformat": 4,
 "nbformat_minor": 2
}
