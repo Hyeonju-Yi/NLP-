{
 "cells": [
  {
   "cell_type": "markdown",
   "metadata": {},
   "source": [
    "# 입력과 출력"
   ]
  },
  {
   "cell_type": "code",
   "execution_count": 1,
   "metadata": {},
   "outputs": [
    {
     "name": "stdout",
     "output_type": "stream",
     "text": [
      "Best python book\n"
     ]
    }
   ],
   "source": [
    "print('Best','python','book')"
   ]
  },
  {
   "cell_type": "code",
   "execution_count": 2,
   "metadata": {},
   "outputs": [
    {
     "name": "stdout",
     "output_type": "stream",
     "text": [
      "Best-:*:-python-:*:-book\n"
     ]
    }
   ],
   "source": [
    "print('Best','python','book',sep = '-:*:-')\n",
    "\n",
    "# sep'' : 요소 사이 구분"
   ]
  },
  {
   "cell_type": "code",
   "execution_count": 11,
   "metadata": {},
   "outputs": [
    {
     "name": "stdout",
     "output_type": "stream",
     "text": [
      "abcdefg\n"
     ]
    }
   ],
   "source": [
    "print('abcd'+'efg')"
   ]
  },
  {
   "cell_type": "code",
   "execution_count": 15,
   "metadata": {},
   "outputs": [
    {
     "name": "stdout",
     "output_type": "stream",
     "text": [
      "Best python book: this book\n"
     ]
    }
   ],
   "source": [
    "print('Best', 'python','book' + ':','this book')"
   ]
  },
  {
   "cell_type": "code",
   "execution_count": 16,
   "metadata": {},
   "outputs": [
    {
     "name": "stdout",
     "output_type": "stream",
     "text": [
      "Name: James, ID Number: 789\n"
     ]
    }
   ],
   "source": [
    "name = 'James'\n",
    "ID_num = 789\n",
    "print('Name:', name + ',', 'ID Number:', ID_num)"
   ]
  },
  {
   "cell_type": "code",
   "execution_count": 17,
   "metadata": {},
   "outputs": [
    {
     "name": "stdout",
     "output_type": "stream",
     "text": [
      "James is my friend. \n",
      "\n",
      "He is Korea.\n"
     ]
    }
   ],
   "source": [
    "# 개행문자(줄바꿈) \\n\n",
    "\n",
    "print('James is my friend. \\n\\nHe is Korea.')"
   ]
  },
  {
   "cell_type": "code",
   "execution_count": 18,
   "metadata": {},
   "outputs": [
    {
     "name": "stdout",
     "output_type": "stream",
     "text": [
      "Welcome to python!\n"
     ]
    }
   ],
   "source": [
    "# 줄 이어서 작성하기\n",
    "\n",
    "print('Welcome to ', end = '') # 공백으로 끝났으니 이어서 작성됨\n",
    "print('python!')"
   ]
  },
  {
   "cell_type": "markdown",
   "metadata": {},
   "source": [
    "### 1. 형식 지정 출력 : print() 함수 사용\n",
    "\n",
    "\n",
    "데이터 형식에 따라 다른 값을 지정해야 함\n",
    "- 문자열: %s\n",
    "- 정  수 : %d, %i\n",
    "- 실  수 : %f, %F\n"
   ]
  },
  {
   "cell_type": "code",
   "execution_count": 10,
   "metadata": {},
   "outputs": [
    {
     "name": "stdout",
     "output_type": "stream",
     "text": [
      "광재는 내 친구입니다.\n"
     ]
    }
   ],
   "source": [
    "name = '광재'\n",
    "print('%s는 내 친구입니다.' % name)"
   ]
  },
  {
   "cell_type": "code",
   "execution_count": 27,
   "metadata": {},
   "outputs": [
    {
     "name": "stdout",
     "output_type": "stream",
     "text": [
      "반지름: 3, 원주율: 3.141593\n"
     ]
    }
   ],
   "source": [
    "r = 3\n",
    "PI = 3.14159265358979\n",
    "print('반지름: %d, 원주율: %f' % (r, PI))"
   ]
  },
  {
   "cell_type": "code",
   "execution_count": 47,
   "metadata": {},
   "outputs": [
    {
     "name": "stdout",
     "output_type": "stream",
     "text": [
      "Animal: cat\n",
      "Animal: cat,dog,fox\n"
     ]
    }
   ],
   "source": [
    "animal_0 = 'cat'\n",
    "animal_1 = 'dog'\n",
    "animal_2 = 'fox'\n",
    "\n",
    "print('Animal: {0}'.format(animal_0))\n",
    "print('Animal: {0},{1},{2}'.format(animal_0, animal_1, animal_2))\n",
    "\n",
    "# format() 의 {} 순서에 따라 출력"
   ]
  },
  {
   "cell_type": "code",
   "execution_count": 43,
   "metadata": {},
   "outputs": [
    {
     "name": "stdout",
     "output_type": "stream",
     "text": [
      "Animal: dog,fox,cat\n"
     ]
    }
   ],
   "source": [
    "print('Animal: {1},{2},{0}'.format(animal_0, animal_1, animal_2))\n",
    "\n",
    "# 출력 순서를 변경"
   ]
  },
  {
   "cell_type": "code",
   "execution_count": 44,
   "metadata": {},
   "outputs": [
    {
     "name": "stdout",
     "output_type": "stream",
     "text": [
      "Animal: dog,cat\n"
     ]
    }
   ],
   "source": [
    "print('Animal: {1},{0}'.format(animal_0, animal_1, animal_2))\n",
    "\n",
    "# 출력 순서를 변경/ 일부만 출력"
   ]
  },
  {
   "cell_type": "code",
   "execution_count": 45,
   "metadata": {},
   "outputs": [
    {
     "name": "stdout",
     "output_type": "stream",
     "text": [
      "Animal: cat,dog,fox\n"
     ]
    }
   ],
   "source": [
    "print('Animal: {},{},{}'.format(animal_0, animal_1, animal_2))\n",
    "\n",
    "#그냥 순차적으로 출력하려면 { } 공백으로 두면 됨"
   ]
  },
  {
   "cell_type": "markdown",
   "metadata": {},
   "source": [
    "### >>숫자의 출력 형식  \n",
    "\n",
    "\n",
    "{:10}\t전체 10칸을 차지  \n",
    "{:>10}\t전체 10칸을 차지하며 공백을 앞에 붙임  \n",
    "{:<10}\t전체 10칸을 차지하며 공백을 뒤에 붙임  \n",
    "{:>5d]  정수 다섯자리로 표시(숫자는 오른쪽 정렬)  \n",
    "{:.5f}\t부동소수점의 소수점 아래 5자리까지 표시  \n",
    "{:,}\t천단위 쉼표 표시  \n",
    "{:.1%}  소수를 소수점 아래 1자리까지 %로 표시  \n",
    "{:#x}   16진수로 표시 / #기호가 없으면 0x 없이 출력  \n",
    "{:#o}   8진수로 표시 / #기호가 없으면 0o 없이 출력  \n",
    "{:#b}   2진수로 표시 / #기호가 없으면 0b 없이 출력"
   ]
  },
  {
   "cell_type": "markdown",
   "metadata": {},
   "source": [
    "### 2. 키보드 입력 : input() 함수 사용"
   ]
  },
  {
   "cell_type": "code",
   "execution_count": 1,
   "metadata": {},
   "outputs": [
    {
     "name": "stdout",
     "output_type": "stream",
     "text": [
      "당신의 이름은 무엇입니까?이현주\n",
      "당신은 이현주이군요.\n"
     ]
    }
   ],
   "source": [
    "yourName = input('당신의 이름은 무엇입니까?')\n",
    "print('당신은 {}이군요.'.format(yourName))"
   ]
  },
  {
   "cell_type": "code",
   "execution_count": 2,
   "metadata": {},
   "outputs": [
    {
     "name": "stdout",
     "output_type": "stream",
     "text": [
      "숫자를 입력하세요:4\n",
      "당신이 입력한 숫자는 4입니다.\n"
     ]
    }
   ],
   "source": [
    "num = input('숫자를 입력하세요:')\n",
    "print('당신이 입력한 숫자는 {}입니다.'.format(num))"
   ]
  },
  {
   "cell_type": "code",
   "execution_count": 3,
   "metadata": {},
   "outputs": [
    {
     "name": "stdout",
     "output_type": "stream",
     "text": [
      "정사각형 한 변의 길이는?11\n",
      "정사각형의 넓이: 121\n"
     ]
    }
   ],
   "source": [
    "a = input('정사각형 한 변의 길이는?')\n",
    "area = int(a) ** 2\n",
    "print('정사각형의 넓이: {}'.format(area))\n",
    "\n",
    "# int()로 선언했기 때문에 입력이 실수인경우 오류가 생김"
   ]
  },
  {
   "cell_type": "code",
   "execution_count": 5,
   "metadata": {},
   "outputs": [
    {
     "name": "stdout",
     "output_type": "stream",
     "text": [
      "정사각형 한 변의 길이는?:11\n",
      "정사각형의 넓이: 121.0\n"
     ]
    }
   ],
   "source": [
    "b = input('정사각형 한 변의 길이는?:')\n",
    "area = float(b) ** 2\n",
    "print('정사각형의 넓이: {}'.format(area))"
   ]
  },
  {
   "cell_type": "code",
   "execution_count": 8,
   "metadata": {},
   "outputs": [
    {
     "name": "stdout",
     "output_type": "stream",
     "text": [
      "정사각형 한 변의 길이는?:3\n",
      "정사각형의 넓이: 9.0\n"
     ]
    }
   ],
   "source": [
    "#  정수인지 실수인지 모를때는 float() 함수를 사용\n",
    "\n",
    "c = input('정사각형 한 변의 길이는?:')\n",
    "area = float(c) ** 2\n",
    "print('정사각형의 넓이: {}'.format(area))"
   ]
  },
  {
   "cell_type": "markdown",
   "metadata": {},
   "source": [
    "### 3-(1). 파일 읽고 쓰기 : open(), close() 함수 사용"
   ]
  },
  {
   "cell_type": "markdown",
   "metadata": {},
   "source": [
    "파일 열기 mode\n",
    "\n",
    "r : 읽기 모드 / 모드 지정안할 경우 기본으로 설정됨  \n",
    "w : 쓰기 모드 / 같은 이름 있는 경우 기존 내용 모두 삭제  \n",
    "x : 쓰기 모드 / 같은 이름 있는 경우 오류 발생  \n",
    "a : 추가 모드 / 같은 이름 없으면 w와 같은 기능  \n",
    "\n",
    "b : 바이너리 파일 모드  \n",
    "t : 텍스트 파일 모드 / 지정하지 않으면 기본적으로 텍스트 모드로 지정됨\n"
   ]
  },
  {
   "cell_type": "code",
   "execution_count": 12,
   "metadata": {},
   "outputs": [
    {
     "name": "stdout",
     "output_type": "stream",
     "text": [
      "C:\\myPyCode\n"
     ]
    }
   ],
   "source": [
    "cd C:\\myPyCode"
   ]
  },
  {
   "cell_type": "code",
   "execution_count": 13,
   "metadata": {},
   "outputs": [
    {
     "name": "stdout",
     "output_type": "stream",
     "text": [
      "This is my first file.\n"
     ]
    }
   ],
   "source": [
    "# 파일 쓰기\n",
    "\n",
    "f = open('myFile.txt','w')\n",
    "f.write('This is my first file.')\n",
    "f.close()\n",
    "\n",
    "!type myfile.txt"
   ]
  },
  {
   "cell_type": "code",
   "execution_count": 19,
   "metadata": {},
   "outputs": [
    {
     "name": "stdout",
     "output_type": "stream",
     "text": [
      "This is my first file.\n"
     ]
    }
   ],
   "source": [
    "# 파일 읽기\n",
    "\n",
    "f = open('myFile.txt','r')\n",
    "file_text = f.read()\n",
    "f.close()\n",
    "\n",
    "print(file_text)"
   ]
  },
  {
   "cell_type": "code",
   "execution_count": 26,
   "metadata": {},
   "outputs": [
    {
     "name": "stdout",
     "output_type": "stream",
     "text": [
      "2 x 1 = 2\n",
      "2 x 2 = 4\n",
      "2 x 3 = 6\n",
      "2 x 4 = 8\n",
      "2 x 5 = 10\n"
     ]
    }
   ],
   "source": [
    "# 반복문을 이용해 파일 읽고 쓰기\n",
    "\n",
    "f = open('two_times_table.txt', 'w')\n",
    "for num in range(1,6):\n",
    "    format_string = '2 x {0} = {1}\\n'.format(num, 2*num)\n",
    "    f.write(format_string)\n",
    "f.close()\n",
    "\n",
    "!type two_times_table.txt"
   ]
  },
  {
   "cell_type": "code",
   "execution_count": 29,
   "metadata": {},
   "outputs": [
    {
     "name": "stdout",
     "output_type": "stream",
     "text": [
      "2 x 1 = 2\n",
      "2 x 2 = 4\n"
     ]
    }
   ],
   "source": [
    "f = open('two_times_table.txt')\n",
    "line1 = f.readline()\n",
    "line2 = f.readline()\n",
    "f.close()\n",
    "print(line1, end='') # 이미 \\n으로 개행문자가 포함되어 있으므로, end로 줄바꿈X \n",
    "print(line2, end='') # 한 줄씩 읽기"
   ]
  },
  {
   "cell_type": "code",
   "execution_count": 31,
   "metadata": {},
   "outputs": [
    {
     "name": "stdout",
     "output_type": "stream",
     "text": [
      "2 x 1 = 2\n",
      "2 x 2 = 4\n",
      "2 x 3 = 6\n",
      "2 x 4 = 8\n",
      "2 x 5 = 10\n"
     ]
    }
   ],
   "source": [
    "f = open('two_times_table.txt')\n",
    "line = f.readline() # 문자열 한 줄 읽기\n",
    "while line:         # line이 공백인지 검사해서 반복 여부 결정\n",
    "    print(line, end = '')\n",
    "    line = f.readline()\n",
    "f.close() "
   ]
  },
  {
   "cell_type": "code",
   "execution_count": 32,
   "metadata": {},
   "outputs": [
    {
     "name": "stdout",
     "output_type": "stream",
     "text": [
      "['2 x 1 = 2\\n', '2 x 2 = 4\\n', '2 x 3 = 6\\n', '2 x 4 = 8\\n', '2 x 5 = 10\\n']\n"
     ]
    }
   ],
   "source": [
    "f = open('two_times_table.txt')\n",
    "lines = f.readlines()\n",
    "f.close()\n",
    "\n",
    "print(lines)"
   ]
  },
  {
   "cell_type": "code",
   "execution_count": 34,
   "metadata": {},
   "outputs": [
    {
     "name": "stdout",
     "output_type": "stream",
     "text": [
      "2 x 1 = 2\n",
      "2 x 2 = 4\n",
      "2 x 3 = 6\n",
      "2 x 4 = 8\n",
      "2 x 5 = 10\n"
     ]
    }
   ],
   "source": [
    "f = open('two_times_table.txt')\n",
    "lines = f.readlines()\n",
    "f.close()\n",
    "for line in lines:     # 리스트를 반복범위로 지정\n",
    "    print(line, end = '')\n"
   ]
  },
  {
   "cell_type": "code",
   "execution_count": 35,
   "metadata": {},
   "outputs": [
    {
     "name": "stdout",
     "output_type": "stream",
     "text": [
      "2 x 1 = 2\n",
      "2 x 2 = 4\n",
      "2 x 3 = 6\n",
      "2 x 4 = 8\n",
      "2 x 5 = 10\n"
     ]
    }
   ],
   "source": [
    "f = open('two_times_table.txt')\n",
    "for line in f.readlines():    # f.readlines() 대신 f만 입력하면 더 간단해짐.\n",
    "    print(line, end = '')\n",
    "f.close()"
   ]
  },
  {
   "cell_type": "markdown",
   "metadata": {},
   "source": [
    "### 3-(2). 파일 읽고 쓰기 : with문 사용"
   ]
  },
  {
   "cell_type": "code",
   "execution_count": 39,
   "metadata": {},
   "outputs": [],
   "source": [
    "with open('C:/myPyCode/myTextFile2.txt','w') as f:\n",
    "    f.write('File real/write test2: line1\\n')\n",
    "    f.write('File real/write test2: line2\\n')\n",
    "    f.write('File real/write test2: line3\\n')\n",
    "    \n",
    "#close가 필요 없음."
   ]
  },
  {
   "cell_type": "code",
   "execution_count": 40,
   "metadata": {
    "scrolled": true
   },
   "outputs": [
    {
     "name": "stdout",
     "output_type": "stream",
     "text": [
      "File real/write test2: line1\n",
      "File real/write test2: line2\n",
      "File real/write test2: line3\n",
      "\n"
     ]
    }
   ],
   "source": [
    "with open('C:/myPyCode/myTextFile2.txt') as f:\n",
    "    file_string = f.read()\n",
    "    print(file_string)"
   ]
  },
  {
   "cell_type": "code",
   "execution_count": 45,
   "metadata": {},
   "outputs": [],
   "source": [
    "with open('C:/myPyCode/myTextFile3.txt','w') as f:\n",
    "    for num in range(1,6):\n",
    "        format_string = '3 x {0} = {1}\\n'.format(num, 3*num)\n",
    "        f.write(format_string)"
   ]
  },
  {
   "cell_type": "code",
   "execution_count": 46,
   "metadata": {},
   "outputs": [
    {
     "name": "stdout",
     "output_type": "stream",
     "text": [
      "3 x 1 = 3\n",
      "3 x 2 = 6\n",
      "3 x 3 = 9\n",
      "3 x 4 = 12\n",
      "3 x 5 = 15\n"
     ]
    }
   ],
   "source": [
    "with open('C:/myPyCode/myTextFile3.txt','r') as f:\n",
    "    for line in f:\n",
    "        print(line, end='')"
   ]
  }
 ],
 "metadata": {
  "kernelspec": {
   "display_name": "Python 3",
   "language": "python",
   "name": "python3"
  },
  "language_info": {
   "codemirror_mode": {
    "name": "ipython",
    "version": 3
   },
   "file_extension": ".py",
   "mimetype": "text/x-python",
   "name": "python",
   "nbconvert_exporter": "python",
   "pygments_lexer": "ipython3",
   "version": "3.6.8"
  }
 },
 "nbformat": 4,
 "nbformat_minor": 2
}
