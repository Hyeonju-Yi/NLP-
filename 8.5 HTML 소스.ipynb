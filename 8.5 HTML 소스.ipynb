{
 "cells": [
  {
   "cell_type": "markdown",
   "metadata": {},
   "source": [
    "\n",
    "### HTML 소스 가져오기\n",
    "\n",
    "import requests\n",
    "\n",
    "html = requests.get('http://www.google.co.kr').text\n",
    "html[0:100]\n",
    "\n",
    "\n",
    "### from bs4 import BeautifulSoup\n",
    "\n",
    "객체명 = ''' 소스코드1줄  \n",
    "        소스코드2줄  \n",
    "        소스코드3줄  \n",
    "        .... 소스코드n줄   '''  \n",
    "\n",
    "soup = BeautifulSoup(객체명, 'lxml')  # lxml : HTML소스를 처리하기 위한 파서(parser)  \n",
    "print(soup.prettify())  # prettify() : 소스코드를 보기 좋게 줄바꿈  \n",
    "\n",
    "\n",
    "soup.find('a')               : 태그 'a' 가 있는 첫번째 요소를 반환  \n",
    "soup.find('a').get_text()    : 태그 'a' 의 text를 반환  \n",
    "\n",
    "\n",
    "soup.find('태그', 'id':'id속성'}) : 태그안의 첫번째 id속성값을 반환  \n",
    "soup2.find_all('태그', {'id':'id속성'}) : 태그안의 모든 id 속성값을 반환  \n",
    "\n",
    "\n",
    "\n",
    "\n",
    "for id속성1, id속성2 in zip(book_titles, authors):  \n",
    "    print(id속성1.get_text() + '/' + id속성2.get_text())\n",
    "    \n",
    "    \n",
    "### **soup.select(태그 속태그)**\n",
    "### **soup.select(태그.class)**\n",
    "### **soup.select(태그#id속성값)**\n"
   ]
  },
  {
   "cell_type": "code",
   "execution_count": null,
   "metadata": {},
   "outputs": [],
   "source": []
  },
  {
   "cell_type": "code",
   "execution_count": 36,
   "metadata": {},
   "outputs": [
    {
     "name": "stdout",
     "output_type": "stream",
     "text": [
      "원화도 위안화도 엔화도 요동…출렁이는 외환시장\n",
      "文 \"남북경협으로 평화경제 실현해 日 따라잡겠다\"\n",
      "이재용, 사장단 긴급소집…\"긴장하되 두려워말자\"\n",
      "한미, 하반기 연합연습 돌입…'동맹' 명칭 빠진 듯\n",
      "정경두, '해병대 독도경비' 제안에 \"국가 차원서 검토\"\n",
      "안성 비공식 장비로 최고 40.2도…작년 이어 또 영상 40도 넘겨\n",
      "'호날두 노쇼' 고발사건 1명 출국금지…축구연맹도 조사\n",
      "'양심적 병역거부' 여호와의증인 신도 징역형→무죄\n",
      "부모와 다툰 여고생 '화난다'며 60대 노인 묻지마 폭행\n",
      "태풍 프란시스코, 내일 밤 여수·통영 상륙…최대 200㎜ 이상 비\n"
     ]
    }
   ],
   "source": [
    "from bs4 import BeautifulSoup\n",
    "import requests\n",
    "\n",
    "html = requests.get('http://www.naver.com').text\n",
    "soup = BeautifulSoup(html, 'lxml')\n",
    "    \n",
    "top_articles = soup.find_all('a', {'data-clk':'ncy.quickarticle'})\n",
    "\n",
    "for article in top_articles:\n",
    "    print(article.get_text())"
   ]
  }
 ],
 "metadata": {
  "kernelspec": {
   "display_name": "Python 3",
   "language": "python",
   "name": "python3"
  },
  "language_info": {
   "codemirror_mode": {
    "name": "ipython",
    "version": 3
   },
   "file_extension": ".py",
   "mimetype": "text/x-python",
   "name": "python",
   "nbconvert_exporter": "python",
   "pygments_lexer": "ipython3",
   "version": "3.6.8"
  }
 },
 "nbformat": 4,
 "nbformat_minor": 2
}
