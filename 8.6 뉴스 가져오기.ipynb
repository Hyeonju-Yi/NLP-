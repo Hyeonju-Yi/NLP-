{
 "cells": [
  {
   "cell_type": "code",
   "execution_count": null,
   "metadata": {},
   "outputs": [],
   "source": [
    "https://search.naver.com/search.naver?where=news&sm=tab_jum&query=%EB%AC%B4%EC%97%AD%EC%A0%84%EC%9F%81&start=1\n",
    "    \n",
    "뉴스 타이틀 / url(인코딩) / 딕셔너리 형태로 저장\n",
    "\n",
    "title / href / {0}:{1}.format(title, href)\n",
    "\n",
    "<a href=\"/p/crd/rd?m=1&amp;px=306&amp;py=382&amp;sx=306&amp;sy=382&amp;p=URCC0wp0J14ssNIedLdssssstfG-218196&amp;q=%EB%AC%B4%EC%97%AD%EC%A0%84%EC%9F%81&amp;ie=utf8&amp;ssc=tab.news.all&amp;f=news&amp;w=news&amp;s=TieLUMeP0e0VUvF/gm7cIA==&amp;time=1565074794576&amp;a=nws*h.tit&amp;r=1&amp;i=880000D6_000000000000000000504012&amp;g=031.0000504012&amp;u=http%3A%2F%2Fwww.inews24.com%2Fview%2F1199506\" target=\"_blank\" class=\" _sp_each_title\" onclick=\"return goOtherCR(this, 'a=nws*h.tit&amp;r=1&amp;i=880000D6_000000000000000000504012&amp;g=031.0000504012&amp;u='+urlencode(this.href));\" title=\"美中무역전쟁, 관세에서 환율로 비화\" crurl=\"1\">美中<strong class=\"hl\">무역전쟁</strong>, 관세에서 환율로 비화</a>\n",
    "<a href=\"http://yna.kr/AKR20190806006700072?did=1195m\" target=\"_blank\" class=\" _sp_each_title\" onclick=\"return goOtherCR(this, 'a=nws*h.tit&amp;r=6&amp;i=880000D8_000000000000000011003498&amp;g=001.0011003498&amp;u='+urlencode(this.href));\" title=\"미중 무역전쟁 '확전일로'…관세부터 환율까지 전방위 충돌\">미중 <strong class=\"hl\">무역전쟁</strong> '확전일로'…관세부터 환율까지 전방위 충돌</a>\n",
    "#sp_nws1 > dl > dt > a\n",
    "#sp_nws8 > dl > dt > a\n"
   ]
  },
  {
   "cell_type": "code",
   "execution_count": 36,
   "metadata": {
    "scrolled": true
   },
   "outputs": [
    {
     "data": {
      "text/plain": [
       "['美中무역전쟁, 관세에서 환율로 비화',\n",
       " '中 \"美 농산물 구매 중단\"…미중 무역전쟁 격화',\n",
       " '美, 中 환율조작국 지정…‘최고조’ 치달은 미·중 경제전쟁',\n",
       " '[환율전쟁] G2 \\'쩐의 전쟁\\' 본격화…\"장기화 가능성 높아\"',\n",
       " '미·중 무역전쟁→환율전쟁 번졌다…환율조작국이란?',\n",
       " '뉴욕증시, 美·中 환율전쟁 확전 우려에 올해 최고폭 하락',\n",
       " \"미중 무역전쟁 '확전일로'…관세부터 환율까지 전방위 충돌\",\n",
       " '美, 중국 환율조작국으로 지정…환율전쟁 본격화',\n",
       " '관세→포치→中환율조작국 지정···미·중, 환율전쟁도 시작됐다',\n",
       " '미·중 무역 전쟁 전면전…中 “美 농산물 안산다” vs 美 “中 환율 조작국 ...']"
      ]
     },
     "execution_count": 36,
     "metadata": {},
     "output_type": "execute_result"
    }
   ],
   "source": [
    "import requests\n",
    "from bs4 import BeautifulSoup\n",
    "\n",
    "url = 'https://search.naver.com/search.naver?where=news&sm=tab_jum&query=%EB%AC%B4%EC%97%AD%EC%A0%84%EC%9F%81&start='\n",
    "\n",
    "html_news = requests.get(url).text\n",
    "soup_news = BeautifulSoup(html_news, 'lxml')\n",
    "\n",
    "news_titles = soup_news.select('a._sp_each_title')\n",
    "titles = [news_title.get_text() for news_title in news_titles]\n",
    "titles\n",
    "\n",
    "\n",
    "print('네이버 뉴스 검색어 \"무역전쟁\"')\n",
    "for i in range(10):\n",
    "    print('{0}:{1}'.format(i+1, top_music_title[i])) \n"
   ]
  },
  {
   "cell_type": "code",
   "execution_count": null,
   "metadata": {},
   "outputs": [],
   "source": []
  },
  {
   "cell_type": "code",
   "execution_count": 54,
   "metadata": {},
   "outputs": [
    {
     "name": "stdout",
     "output_type": "stream",
     "text": [
      "<Response [200]> https://search.naver.com/search.naver?where=news&sm=tab_jum&query=%EB%AC%B4%EC%97%AD%EC%A0%84%EC%9F%81&start=\n",
      "[<a class=\"_sp_each_title\" href=\"https://news.sbs.co.kr/news/endPage.do?news_id=N1005384002&amp;plink=ORI&amp;cooper=NAVER\" onclick=\"return goOtherCR(this, 'a=nws*h.tit&amp;r=1&amp;i=8800011C_000000000000000000750183&amp;g=055.0000750183&amp;u='+urlencode(this.href));\" target=\"_blank\" title=\"미·중 무역전쟁→환율전쟁 번졌다…환율조작국이란?\">미·중 <strong class=\"hl\">무역전쟁</strong>→환율전쟁 번졌다…환율조작국이란?</a>, <a class=\"_sp_each_title\" href=\"http://yna.kr/AKR20190806014254009?did=1195m\" onclick=\"return goOtherCR(this, 'a=nws*h.tit&amp;r=3&amp;i=880000D8_000000000000000011003882&amp;g=001.0011003882&amp;u='+urlencode(this.href));\" target=\"_blank\" title=\"美, 中 환율조작국 전격 지정…G2 환율전쟁 포성, 세계경제 파장(종합2보)\">美, 中 환율조작국 전격 지정…G2 환율<strong class=\"hl\">전쟁</strong> 포성, 세계경제 파장(종합2보)</a>, <a class=\"_sp_each_title\" href=\"http://news.mk.co.kr/newsRead.php?year=2019&amp;no=600760\" onclick=\"return goOtherCR(this, 'a=nws*h.tit&amp;r=8&amp;i=880000BC_000000000000000004404963&amp;g=009.0004404963&amp;u='+urlencode(this.href));\" target=\"_blank\" title=\"美, 중국 환율조작국으로 지정…환율전쟁 본격화\">美, 중국 환율조작국으로 지정…환율<strong class=\"hl\">전쟁</strong> 본격화</a>, <a class=\"_sp_each_title\" href=\"https://www.hankyung.com/economy/article/2019080649176\" onclick=\"return goOtherCR(this, 'a=nws*h.tit&amp;r=11&amp;i=88000107_000000000000000004187551&amp;g=015.0004187551&amp;u='+urlencode(this.href));\" target=\"_blank\" title=\"[환율전쟁] G2 '쩐의 전쟁' 본격화…&quot;장기화 가능성 높아&quot;\">[환율<strong class=\"hl\">전쟁</strong>] G2 '쩐의 <strong class=\"hl\">전쟁</strong>' 본격화…\"장기화 가능성 높아\"</a>, <a class=\"_sp_each_title\" href=\"http://news.mt.co.kr/mtview.php?no=2019080610213464904\" onclick=\"return goOtherCR(this, 'a=nws*j.tit&amp;r=13&amp;i=880000C2_000000000000000004259533&amp;g=008.0004259533&amp;u='+urlencode(this.href));\" target=\"_blank\" title=\"'환율전쟁' 공포…비트코인 3주만에 1만1000달러 돌파\">'환율<strong class=\"hl\">전쟁</strong>' 공포…비트코인 3주만에 1만1000달러 돌파</a>, <a class=\"_sp_each_title\" href=\"http://yna.kr/AKR20190806006700072?did=1195m\" onclick=\"return goOtherCR(this, 'a=nws*j.tit&amp;r=14&amp;i=880000D8_000000000000000011003498&amp;g=001.0011003498&amp;u='+urlencode(this.href));\" target=\"_blank\" title=\"미중 무역전쟁 '확전일로'…관세부터 환율까지 전방위 충돌\">미중 <strong class=\"hl\">무역전쟁</strong> '확전일로'…관세부터 환율까지 전방위 충돌</a>, <a class=\"_sp_each_title\" href=\"http://biz.chosun.com/site/data/html_dir/2019/08/06/2019080600418.html\" onclick=\"return goOtherCR(this, 'a=nws*h.tit&amp;r=15&amp;i=88127058_000000000000000000440205&amp;g=366.0000440205&amp;u='+urlencode(this.href));\" target=\"_blank\" title=\"뉴욕증시, 美·中 환율전쟁 확전 우려에 올해 최고폭 하락\">뉴욕증시, 美·中 환율<strong class=\"hl\">전쟁</strong> 확전 우려에 올해 최고폭 하락</a>, <a class=\"_sp_each_title\" href=\"http://news.kmib.co.kr/article/view.asp?arcid=0013574830&amp;code=61131111&amp;cp=nv\" onclick=\"return goOtherCR(this, 'a=nws*h.tit&amp;r=18&amp;i=8800006F_000000000000000001225900&amp;g=005.0001225900&amp;u='+urlencode(this.href));\" target=\"_blank\" title=\"美, 中 환율조작국 지정…‘최고조’ 치달은 미·중 경제전쟁\">美, 中 환율조작국 지정…‘최고조’ 치달은 미·중 경제<strong class=\"hl\">전쟁</strong></a>, <a class=\"_sp_each_title\" href=\"http://imnews.imbc.com/replay/2019/nwtoday/article/5437510_24616.html\" onclick=\"return goOtherCR(this, 'a=nws*j.tit&amp;r=22&amp;i=88000119_000000000000000000969786&amp;g=214.0000969786&amp;u='+urlencode(this.href));\" target=\"_blank\" title='中 \"美 농산물 구매 중단\"…미중 무역전쟁 격화'>中 \"美 농산물 구매 중단\"…미중 <strong class=\"hl\">무역전쟁</strong> 격화</a>, <a class=\"_sp_each_title\" href=\"http://news.chosun.com/site/data/html_dir/2019/08/06/2019080600424.html?utm_source=naver&amp;utm_medium=original&amp;utm_campaign=news\" onclick=\"return goOtherCR(this, 'a=nws*j.tit&amp;r=23&amp;i=880000ED_000000000000000003465391&amp;g=023.0003465391&amp;u='+urlencode(this.href));\" target=\"_blank\" title=\"미·중 무역 전쟁 전면전…中 “美 농산물 안산다” vs 美 “中 환율 조작국 지정”\">미·중 <strong class=\"hl\">무역 전쟁</strong> 전면전…中 “美 농산물 안산다” vs 美 “中 환율 조작국 ...</a>]\n",
      "미·중 무역전쟁→환율전쟁 번졌다…환율조작국이란?\n",
      "https://news.sbs.co.kr/news/endPage.do?news_id=N1005384002&plink=ORI&cooper=NAVER\n"
     ]
    },
    {
     "ename": "TypeError",
     "evalue": "list indices must be integers or slices, not str",
     "output_type": "error",
     "traceback": [
      "\u001b[1;31m---------------------------------------------------------------------------\u001b[0m",
      "\u001b[1;31mTypeError\u001b[0m                                 Traceback (most recent call last)",
      "\u001b[1;32m<ipython-input-54-7175a613d9bb>\u001b[0m in \u001b[0;36m<module>\u001b[1;34m\u001b[0m\n\u001b[0;32m     29\u001b[0m \u001b[1;33m\u001b[0m\u001b[0m\n\u001b[0;32m     30\u001b[0m     \u001b[0mnews_dict\u001b[0m \u001b[1;33m=\u001b[0m \u001b[1;33m[\u001b[0m\u001b[1;33m]\u001b[0m\u001b[1;33m\u001b[0m\u001b[1;33m\u001b[0m\u001b[0m\n\u001b[1;32m---> 31\u001b[1;33m     \u001b[0mnews_dict\u001b[0m\u001b[1;33m[\u001b[0m\u001b[1;34m'title'\u001b[0m\u001b[1;33m]\u001b[0m \u001b[1;33m=\u001b[0m \u001b[0matag\u001b[0m\u001b[1;33m.\u001b[0m\u001b[0mtext\u001b[0m  \u001b[1;31m# 딕셔너리에 저장\u001b[0m\u001b[1;33m\u001b[0m\u001b[1;33m\u001b[0m\u001b[0m\n\u001b[0m\u001b[0;32m     32\u001b[0m     \u001b[0mnews_dict\u001b[0m\u001b[1;33m[\u001b[0m\u001b[1;34m'link'\u001b[0m\u001b[1;33m]\u001b[0m \u001b[1;33m=\u001b[0m \u001b[0matag\u001b[0m\u001b[1;33m[\u001b[0m\u001b[1;34m'href'\u001b[0m\u001b[1;33m]\u001b[0m\u001b[1;33m\u001b[0m\u001b[1;33m\u001b[0m\u001b[0m\n\u001b[0;32m     33\u001b[0m     \u001b[0mnews_list\u001b[0m\u001b[1;33m.\u001b[0m\u001b[0mappend\u001b[0m\u001b[1;33m(\u001b[0m\u001b[0mnews_dict\u001b[0m\u001b[1;33m)\u001b[0m\u001b[1;33m\u001b[0m\u001b[1;33m\u001b[0m\u001b[0m\n",
      "\u001b[1;31mTypeError\u001b[0m: list indices must be integers or slices, not str"
     ]
    }
   ],
   "source": [
    "# 교수님 풀이\n",
    "\n",
    "import requests\n",
    "from bs4 import BeautifulSoup\n",
    "\n",
    "naver_search_url = 'https://search.naver.com/search.naver'\n",
    "query = '무역전쟁'\n",
    "\n",
    "news_list = []\n",
    "for i in range(1):\n",
    "    start_var = 1\n",
    "    params = {\n",
    "        'where': 'news',\n",
    "        'query' : query,\n",
    "        'start' :(i*10) + 1 \n",
    "    }\n",
    "\n",
    "    resp = requests.get(naver_search_url, params=params)\n",
    "    print(resp, url)\n",
    "\n",
    "    soup = BeautifulSoup(resp.content, 'html.parser')\n",
    "\n",
    "    newsitem = soup.select('ul dl > dt > a')\n",
    "    print(newsitem)\n",
    "\n",
    "for atag in newsitem:\n",
    "    print(atag.text)\n",
    "    print(atag['href'])\n",
    "    \n",
    "    news_dict = []\n",
    "    news_dict['title'] = atag.text  # 딕셔너리에 저장\n",
    "    news_dict['link'] = atag['href']\n",
    "    news_list.append(news_dict)\n",
    "    "
   ]
  },
  {
   "cell_type": "code",
   "execution_count": null,
   "metadata": {},
   "outputs": [],
   "source": []
  },
  {
   "cell_type": "code",
   "execution_count": null,
   "metadata": {},
   "outputs": [],
   "source": [
    "import requests\n",
    "from bs4 import BeautifulSoup\n",
    "\n",
    "naver_search_url = 'https://search.naver.com/search.naver'\n",
    "query = '무역전쟁'\n",
    "\n",
    "news_list = []\n",
    "for i in range(1):\n",
    "    start_var = 1\n",
    "    params = {\n",
    "        'where': 'news',\n",
    "        'query' : query,\n",
    "        'start' :(i*10) + 1 \n",
    "    }\n",
    "\n",
    "    resp = requests.get(naver_search_url, params=params)\n",
    "    print(resp, url)\n",
    "\n",
    "    soup = BeautifulSoup(resp.content, 'html.parser')\n",
    "\n",
    "    newsitem = soup.select('ul dl > dt > a')\n",
    "    print(newsitem)\n",
    "\n",
    "for atag in newsitem:\n",
    "    print(atag.text)\n",
    "    print(atag['href'])\n",
    "    \n",
    "    news_dict = []\n",
    "    news_dict['title'] = atag.text  # 딕셔너리에 저장\n",
    "    news_dict['link'] = atag['href']\n",
    "    news_list.append(news_dict)\n",
    "    "
   ]
  },
  {
   "cell_type": "code",
   "execution_count": null,
   "metadata": {},
   "outputs": [],
   "source": []
  },
  {
   "cell_type": "code",
   "execution_count": null,
   "metadata": {},
   "outputs": [],
   "source": [
    "import requests\n",
    "from bs4 import BeautifulSoup\n",
    "\n",
    "url = 'https://search.naver.com/search.naver?where=news&sm=tab_jum&query=%EB%AC%B4%EC%97%AD%EC%A0%84%EC%9F%81&start='\n",
    "\n",
    "html_news = requests.get(url).text\n",
    "soup_news = BeautifulSoup(html_news, 'lxml')\n",
    "\n",
    "news_titles = soup_news.select('a._sp_each_title')\n",
    "titles = [news_title.get_text() for news_title in news_titles]\n",
    "titles\n",
    "\n",
    "\n",
    "print('네이버 뉴스 검색어 \"무역전쟁\"')\n",
    "for i in range(10):\n",
    "    print('{0}:{1}'.format(i+1, top_music_title[i])) \n"
   ]
  },
  {
   "cell_type": "code",
   "execution_count": null,
   "metadata": {},
   "outputs": [],
   "source": [
    "#mArticle > div.rank_news > ul.list_news2 > li:nth-child(1) > div.cont_thumb > strong > a\n",
    "<a href=\"http://v.media.daum.net/v/20190804132723212\" class=\"link_txt\">\"한국 때문에 RCEP 지체?\" 日경산상 '적반하장'</a>\n",
    "\n",
    "#mArticle > div.rank_news > ul.list_news2 > li:nth-child(6) > div.cont_thumb > strong > a\n",
    "<a href=\"http://v.media.daum.net/v/20190804154141190\" class=\"link_txt\">'평화의 소녀상' 머리에 '종이봉투' 수모도..日 관람객 \"표현의 자유 차단, 아쉽다\"</a>"
   ]
  },
  {
   "cell_type": "code",
   "execution_count": null,
   "metadata": {},
   "outputs": [],
   "source": []
  },
  {
   "cell_type": "code",
   "execution_count": 67,
   "metadata": {},
   "outputs": [],
   "source": [
    "import requests\n",
    "from bs4 import BeautifulSoup\n",
    "\n",
    "daum_news_url = 'https://media.daum.net/ranking/popular/?regDate=20190804'\n",
    "\n",
    "html_news = requests.get(daum_news_url).text\n",
    "soup_news = BeautifulSoup(html_news, 'lxml')\n",
    "\n",
    "\n",
    "news_titles = soup_news.select('a.link_txt')\n",
    "titles = [news_title.get_text() for news_title in news_titles]\n",
    "titles\n",
    "\n",
    "for atag in newsitem:\n",
    "    print(atag.text)\n",
    "    print(atag['href'])\n",
    "\n",
    "    news_dict = []\n",
    "    news_dict['title'] = atag.text  # 딕셔너리에 저장\n",
    "    news_dict['link'] = atag['href']\n",
    "    news_list.append(news_dict)\n",
    "    \n",
    "\n"
   ]
  },
  {
   "cell_type": "code",
   "execution_count": null,
   "metadata": {},
   "outputs": [],
   "source": []
  },
  {
   "cell_type": "markdown",
   "metadata": {},
   "source": [
    "## 셀레늄(selenium)\n",
    "\n"
   ]
  },
  {
   "cell_type": "code",
   "execution_count": 68,
   "metadata": {},
   "outputs": [
    {
     "name": "stdout",
     "output_type": "stream",
     "text": [
      "Collecting selenium\n",
      "  Downloading https://files.pythonhosted.org/packages/80/d6/4294f0b4bce4de0abf13e17190289f9d0613b0a44e5dd6a7f5ca98459853/selenium-3.141.0-py2.py3-none-any.whl (904kB)\n",
      "Requirement already satisfied: urllib3 in c:\\anaconda3\\envs\\python36\\lib\\site-packages (from selenium) (1.24.2)\n",
      "Installing collected packages: selenium\n",
      "Successfully installed selenium-3.141.0\n"
     ]
    }
   ],
   "source": [
    "!pip install selenium"
   ]
  },
  {
   "cell_type": "code",
   "execution_count": 8,
   "metadata": {},
   "outputs": [],
   "source": [
    "from selenium import webdriver\n",
    "\n",
    "path = 'Webdriver의 경로를 입력합니다.'\n",
    "driver = webdriver.Chrome()  # exe 파일과 작업 파일 위치가 동일해야 함\n",
    "\n",
    "driver.get('http://google.com/')\n",
    "search_box = driver.find_element_by_name('q')   # 개발자 도구를 보면 name = 'q' 로 지정되어 있음.\n",
    "earch_box.send_keys('개발새발 블로그')\n",
    "search_box.submit()"
   ]
  },
  {
   "cell_type": "code",
   "execution_count": null,
   "metadata": {},
   "outputs": [],
   "source": []
  },
  {
   "cell_type": "code",
   "execution_count": null,
   "metadata": {},
   "outputs": [],
   "source": []
  },
  {
   "cell_type": "code",
   "execution_count": null,
   "metadata": {},
   "outputs": [],
   "source": []
  },
  {
   "cell_type": "code",
   "execution_count": null,
   "metadata": {},
   "outputs": [],
   "source": []
  },
  {
   "cell_type": "code",
   "execution_count": null,
   "metadata": {},
   "outputs": [],
   "source": []
  },
  {
   "cell_type": "code",
   "execution_count": null,
   "metadata": {},
   "outputs": [],
   "source": []
  },
  {
   "cell_type": "code",
   "execution_count": null,
   "metadata": {},
   "outputs": [],
   "source": []
  }
 ],
 "metadata": {
  "kernelspec": {
   "display_name": "Python 3",
   "language": "python",
   "name": "python3"
  },
  "language_info": {
   "codemirror_mode": {
    "name": "ipython",
    "version": 3
   },
   "file_extension": ".py",
   "mimetype": "text/x-python",
   "name": "python",
   "nbconvert_exporter": "python",
   "pygments_lexer": "ipython3",
   "version": "3.6.8"
  }
 },
 "nbformat": 4,
 "nbformat_minor": 2
}
