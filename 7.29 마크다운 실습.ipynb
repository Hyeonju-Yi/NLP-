{
 "cells": [
  {
   "cell_type": "markdown",
   "metadata": {},
   "source": [
    "마크다운 활용\n",
    "\n",
    "\n",
    "# 큰제목\n",
    "\n",
    "## 중간 제목\n",
    "\n",
    "### 작은 제목\n",
    "\n",
    "**문자** 로 강조\n",
    "\n",
    "표, 수식, 링크, 그림, 동영상 추가 가능"
   ]
  },
  {
   "cell_type": "markdown",
   "metadata": {},
   "source": [
    "# 제목\n",
    "## 작은 제목\n",
    "\n",
    "데이터 사이언스팀 분석보고서는 아래와 같습니다.  \n",
    "니ㅏㅓㅐㅑㅓㅓㅐ (다음줄로 내리려면 위끝에 space 2번)\n",
    "\n",
    "* 목록1\n",
    "* 목록 2\n"
   ]
  },
  {
   "cell_type": "code",
   "execution_count": null,
   "metadata": {},
   "outputs": [],
   "source": []
  },
  {
   "cell_type": "markdown",
   "metadata": {},
   "source": [
    "# A guide to Colaboratory markdown  "
   ]
  },
  {
   "cell_type": "markdown",
   "metadata": {},
   "source": [
    "## Examples\n",
    "\n",
    "1. 항목 추가\n",
    "2. 항목 추가"
   ]
  },
  {
   "cell_type": "markdown",
   "metadata": {},
   "source": [
    "##### \\#\\#\\#\\#\\# This text is treated as an <h5> because it ahs five hashes at the beginning."
   ]
  },
  {
   "cell_type": "markdown",
   "metadata": {},
   "source": [
    "> One level of indentation"
   ]
  },
  {
   "cell_type": "markdown",
   "metadata": {},
   "source": [
    ">> two level of indentation"
   ]
  },
  {
   "cell_type": "markdown",
   "metadata": {},
   "source": [
    "An ordered list:  \n",
    "1.1\\ One  \n",
    "1.1\\ Two"
   ]
  },
  {
   "cell_type": "markdown",
   "metadata": {},
   "source": [
    "An unordered list:  \n",
    "*\\* One  \n",
    "*\\* Two"
   ]
  },
  {
   "cell_type": "markdown",
   "metadata": {},
   "source": [
    "https://wikidocs.net/1"
   ]
  },
  {
   "cell_type": "markdown",
   "metadata": {},
   "source": [
    "# 수식 넣기  \n",
    "\n",
    "> $y=x^2$  \n",
    "\n",
    "> $e^x + 1 = 0$  \n",
    "\n",
    "> $\\frac(n!)(k(n-k)!) = (n \\choose k)$"
   ]
  },
  {
   "cell_type": "markdown",
   "metadata": {},
   "source": [
    ">$A_(m,n) =\n",
    "\\begin(pmatrix)\n",
    "a_(1,1) & a_(1,2)& \\ cdots & a_(1,n)\\\\\n",
    "a_(2,1) & a_(2,2)& \\ cdots & a_(2,n)\\\\\n",
    "\\vdots & \\vdots & \\ddots & \\vdots \\\\\n",
    "a_(m,1) & a_(m,2) & \\cdots & a_(m,n)\n",
    "\\end(pmatrix)$\n"
   ]
  },
  {
   "cell_type": "markdown",
   "metadata": {},
   "source": [
    "# Tables(표 만들기)\n",
    ">\n",
    "\n",
    "First column name | Second column name\n",
    "--- | ---\n",
    "Row 1, Col 1 | Row 1, Col 2\n",
    "Row 2, Col 1 | Row 2, Col 2"
   ]
  },
  {
   "cell_type": "markdown",
   "metadata": {},
   "source": [
    "First column name | Second column name\n",
    "--- | ---\n",
    "123 | 456\n",
    "234 | 325"
   ]
  },
  {
   "cell_type": "markdown",
   "metadata": {},
   "source": [
    "\n"
   ]
  }
 ],
 "metadata": {
  "kernelspec": {
   "display_name": "Python 3",
   "language": "python",
   "name": "python3"
  },
  "language_info": {
   "codemirror_mode": {
    "name": "ipython",
    "version": 3
   },
   "file_extension": ".py",
   "mimetype": "text/x-python",
   "name": "python",
   "nbconvert_exporter": "python",
   "pygments_lexer": "ipython3",
   "version": "3.6.8"
  }
 },
 "nbformat": 4,
 "nbformat_minor": 2
}
