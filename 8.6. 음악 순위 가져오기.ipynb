{
 "cells": [
  {
   "cell_type": "markdown",
   "metadata": {},
   "source": [
    "# 네이버 주간순위 가져오기"
   ]
  },
  {
   "cell_type": "code",
   "execution_count": 6,
   "metadata": {},
   "outputs": [
    {
     "name": "stdout",
     "output_type": "stream",
     "text": [
      "[네이버 주간 Top 10]\n",
      "1:그대라는 시\n",
      "2:술이 문제야\n",
      "3:헤어져줘서 고마워\n",
      "4:Snapping\n",
      "5:2002\n",
      "6:ICY\n",
      "7:Speechless (Full)\n",
      "8:사랑에 연습이 있었다면 (Prod. 2soo)\n",
      "9:작은 것들을 위한 시 (Boy With Luv) (Feat. Halsey)\n",
      "10:너에게 못했던 내 마지막 말은\n"
     ]
    }
   ],
   "source": [
    "# 교수님 풀이\n",
    "\n",
    "import requests\n",
    "from bs4 import BeautifulSoup\n",
    "\n",
    "url = 'https://search.naver.com/search.naver?sm=top_hty&fbm=1&ie=utf8&query=%EC%A3%BC%EA%B0%84%EC%9D%8C%EC%95%85%EC%88%9C%EC%9C%84'\n",
    "\n",
    "html_website_ranking = requests.get(url).text\n",
    "soup_music_ranking = BeautifulSoup(html_website_ranking, 'lxml')\n",
    "\n",
    "music_ranking = soup_music_ranking.select('#main_pack > div.sc.sp_music._prs_mus_sen > div.api_subject_bx.type_slim.music_chart > ol > li > div > div.music_area > div.music_info > div.title > a')\n",
    "# 차이를 만드는 요소를 단순하게 생성 (li: ---- >> li로)\n",
    "\n",
    "ranking_songs = [music_ranking_element.get_text() for music_ranking_element in music_ranking] # 리스트 컴프리헨션\n",
    "\n",
    "print('[네이버 주간 Top 10]')\n",
    "for i in range(10):\n",
    "    print('{0}:{1}'.format(i+1, ranking_songs[i])) \n"
   ]
  }
 ],
 "metadata": {
  "kernelspec": {
   "display_name": "Python 3",
   "language": "python",
   "name": "python3"
  },
  "language_info": {
   "codemirror_mode": {
    "name": "ipython",
    "version": 3
   },
   "file_extension": ".py",
   "mimetype": "text/x-python",
   "name": "python",
   "nbconvert_exporter": "python",
   "pygments_lexer": "ipython3",
   "version": "3.6.8"
  }
 },
 "nbformat": 4,
 "nbformat_minor": 2
}
