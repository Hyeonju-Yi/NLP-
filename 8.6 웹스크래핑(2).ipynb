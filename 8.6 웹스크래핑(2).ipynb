{
 "cells": [
  {
   "cell_type": "code",
   "execution_count": null,
   "metadata": {},
   "outputs": [],
   "source": [
    "music_ranking = soup_musisic_ranking.select('#main_pack > div.sc.sp_music._prs_mus_sen > div.api_subject_bx.type_slim.music_chart > ol > li:nth-child(2) > div > div.music_area > div.music_info > div.title > a')\n",
    "\n",
    "검사 > copy > copy selector"
   ]
  },
  {
   "cell_type": "code",
   "execution_count": 43,
   "metadata": {
    "scrolled": false
   },
   "outputs": [
    {
     "data": {
      "text/plain": [
       "['그대라는 시',\n",
       " '술이 문제야',\n",
       " '헤어져줘서 고마워',\n",
       " 'Snapping',\n",
       " '2002',\n",
       " 'ICY',\n",
       " 'Speechless (Full)',\n",
       " '사랑에 연습이 있었다면 (Prod. 2soo)',\n",
       " '작은 것들을 위한 시 (Boy With Luv) (Feat. Halsey)',\n",
       " '너에게 못했던 내 마지막 말은']"
      ]
     },
     "execution_count": 43,
     "metadata": {},
     "output_type": "execute_result"
    }
   ],
   "source": [
    "# 교수님 풀이\n",
    "\n",
    "import requests\n",
    "from bs4 import BeautifulSoup\n",
    "\n",
    "url = 'https://search.naver.com/search.naver?sm=top_hty&fbm=1&ie=utf8&query=%EC%A3%BC%EA%B0%84%EC%9D%8C%EC%95%85%EC%88%9C%EC%9C%84'\n",
    "\n",
    "html_website_ranking = requests.get(url).text\n",
    "soup_music_ranking = BeautifulSoup(html_website_ranking, 'lxml')\n",
    "\n",
    "music_ranking = soup_music_ranking.select('#main_pack > div.sc.sp_music._prs_mus_sen > div.api_subject_bx.type_slim.music_chart > ol > li > div > div.music_area > div.music_info > div.title > a')\n",
    "# 차이를 만드는 요소를 단순하게 생성 (li: ---- >> li로)\n",
    "music_ranking\n",
    "\n",
    "ranking_songs = [music_ranking_element.get_text() for music_ranking_element in music_ranking] # 리스트 컴프리헨션\n",
    "ranking_songs\n"
   ]
  },
  {
   "cell_type": "code",
   "execution_count": null,
   "metadata": {},
   "outputs": [],
   "source": []
  },
  {
   "cell_type": "code",
   "execution_count": null,
   "metadata": {},
   "outputs": [],
   "source": []
  },
  {
   "cell_type": "code",
   "execution_count": 50,
   "metadata": {},
   "outputs": [
    {
     "name": "stdout",
     "output_type": "stream",
     "text": [
      "[네이버 주간 Top 10]\n",
      "1:그대라는 시\n",
      "2:술이 문제야\n",
      "3:헤어져줘서 고마워\n",
      "4:Snapping\n",
      "5:2002\n",
      "6:ICY\n",
      "7:Speechless (Full)\n",
      "8:사랑에 연습이 있었다면 (Prod. 2soo)\n",
      "9:작은 것들을 위한 시 (Boy With Luv) (Feat. Halsey)\n",
      "10:너에게 못했던 내 마지막 말은\n"
     ]
    }
   ],
   "source": [
    "import requests\n",
    "from bs4 import BeautifulSoup\n",
    "\n",
    "url = 'https://search.naver.com/search.naver?sm=top_hty&fbm=1&ie=utf8&query=%EC%A3%BC%EA%B0%84%EC%9D%8C%EC%95%85%EC%88%9C%EC%9C%84'\n",
    "\n",
    "music_ranking = requests.get(url).text\n",
    "soup_music_ranking = BeautifulSoup(music_ranking, 'lxml')\n",
    "\n",
    "top_music_ranking = soup_music_ranking.select('#main_pack > div.sc.sp_music._prs_mus_sen > div.api_subject_bx.type_slim.music_chart > ol > li > div > div.music_area > div.music_info > div.title > a')\n",
    "\n",
    "top_music_title = [top_music_ranking_element.get_text() for top_music_ranking_element in top_music_ranking]\n",
    "top_music_title\n",
    "\n",
    "print('[네이버 주간 Top 10]')\n",
    "for i in range(10):\n",
    "    print('{0}:{1}'.format(i+1, top_music_title[i]))"
   ]
  },
  {
   "cell_type": "code",
   "execution_count": null,
   "metadata": {},
   "outputs": [],
   "source": [
    "# 네이버 music 주간순위 가져오기\n",
    "\n",
    "import requests\n",
    "from bs4 import BeautifulSoup\n",
    "\n",
    "url = 'https://www.alexa.com/topsites/countries/KR'   # 이 사이트에서 정보를 가져올 것임.\n",
    "\n",
    "html_website_ranking = requests.get(url).text\n",
    "soup_website_ranking = BeautifulSoup(html_website_ranking, 'lxml')\n",
    "\n",
    "website_ranking = soup_website_ranking.select('p a')\n",
    "del website_ranking[0]  # 첫번재 요소가 필요가 없는 내용이므로 해당 리스트를 삭제\n",
    "\n",
    "website_ranking_address = [website_ranking_element.get_text() for website_ranking_element in website_ranking]\n",
    "website_ranking_address[0:6]"
   ]
  },
  {
   "cell_type": "code",
   "execution_count": 15,
   "metadata": {
    "scrolled": false
   },
   "outputs": [
    {
     "data": {
      "text/plain": [
       "[' 그대라는 시 ',\n",
       " ' 술이 문제야 ',\n",
       " ' 헤어져줘서 고마워 ',\n",
       " ' Snapping ',\n",
       " ' 2002 ',\n",
       " ' ICY ',\n",
       " ' Speechless (Full) ',\n",
       " ' 사랑에 연습이 있었다면 (Prod. 2soo) ',\n",
       " ' 작은 것들을 위한 시 (Boy With Luv) (Feat. Halsey) ',\n",
       " ' 너에게 못했던 내 마지막 말은 ']"
      ]
     },
     "execution_count": 15,
     "metadata": {},
     "output_type": "execute_result"
    }
   ],
   "source": [
    "import requests\n",
    "from bs4 import BeautifulSoup\n",
    "\n",
    "url = 'https://search.naver.com/search.naver?sm=top_hty&fbm=1&ie=utf8&query=%EC%A3%BC%EA%B0%84%EC%9D%8C%EC%95%85%EC%88%9C%EC%9C%84'\n",
    "\n",
    "html_website_ranking = requests.get(url).text\n",
    "soup_website_ranking = BeautifulSoup(html_website_ranking, 'lxml')\n",
    "\n",
    "website_ranking = soup_website_ranking.select('div.title')\n",
    "\n",
    "website_ranking_songs = [website_ranking_element.get_text() for website_ranking_element in website_ranking] \n",
    "website_ranking_songs[0:11]"
   ]
  },
  {
   "cell_type": "code",
   "execution_count": 25,
   "metadata": {
    "scrolled": true
   },
   "outputs": [
    {
     "name": "stdout",
     "output_type": "stream",
     "text": [
      "*네이버 주간 음악 순위*\n",
      "1: 그대라는 시 \n",
      "2: 술이 문제야 \n",
      "3: 헤어져줘서 고마워 \n",
      "4: Snapping \n",
      "5: 2002 \n",
      "6: ICY \n",
      "7: Speechless (Full) \n",
      "8: 사랑에 연습이 있었다면 (Prod. 2soo) \n",
      "9: 작은 것들을 위한 시 (Boy With Luv) (Feat. Halsey) \n",
      "10: 너에게 못했던 내 마지막 말은 \n"
     ]
    }
   ],
   "source": [
    "print('*네이버 주간 음악 순위*')\n",
    "for i in range(10):\n",
    "    print('{0}:{1}'.format(i+1, website_ranking_songs[i]))"
   ]
  },
  {
   "cell_type": "code",
   "execution_count": null,
   "metadata": {},
   "outputs": [],
   "source": []
  },
  {
   "cell_type": "code",
   "execution_count": null,
   "metadata": {},
   "outputs": [],
   "source": []
  },
  {
   "cell_type": "code",
   "execution_count": null,
   "metadata": {},
   "outputs": [],
   "source": [
    "import requests\n",
    "from bs4 import BeautifulSouop\n",
    "\n",
    "url = ' '\n",
    "\n",
    "html_website_ranking = requests.get(url).text # text로 웹사이트 내용 가져오기\n",
    "soup_website_ranking = BeautifulSoup(html_website_ranking, 'lxml') #html_website_ranking을 lxml 파서로 처리\n",
    "\n",
    "website_ranking = soup_website_ranking('태그 태그')\n",
    "\n",
    "website_ranking_songs = [website_ranking_element.get_text() for website_ranking_element in website_ranking]\n",
    "website_ranking_songs[0:11]"
   ]
  },
  {
   "cell_type": "code",
   "execution_count": null,
   "metadata": {},
   "outputs": [],
   "source": [
    "import requests\n",
    "from bs4 import BeautifulSouop\n",
    "\n",
    "url = 'https://search.naver.com/search.naver?sm=top_hty&fbm=1&ie=utf8&query=%EC%A3%BC%EA%B0%84%EC%9D%8C%EC%95%85%EC%88%9C%EC%9C%84'\n",
    "\n",
    "html_website_ranking = requests.get(url).text # text로 웹사이트 내용 가져오기\n",
    "soup_website_ranking = BeautifulSoup(html_website_ranking, 'lxml') #html_website_ranking을 lxml 파서로 처리\n",
    ")\n"
   ]
  },
  {
   "cell_type": "code",
   "execution_count": null,
   "metadata": {},
   "outputs": [],
   "source": []
  },
  {
   "cell_type": "code",
   "execution_count": 60,
   "metadata": {},
   "outputs": [
    {
     "data": {
      "text/plain": [
       "[]"
      ]
     },
     "execution_count": 60,
     "metadata": {},
     "output_type": "execute_result"
    }
   ],
   "source": [
    "\n"
   ]
  },
  {
   "cell_type": "code",
   "execution_count": null,
   "metadata": {},
   "outputs": [],
   "source": [
    "\n",
    "\n",
    "#lst50 > td:nth-child(6) > div > div > div.ellipsis.rank01 > span > a\n",
    "\n",
    "#lst50 > td:nth-child(6) > div > div > div.ellipsis.rank01 > span > a\n",
    "\n",
    "#lst50 > td:nth-child(6) > div > div > div.ellipsis.rank01 > span > a\n",
    "#lst50 > td:nth-child(6) > div > div > div.ellipsis.rank01 > span > a\n",
    "\n",
    "#tb_list > div.service_list_video.type02.d_video_list > ul > li:nth-child(1) > div.entry > div.info > a\n",
    "#tb_list > div.service_list_video.type02.d_video_list > ul > li:nth-child(3) > div.entry > div.info > a"
   ]
  },
  {
   "cell_type": "code",
   "execution_count": null,
   "metadata": {},
   "outputs": [],
   "source": []
  },
  {
   "cell_type": "code",
   "execution_count": 66,
   "metadata": {},
   "outputs": [
    {
     "name": "stdout",
     "output_type": "stream",
     "text": [
      "[네이버 주간 Top 10]\n",
      "1:그대라는 시\n",
      "2:술이 문제야\n",
      "3:헤어져줘서 고마워\n",
      "4:Snapping\n",
      "5:2002\n",
      "6:ICY\n",
      "7:Speechless (Full)\n",
      "8:사랑에 연습이 있었다면 (Prod. 2soo)\n",
      "9:작은 것들을 위한 시 (Boy With Luv) (Feat. Halsey)\n",
      "10:너에게 못했던 내 마지막 말은\n"
     ]
    }
   ],
   "source": [
    "import requests\n",
    "from bs4 import BeautifulSoup\n",
    "\n",
    "url = 'https://search.naver.com/search.naver?sm=top_hty&fbm=1&ie=utf8&query=%EC%A3%BC%EA%B0%84%EC%9D%8C%EC%95%85%EC%88%9C%EC%9C%84'\n",
    "\n",
    "music_ranking = requests.get(url).text\n",
    "soup_music_ranking = BeautifulSoup(music_ranking, 'lxml')\n",
    "\n",
    "top_music_ranking = soup_music_ranking.select('#main_pack > div.sc.sp_music._prs_mus_sen > div.api_subject_bx.type_slim.music_chart > ol > li > div > div.music_area > div.music_info > div.title > a')\n",
    "\n",
    "top_music_title = [top_music_ranking_element.get_text() for top_music_ranking_element in top_music_ranking]\n",
    "top_music_title\n",
    "\n",
    "print('[네이버 주간 Top 10]')\n",
    "for i in range(10):\n",
    "    print('{0}:{1}'.format(i+1, top_music_title[i])) \n"
   ]
  },
  {
   "cell_type": "code",
   "execution_count": null,
   "metadata": {},
   "outputs": [],
   "source": []
  },
  {
   "cell_type": "code",
   "execution_count": 65,
   "metadata": {},
   "outputs": [
    {
     "data": {
      "text/plain": [
       "[]"
      ]
     },
     "execution_count": 65,
     "metadata": {},
     "output_type": "execute_result"
    }
   ],
   "source": [
    "import requests\n",
    "from bs4 import BeautifulSoup\n",
    "\n",
    "url = 'https://www.melon.com/chart/vdo/index.htm'\n",
    "\n",
    "melon_rank = requests.get(url).text\n",
    "soup_melon_rank = BeautifulSoup(melon_rank, 'lxml')\n",
    "\n",
    "trend_music = soup_melon_rank.select('#tb_list > div.service_list_video.type02.d_video_list > ul > li > div.entry > div.info > a')\n",
    "#tb_list > div.service_list_video.type02.d_video_list > ul > li:nth-child(11) > div.entry > div.info > a\n",
    "\n",
    "trend_music_title = [trend_music_element.get_text() for trend_music_element in trend_music]\n",
    "trend_music_title\n"
   ]
  },
  {
   "cell_type": "code",
   "execution_count": null,
   "metadata": {},
   "outputs": [],
   "source": []
  },
  {
   "cell_type": "code",
   "execution_count": null,
   "metadata": {},
   "outputs": [],
   "source": [
    "# 교수님 풀이\n",
    "\n",
    "import requests\n",
    "from bs4 import BeautifulSoup\n",
    "\n",
    "url = 'https://search.naver.com/search.naver?sm=top_hty&fbm=1&ie=utf8&query=%EC%A3%BC%EA%B0%84%EC%9D%8C%EC%95%85%EC%88%9C%EC%9C%84'\n",
    "\n",
    "html_website_ranking = requests.get(url).text\n",
    "soup_music_ranking = BeautifulSoup(html_website_ranking, 'lxml')\n",
    "\n",
    "music_ranking = soup_music_ranking.select('#content > div._top100_container.top100_container.home_section.NE\\=a\\:t1k > div._top100_content.top100_content > div.tc_panel.tc_selected > table > tbody > tr._tracklist_move._track_dsc.list2 > td._artist.artist > span > a:nth-child(1)')\n",
    "# 차이를 만드는 요소를 단순하게 생성 (li: ---- >> li로)\n",
    "\n",
    "ranking_songs = [music_ranking_element.get_text() for music_ranking_element in music_ranking] # 리스트 컴프리헨션\n",
    "\n",
    "print('[네이버 주간 Top 10]')\n",
    "for i in range(10):"
   ]
  },
  {
   "cell_type": "code",
   "execution_count": null,
   "metadata": {},
   "outputs": [],
   "source": []
  },
  {
   "cell_type": "code",
   "execution_count": null,
   "metadata": {},
   "outputs": [],
   "source": []
  },
  {
   "cell_type": "code",
   "execution_count": null,
   "metadata": {},
   "outputs": [],
   "source": [
    "아티스트 : #content > div.section > div:nth-child(2) > div._tracklist_mytrack.tracklist_table.tracklist_type1 > table > tbody > tr:nth-child(3) > td._artist.artist > a > span\n",
    "민서 : #content > div.section > div:nth-child(2) > div._tracklist_mytrack.tracklist_table.tracklist_type1 > table > tbody > tr:nth-child(6) > td._artist.artist.no_ell2"
   ]
  },
  {
   "cell_type": "code",
   "execution_count": 115,
   "metadata": {
    "scrolled": true
   },
   "outputs": [
    {
     "data": {
      "text/plain": [
       "[<span class=\"ellipsis\">눈 (Feat. 이문세)</span>,\n",
       " <span class=\"ellipsis\">기억의 빈자리</span>,\n",
       " <span class=\"ellipsis\">선물</span>,\n",
       " <span class=\"ellipsis\">Beautiful</span>,\n",
       " <span class=\"ellipsis\">좋아</span>,\n",
       " <span class=\"ellipsis\">피카부 (Peek-A-Boo)</span>,\n",
       " <span class=\"ellipsis\">좋니</span>]"
      ]
     },
     "execution_count": 115,
     "metadata": {},
     "output_type": "execute_result"
    }
   ],
   "source": [
    "import requests\n",
    "from bs4 import BeautifulSoup\n",
    "\n",
    "url = 'https://music.naver.com/listen/history/index.nhn?type=TOTAL&year=2017&month=12&week=1&page=1'\n",
    "        \n",
    "  \n",
    "html_music = requests.get(url).text\n",
    "soup_music = BeautifulSoup(html_music, 'lxml')\n",
    "\n",
    "music_ranking = soup_music.select('a._title span.ellipsis')\n",
    "music_ranking[0:7]\n"
   ]
  },
  {
   "cell_type": "code",
   "execution_count": 116,
   "metadata": {},
   "outputs": [
    {
     "data": {
      "text/plain": [
       "'Zion.T'"
      ]
     },
     "execution_count": 116,
     "metadata": {},
     "output_type": "execute_result"
    }
   ],
   "source": [
    "artists = soup_music.select('a._artist span.ellipsis')\n",
    "artists[0].get_text().strip()"
   ]
  },
  {
   "cell_type": "code",
   "execution_count": 117,
   "metadata": {},
   "outputs": [
    {
     "data": {
      "text/plain": [
       "['Zion.T',\n",
       " '나얼',\n",
       " '멜로망스(Melomance)',\n",
       " 'Wanna One(워너원)',\n",
       " 'Red Velvet (레드벨벳)',\n",
       " '윤종신',\n",
       " '뉴이스트 W']"
      ]
     },
     "execution_count": 117,
     "metadata": {},
     "output_type": "execute_result"
    }
   ],
   "source": [
    "music_artists = [artist.get_text().strip() for artist in artists]\n",
    "music_artists[0:7]"
   ]
  },
  {
   "cell_type": "code",
   "execution_count": 118,
   "metadata": {},
   "outputs": [
    {
     "data": {
      "text/plain": [
       "'민서'"
      ]
     },
     "execution_count": 118,
     "metadata": {},
     "output_type": "execute_result"
    }
   ],
   "source": [
    "artists = soup_music.select('td._artist a') # 상위 개념으로 넓힘.\n",
    "artists[4].get_text().strip()"
   ]
  },
  {
   "cell_type": "code",
   "execution_count": 119,
   "metadata": {},
   "outputs": [
    {
     "data": {
      "text/plain": [
       "['Zion.T',\n",
       " '나얼',\n",
       " '멜로망스(Melomance)',\n",
       " 'Wanna One(워너원)',\n",
       " '민서',\n",
       " 'Red Velvet (레드벨벳)',\n",
       " '윤종신']"
      ]
     },
     "execution_count": 119,
     "metadata": {},
     "output_type": "execute_result"
    }
   ],
   "source": [
    "music_artists = [artist.get_text().strip() for artist in artists]\n",
    "music_artists[0:7]"
   ]
  },
  {
   "cell_type": "code",
   "execution_count": null,
   "metadata": {},
   "outputs": [],
   "source": []
  },
  {
   "cell_type": "code",
   "execution_count": null,
   "metadata": {},
   "outputs": [],
   "source": [
    "\n",
    "# music_ranking = soup_music.select('#content > div.section > div:nth-child(2) > div._tracklist_mytrack.tracklist_table.tracklist_type1 > table > tbody > tr > td.name > a._title.title > span')\n",
    "\n",
    "# ranking_songs = [music_ranking_element.get_text() for music_ranking_element in music_ranking] # 리스트 컴프리헨션\n",
    "# ranking_songs\n"
   ]
  },
  {
   "cell_type": "code",
   "execution_count": null,
   "metadata": {},
   "outputs": [],
   "source": []
  },
  {
   "cell_type": "code",
   "execution_count": 142,
   "metadata": {},
   "outputs": [
    {
     "data": {
      "text/plain": [
       "['C:/myPyCode/data/NaverMusicTop100.txt']"
      ]
     },
     "execution_count": 142,
     "metadata": {},
     "output_type": "execute_result"
    }
   ],
   "source": [
    "import requests\n",
    "from bs4 import BeautifulSoup\n",
    "import glob\n",
    "    \n",
    "naver_music_url = \"http://music.naver.com/listen/history/index.nhn?type=DOMESTIC&year=2017&month=12&week=1&page=\"\n",
    " \n",
    "# 네이버 music 주소를 입력하면 노래 제목과 아티스트를 반환\n",
    "def naver_music(url):    \n",
    "    html_music = requests.get(url).text\n",
    "    soup_music = BeautifulSoup(html_music, \"lxml\")\n",
    "\n",
    "    titles = soup_music.select('a._title span.ellipsis') \n",
    "    artists = soup_music.select('td._artist a')\n",
    "\n",
    "    music_titles = [title.get_text() for title in titles]\n",
    "    music_artists = [artist.get_text().strip() for artist in artists] # 불필요한 내용 삭제 strip()\n",
    "    \n",
    "    return music_titles, music_artists\n",
    "\n",
    "# 노래 제목과 아티스트를 저장할 파일 이름을 폴더와 함께 지정\n",
    "file_name = 'C:/myPyCode/data/NaverMusicTop100.txt'\n",
    "f = open(file_name,'w') # 파일 열기    \n",
    "\n",
    "\n",
    "# 각 page에는 50개의 노래 제목과 아티스트가 추출됨\n",
    "for page in range(2):  # 페이지가 두개임을 아니까 2로 제한\n",
    "    naver_music_url_page = naver_music_url + str(page+1) # page URL\n",
    "    naver_music_titles, naver_music_artists = naver_music(naver_music_url_page)\n",
    "    \n",
    "    \n",
    "    # 추출된 노래 제목과 아티스트를 파일에 저장 \n",
    "    for k in range(len(naver_music_titles)):\n",
    "        f.write(\"{0:2d}: {1}/{2}\\n\".format(page*50 + k+1, naver_music_titles[k],  naver_music_artists[k]))\n",
    "        \n",
    "f.close() # 파일 닫기\n",
    "\n",
    "glob.glob(file_name) # 생성된 파일 확인 (지정한 이름의 파일을 확인하여 output)"
   ]
  },
  {
   "cell_type": "code",
   "execution_count": null,
   "metadata": {},
   "outputs": [],
   "source": []
  },
  {
   "cell_type": "code",
   "execution_count": 141,
   "metadata": {},
   "outputs": [
    {
     "data": {
      "text/plain": [
       "['C:/myPyCode/data/NaverMusicTop100-1.txt']"
      ]
     },
     "execution_count": 141,
     "metadata": {},
     "output_type": "execute_result"
    }
   ],
   "source": [
    "import requests\n",
    "from bs4 import BeautifulSoup\n",
    "import glob\n",
    "\n",
    "nave_music_url = 'https://music.naver.com/listen/history/index.nhn?type=TOTAL&year=2017&month=12&week=1&page='\n",
    "\n",
    "def naver_music(url):\n",
    "    html_music = requests.get(url).text\n",
    "    soup_music = BeautifulSoup(html_music, 'lxml')\n",
    "    \n",
    "    titles = soup_music.select('a._artist span.ellipsis')\n",
    "    artists = soup_music.select('td._artist a')\n",
    "    \n",
    "    music_titles = [title.get_text() for title in titles] #리스트 컴프리헨션\n",
    "    music_artists = [artist.get_text().strip() for artist in artists]\n",
    "    \n",
    "    return music_titles, music_artists\n",
    "\n",
    "file_name = 'C:/myPyCode/data/NaverMusicTop100-1.txt'\n",
    "f = open(file_name, 'w')\n",
    "\n",
    "for page in range(2):\n",
    "    naver_music_url_page = naver_music_url + str(page+1)\n",
    "    naver_music_titles, naver_music_artists = naver_music(naver_music_url_page) # 위에서 return이 두개로 설정되었으므로 각각 들어감\n",
    "    \n",
    "    for k in range(len(naver_music_titles)):\n",
    "        f.write('{0:2d}: {1}/{2}\\n'.format(page*50 + k + 1, naver_music_titles[k], naver_music_artists[k]))\n",
    "    \n",
    "f.close()\n",
    "\n",
    "glob.glob(file_name)\n"
   ]
  },
  {
   "cell_type": "code",
   "execution_count": null,
   "metadata": {},
   "outputs": [],
   "source": []
  },
  {
   "cell_type": "code",
   "execution_count": null,
   "metadata": {},
   "outputs": [],
   "source": [
    "import requests\n",
    "from bs4 import BeautifulSoup\n",
    "import glob\n",
    "\n",
    "naver_music_url2 = 'https://music.naver.com/listen/history/index.nhn?type=TOTAL&year=2017&month=12&week=1&page='\n",
    "\n",
    "def naver_music(url):\n",
    "    html_music = request.get(url).text\n",
    "    soup_music = BeautifulSoup(html_music, 'lxml')\n",
    "    \n",
    "    titles = soup_music.select'a._artist span.ellipsis')\n",
    "    artists = soup_music.select('td_artist a')\n",
    "    "
   ]
  },
  {
   "cell_type": "code",
   "execution_count": null,
   "metadata": {},
   "outputs": [],
   "source": []
  },
  {
   "cell_type": "code",
   "execution_count": null,
   "metadata": {},
   "outputs": [],
   "source": []
  }
 ],
 "metadata": {
  "kernelspec": {
   "display_name": "Python 3",
   "language": "python",
   "name": "python3"
  },
  "language_info": {
   "codemirror_mode": {
    "name": "ipython",
    "version": 3
   },
   "file_extension": ".py",
   "mimetype": "text/x-python",
   "name": "python",
   "nbconvert_exporter": "python",
   "pygments_lexer": "ipython3",
   "version": "3.6.8"
  }
 },
 "nbformat": 4,
 "nbformat_minor": 2
}
