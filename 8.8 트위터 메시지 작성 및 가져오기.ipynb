{
 "cells": [
  {
   "cell_type": "code",
   "execution_count": 1,
   "metadata": {},
   "outputs": [
    {
     "name": "stdout",
     "output_type": "stream",
     "text": [
      "Collecting tweepy\n",
      "  Downloading https://files.pythonhosted.org/packages/36/1b/2bd38043d22ade352fc3d3902cf30ce0e2f4bf285be3b304a2782a767aec/tweepy-3.8.0-py2.py3-none-any.whl\n",
      "Requirement already satisfied: PySocks>=1.5.7 in c:\\anaconda3\\envs\\python36\\lib\\site-packages (from tweepy) (1.7.0)\n",
      "Requirement already satisfied: six>=1.10.0 in c:\\anaconda3\\envs\\python36\\lib\\site-packages (from tweepy) (1.12.0)\n",
      "Collecting requests-oauthlib>=0.7.0 (from tweepy)\n",
      "  Downloading https://files.pythonhosted.org/packages/c2/e2/9fd03d55ffb70fe51f587f20bcf407a6927eb121de86928b34d162f0b1ac/requests_oauthlib-1.2.0-py2.py3-none-any.whl\n",
      "Requirement already satisfied: requests>=2.11.1 in c:\\anaconda3\\envs\\python36\\lib\\site-packages (from tweepy) (2.22.0)\n",
      "Collecting oauthlib>=3.0.0 (from requests-oauthlib>=0.7.0->tweepy)\n",
      "  Downloading https://files.pythonhosted.org/packages/05/57/ce2e7a8fa7c0afb54a0581b14a65b56e62b5759dbc98e80627142b8a3704/oauthlib-3.1.0-py2.py3-none-any.whl (147kB)\n",
      "Requirement already satisfied: idna<2.9,>=2.5 in c:\\anaconda3\\envs\\python36\\lib\\site-packages (from requests>=2.11.1->tweepy) (2.8)\n",
      "Requirement already satisfied: urllib3!=1.25.0,!=1.25.1,<1.26,>=1.21.1 in c:\\anaconda3\\envs\\python36\\lib\\site-packages (from requests>=2.11.1->tweepy) (1.24.2)\n",
      "Requirement already satisfied: certifi>=2017.4.17 in c:\\anaconda3\\envs\\python36\\lib\\site-packages (from requests>=2.11.1->tweepy) (2019.6.16)\n",
      "Requirement already satisfied: chardet<3.1.0,>=3.0.2 in c:\\anaconda3\\envs\\python36\\lib\\site-packages (from requests>=2.11.1->tweepy) (3.0.4)\n",
      "Installing collected packages: oauthlib, requests-oauthlib, tweepy\n",
      "Successfully installed oauthlib-3.1.0 requests-oauthlib-1.2.0 tweepy-3.8.0\n"
     ]
    }
   ],
   "source": [
    "!pip install tweepy"
   ]
  },
  {
   "cell_type": "code",
   "execution_count": 8,
   "metadata": {},
   "outputs": [],
   "source": [
    "import tweepy\n",
    "\n",
    "consumer_key = 'Zr4xktZXstj4839901thhoeHS'\n",
    "consumer_secret = 'lMeuXWQeYlPnQ5P3qcl7GIMBHuselvflJ3Gv9RBJY0IUGToeix'\n",
    "\n",
    "access_token = '1159112989913436160-im7G5xHBpoU2HBS00lYCObulG7F2no'\n",
    "access_secret = 'blPCoaUaNzpbnLdGID6bJz8NM3ErxX5zVrgv6TroNXlS2'"
   ]
  },
  {
   "cell_type": "code",
   "execution_count": 9,
   "metadata": {},
   "outputs": [],
   "source": [
    "auth = tweepy.OAuthHandler(consumer_key, consumer_secret)\n",
    "auth.set_access_token(access_token, access_secret)"
   ]
  },
  {
   "cell_type": "code",
   "execution_count": 10,
   "metadata": {},
   "outputs": [],
   "source": [
    "api = tweepy.API(auth)"
   ]
  },
  {
   "cell_type": "code",
   "execution_count": 11,
   "metadata": {},
   "outputs": [
    {
     "name": "stdout",
     "output_type": "stream",
     "text": [
      "name: hyeonju\n"
     ]
    }
   ],
   "source": [
    "print('name:', api.me().name)"
   ]
  },
  {
   "cell_type": "code",
   "execution_count": 12,
   "metadata": {},
   "outputs": [],
   "source": [
    "tweet_update_status = api.update_status('파이썬에서 Tweepy 라이브러리를 이용한 첫 번째 트윗(H)')"
   ]
  },
  {
   "cell_type": "code",
   "execution_count": 14,
   "metadata": {},
   "outputs": [
    {
     "name": "stdout",
     "output_type": "stream",
     "text": [
      "* 파이썬에서 Tweepy 라이브러리를 이용한 첫 번째 트윗(H)\n"
     ]
    }
   ],
   "source": [
    "for status in tweepy.Cursor(api.home_timeline).items(2):\n",
    "    print('*', status.text)"
   ]
  },
  {
   "cell_type": "code",
   "execution_count": 15,
   "metadata": {},
   "outputs": [
    {
     "name": "stdout",
     "output_type": "stream",
     "text": [
      "* hello world!\n",
      "==> Created at Thu Aug 08 08:10:09 +0000 2019\n",
      "* 파이썬에서 Tweepy 라이브러리를 이용한 첫 번째 트윗(H)\n",
      "==> Created at Thu Aug 08 07:28:07 +0000 2019\n"
     ]
    }
   ],
   "source": [
    "for status in tweepy.Cursor(api.home_timeline).items(2):\n",
    "    print('*', status._json['text'])\n",
    "    print('==> Created at', status._json['created_at'])"
   ]
  },
  {
   "cell_type": "code",
   "execution_count": 18,
   "metadata": {},
   "outputs": [],
   "source": [
    "tweet_media_update_status = api.update_with_media('C:\\myPyCode\\Penguins.jpg', '펭귄펭귄')"
   ]
  },
  {
   "cell_type": "code",
   "execution_count": 20,
   "metadata": {},
   "outputs": [
    {
     "name": "stdout",
     "output_type": "stream",
     "text": [
      "* 펭귄펭귄 https://t.co/SNmF0ylflH\n",
      "==> Created at Thu Aug 08 08:15:39 +0000 2019\n",
      "* tweepy이미지 https://t.co/gQ86NfMf09\n",
      "==> Created at Thu Aug 08 08:12:53 +0000 2019\n",
      "* hello world!\n",
      "==> Created at Thu Aug 08 08:10:09 +0000 2019\n",
      "* 파이썬에서 Tweepy 라이브러리를 이용한 첫 번째 트윗(H)\n",
      "==> Created at Thu Aug 08 07:28:07 +0000 2019\n"
     ]
    }
   ],
   "source": [
    "for status in tweepy.Cursor(api.home_timeline).items(10):\n",
    "    print('*', status._json['text'])\n",
    "    print('==> Created at', status._json['created_at'])"
   ]
  },
  {
   "cell_type": "markdown",
   "metadata": {},
   "source": [
    "## 키워드를 지정해 데이터 가져오기"
   ]
  },
  {
   "cell_type": "markdown",
   "metadata": {},
   "source": [
    "1. 클래스 만들고(상속받구), 함수 'on_status' 생성\n",
    "2. 객체 만들기\n",
    "3. tweepy.stream "
   ]
  },
  {
   "cell_type": "code",
   "execution_count": 24,
   "metadata": {},
   "outputs": [],
   "source": [
    "import tweepy\n",
    "\n",
    "class MyStreamListener(tweepy.StreamListener):\n",
    "    \n",
    "    def on_status(self, status):\n",
    "        print(status.text)"
   ]
  },
  {
   "cell_type": "code",
   "execution_count": 25,
   "metadata": {},
   "outputs": [],
   "source": [
    "myStreamListener = MyStreamListener()"
   ]
  },
  {
   "cell_type": "code",
   "execution_count": 26,
   "metadata": {},
   "outputs": [],
   "source": [
    "myStream = tweepy.Stream(auth, myStreamListener)"
   ]
  },
  {
   "cell_type": "code",
   "execution_count": 27,
   "metadata": {},
   "outputs": [],
   "source": [
    "#myStream.filter(track = ['파이썬', 'python'])"
   ]
  },
  {
   "cell_type": "code",
   "execution_count": 30,
   "metadata": {},
   "outputs": [
    {
     "name": "stdout",
     "output_type": "stream",
     "text": [
      "*** RT @machinelearnflx: Machine Learning and Deep Learning with OpenCV https://t.co/ZG6jzXTTbU  #machinelearning #ad\n",
      "*** \"Machine learning gets rid of the call centres and replaces them with labelling centres.\" - @benedictevans\n",
      "*** RT @stpiindia: The #emergingtech #startup @matelabs_ai launched by alumni of NIT-Bhopal is a step forward in accelerating the adoption of #…\n",
      "*** RT @machinelearnflx: Machine Learning with TensorFlow on Google Cloud Platform https://t.co/uYLJhgH0r7  #machinelearning #ad\n",
      "*** RT @jose_garde: 10 TED Talks on AI and machine learning https://t.co/XXT6Xxibf5 via @4enterprisers by @kevinrcasey #machinelearning #Artifi…\n"
     ]
    }
   ],
   "source": [
    "import tweepy\n",
    "\n",
    "class MyStreamListener(tweepy.StreamListener):\n",
    "    \n",
    "    def __init__(self):\n",
    "        super().__init__()\n",
    "        self.tweet_num = 0\n",
    "        \n",
    "    def on_status(self, status):\n",
    "        self.tweet_num = self.tweet_num + 1\n",
    "        if(self.tweet_num <=5):\n",
    "            print('***', status.text)\n",
    "            return True\n",
    "        else:\n",
    "            return False\n",
    "        \n",
    "myStreamListener = MyStreamListener()\n",
    "myStream = tweepy.Stream(auth, myStreamListener)\n",
    "myStream.filter(track = ['머신 러닝', 'Machine Learning'])"
   ]
  },
  {
   "cell_type": "code",
   "execution_count": 32,
   "metadata": {},
   "outputs": [
    {
     "data": {
      "text/plain": [
       "{'created_at': 'Thu Aug 08 07:28:07 +0000 2019',\n",
       " 'id': 1159365659521716224,\n",
       " 'id_str': '1159365659521716224',\n",
       " 'text': '파이썬에서 Tweepy 라이브러리를 이용한 첫 번째 트윗(H)',\n",
       " 'truncated': False,\n",
       " 'entities': {'hashtags': [], 'symbols': [], 'user_mentions': [], 'urls': []},\n",
       " 'source': '<a href=\"https://hebe890.com\" rel=\"nofollow\">joyfulhjlee</a>',\n",
       " 'in_reply_to_status_id': None,\n",
       " 'in_reply_to_status_id_str': None,\n",
       " 'in_reply_to_user_id': None,\n",
       " 'in_reply_to_user_id_str': None,\n",
       " 'in_reply_to_screen_name': None,\n",
       " 'user': {'id': 1159112989913436160,\n",
       "  'id_str': '1159112989913436160',\n",
       "  'name': 'hyeonju',\n",
       "  'screen_name': 'hyeonju10',\n",
       "  'location': '',\n",
       "  'description': '',\n",
       "  'url': None,\n",
       "  'entities': {'description': {'urls': []}},\n",
       "  'protected': False,\n",
       "  'followers_count': 0,\n",
       "  'friends_count': 0,\n",
       "  'listed_count': 0,\n",
       "  'created_at': 'Wed Aug 07 14:44:06 +0000 2019',\n",
       "  'favourites_count': 0,\n",
       "  'utc_offset': None,\n",
       "  'time_zone': None,\n",
       "  'geo_enabled': False,\n",
       "  'verified': False,\n",
       "  'statuses_count': 4,\n",
       "  'lang': None,\n",
       "  'contributors_enabled': False,\n",
       "  'is_translator': False,\n",
       "  'is_translation_enabled': False,\n",
       "  'profile_background_color': 'F5F8FA',\n",
       "  'profile_background_image_url': None,\n",
       "  'profile_background_image_url_https': None,\n",
       "  'profile_background_tile': False,\n",
       "  'profile_image_url': 'http://abs.twimg.com/sticky/default_profile_images/default_profile_normal.png',\n",
       "  'profile_image_url_https': 'https://abs.twimg.com/sticky/default_profile_images/default_profile_normal.png',\n",
       "  'profile_link_color': '1DA1F2',\n",
       "  'profile_sidebar_border_color': 'C0DEED',\n",
       "  'profile_sidebar_fill_color': 'DDEEF6',\n",
       "  'profile_text_color': '333333',\n",
       "  'profile_use_background_image': True,\n",
       "  'has_extended_profile': False,\n",
       "  'default_profile': True,\n",
       "  'default_profile_image': True,\n",
       "  'following': False,\n",
       "  'follow_request_sent': False,\n",
       "  'notifications': False,\n",
       "  'translator_type': 'none'},\n",
       " 'geo': None,\n",
       " 'coordinates': None,\n",
       " 'place': None,\n",
       " 'contributors': None,\n",
       " 'is_quote_status': False,\n",
       " 'retweet_count': 0,\n",
       " 'favorite_count': 0,\n",
       " 'favorited': False,\n",
       " 'retweeted': False,\n",
       " 'lang': 'ko'}"
      ]
     },
     "execution_count": 32,
     "metadata": {},
     "output_type": "execute_result"
    }
   ],
   "source": [
    "status._json"
   ]
  }
 ],
 "metadata": {
  "kernelspec": {
   "display_name": "Python 3",
   "language": "python",
   "name": "python3"
  },
  "language_info": {
   "codemirror_mode": {
    "name": "ipython",
    "version": 3
   },
   "file_extension": ".py",
   "mimetype": "text/x-python",
   "name": "python",
   "nbconvert_exporter": "python",
   "pygments_lexer": "ipython3",
   "version": "3.6.8"
  }
 },
 "nbformat": 4,
 "nbformat_minor": 2
}
