{
 "cells": [
  {
   "cell_type": "markdown",
   "metadata": {},
   "source": [
    "# 함수(기능)"
   ]
  },
  {
   "cell_type": "markdown",
   "metadata": {},
   "source": [
    "## 함수의 정의와 호출"
   ]
  },
  {
   "cell_type": "code",
   "execution_count": 7,
   "metadata": {},
   "outputs": [],
   "source": [
    "def my_func():\n",
    "    print('My first function!')\n",
    "    print('첫 번째 함수')\n",
    "    \n",
    "# 인자/ 반환값 없음"
   ]
  },
  {
   "cell_type": "code",
   "execution_count": 8,
   "metadata": {},
   "outputs": [],
   "source": [
    "def my_func_abc(a, b, c): #인자\n",
    "    d = a + b + c\n",
    "    return d         # 반환값"
   ]
  },
  {
   "cell_type": "code",
   "execution_count": 9,
   "metadata": {},
   "outputs": [
    {
     "name": "stdout",
     "output_type": "stream",
     "text": [
      "My first function!\n",
      "첫 번째 함수\n"
     ]
    }
   ],
   "source": [
    "my_func()"
   ]
  },
  {
   "cell_type": "code",
   "execution_count": 12,
   "metadata": {},
   "outputs": [],
   "source": [
    "# 함수 정의\n",
    "\n",
    "def my_friend(friendName)\n",
    "    print('{}는 나의 친구입니다.'.format(friendName))"
   ]
  },
  {
   "cell_type": "code",
   "execution_count": 18,
   "metadata": {},
   "outputs": [
    {
     "name": "stdout",
     "output_type": "stream",
     "text": [
      "철수는 나의 친구입니다.\n",
      "영희는 나의 친구입니다.\n"
     ]
    }
   ],
   "source": [
    "# 함수 호출\n",
    "\n",
    "my_friend('철수')\n",
    "my_friend('영희')"
   ]
  },
  {
   "cell_type": "code",
   "execution_count": 22,
   "metadata": {},
   "outputs": [],
   "source": [
    "def my_student_info(name, school_ID, phoneNumber):\n",
    "    print('------------------------')  # ('*****************************') \n",
    "    print('- 학생이름:', name)         # ('* 학생이름:', name)\n",
    "    print('- 학급번호:', school_ID)    # ('* 학급번호:', school_ID)\n",
    "    print('- 전화번호:', phoneNumber)  # ('* 전화번호:', phoneNumber) 로 양식 변경 가능"
   ]
  },
  {
   "cell_type": "code",
   "execution_count": 23,
   "metadata": {
    "scrolled": true
   },
   "outputs": [
    {
     "name": "stdout",
     "output_type": "stream",
     "text": [
      "------------------------\n",
      "- 학생이름: 현아\n",
      "- 학급번호: 01\n",
      "- 전화번호: 01-235-6789\n"
     ]
    }
   ],
   "source": [
    "my_student_info('현아','01','01-235-6789')"
   ]
  },
  {
   "cell_type": "code",
   "execution_count": 24,
   "metadata": {},
   "outputs": [],
   "source": [
    "def my_calc(x,y): # 인자\n",
    "    z = x*y\n",
    "    return z      # 반환값"
   ]
  },
  {
   "cell_type": "code",
   "execution_count": 25,
   "metadata": {},
   "outputs": [
    {
     "data": {
      "text/plain": [
       "12"
      ]
     },
     "execution_count": 25,
     "metadata": {},
     "output_type": "execute_result"
    }
   ],
   "source": [
    "my_calc(3,4)"
   ]
  },
  {
   "cell_type": "code",
   "execution_count": 36,
   "metadata": {},
   "outputs": [],
   "source": [
    "def my_student_info_list(student_info):\n",
    "    print('*****************************') \n",
    "    print('* 학생이름:', student_info[0])\n",
    "    print('* 학급번호:', student_info[1])\n",
    "    print('* 전화번호:', student_info[2])\n",
    "    print('*****************************')"
   ]
  },
  {
   "cell_type": "code",
   "execution_count": 44,
   "metadata": {
    "scrolled": false
   },
   "outputs": [
    {
     "name": "stdout",
     "output_type": "stream",
     "text": [
      "*****************************\n",
      "* 학생이름: 현아\n",
      "* 학급번호: 01\n",
      "* 전화번호: 01-235-6789\n",
      "*****************************\n"
     ]
    }
   ],
   "source": [
    "student1_info = ['현아','01','01-235-6789']  # 인자가 리스트임\n",
    "my_student_info_list(student1_info)"
   ]
  },
  {
   "cell_type": "code",
   "execution_count": 45,
   "metadata": {},
   "outputs": [
    {
     "name": "stdout",
     "output_type": "stream",
     "text": [
      "*****************************\n",
      "* 학생이름: 진수\n",
      "* 학급번호: 02\n",
      "* 전화번호: 01-987-6543\n",
      "*****************************\n"
     ]
    }
   ],
   "source": [
    "my_student_info_list(['진수','02','01-987-6543']) # 리스트를 바로 인자로 지정"
   ]
  },
  {
   "cell_type": "markdown",
   "metadata": {},
   "source": [
    "## 변수의 유효 범위\n",
    "\n",
    "- 지역변수(local variable) : 함수 안에서 정의한 변수로 함수 영역 안에서만 동작\n",
    "- 전역변수(global variable) : 함수 밖에서 생성한 변수로 코드 내 어디서나 사용 가능"
   ]
  },
  {
   "cell_type": "code",
   "execution_count": 5,
   "metadata": {},
   "outputs": [],
   "source": [
    "a = 5                                   # 전역 변수를 선언\n",
    "\n",
    "def func1():\n",
    "    a = 1\n",
    "    print('[func1] 지역변수 a =', a)\n",
    "    \n",
    "def func2():\n",
    "    a = 2\n",
    "    print('[func2] 지역변수 a =', a)    # 함수 안에서 지역변수를 설정\n",
    "\n",
    "def func3():\n",
    "    print('[func3] 전역변수 a =', a)    # 지역변수 설정이 없으므로 전역변수를 불러옴\n",
    "    \n",
    "def func4():\n",
    "    global a                            # 전역변수를 불러옴\n",
    "    a = 4                               # 전역변수를 변경함\n",
    "    print('[func4] 전역변수 a =', a)"
   ]
  },
  {
   "cell_type": "code",
   "execution_count": 6,
   "metadata": {},
   "outputs": [
    {
     "name": "stdout",
     "output_type": "stream",
     "text": [
      "전역변수 a = 5\n",
      "[func1] 지역변수 a = 1\n",
      "[func2] 지역변수 a = 2\n",
      "[func3] 전역변수 a = 5\n",
      "[func4] 전역변수 a = 4\n",
      "전역변수 a = 4\n"
     ]
    }
   ],
   "source": [
    "print('전역변수 a =', a)\n",
    "\n",
    "func1()\n",
    "func2()\n",
    "func3()\n",
    "func4()\n",
    "\n",
    "print('전역변수 a =', a) # def func4()에서 전역변수를 변경하여 적용됨"
   ]
  },
  {
   "cell_type": "markdown",
   "metadata": {},
   "source": [
    "### 람다(lambda) 함수\n",
    "\n",
    "- 한 줄로 함수 표현\n",
    "- 기본 구조 : lambda<인자> : <인자 활용 수행 코드>\n",
    "\n",
    "\n",
    "- 1회용 함수 : (lambda <인자> : <인자 활용 수행 코드>)(<인자>)\n",
    "- 다회용 함수: lambda_function = lambda <인자> : <인자 활용 수행 코드>\n"
   ]
  },
  {
   "cell_type": "code",
   "execution_count": 5,
   "metadata": {},
   "outputs": [
    {
     "data": {
      "text/plain": [
       "9"
      ]
     },
     "execution_count": 5,
     "metadata": {},
     "output_type": "execute_result"
    }
   ],
   "source": [
    "(lambda x : x ** 2)(3)       # 람다함수 / 인자에 각각 소괄호"
   ]
  },
  {
   "cell_type": "code",
   "execution_count": 9,
   "metadata": {},
   "outputs": [
    {
     "data": {
      "text/plain": [
       "4"
      ]
     },
     "execution_count": 9,
     "metadata": {},
     "output_type": "execute_result"
    }
   ],
   "source": [
    "mysquare = lambda x : x ** 2  # 소괄호 안해도 됨\n",
    "mysquare(2)"
   ]
  },
  {
   "cell_type": "code",
   "execution_count": 10,
   "metadata": {},
   "outputs": [
    {
     "data": {
      "text/plain": [
       "36"
      ]
     },
     "execution_count": 10,
     "metadata": {},
     "output_type": "execute_result"
    }
   ],
   "source": [
    "mysquare(6)"
   ]
  },
  {
   "cell_type": "code",
   "execution_count": 11,
   "metadata": {},
   "outputs": [
    {
     "data": {
      "text/plain": [
       "11"
      ]
     },
     "execution_count": 11,
     "metadata": {},
     "output_type": "execute_result"
    }
   ],
   "source": [
    "mySimpleFunc = lambda x,y,z : 2*x + 3*y + z\n",
    "mySimpleFunc(1,2,3)"
   ]
  },
  {
   "cell_type": "markdown",
   "metadata": {},
   "source": [
    "### 내장 함수\n",
    "\n",
    "1. 형변환 함수  \n",
    "\n",
    "    1) 정수형으로 변환 int()    : int(0.123), int(3.54)  \n",
    "    2) 실수형으로 변환 float()  : float(0), float(123)  \n",
    "    3) 문자형으로 변환 str()    : str(123), str(0.3456)  \n",
    "    4) 리스트, 튜플, 세트형으로 변환 :  \n",
    "       * list((1,2,3)) / ({1,2,3})\n",
    "       * tuple([1,2,3]) / ({1,2,3})\n",
    "       * set([1,2,3]) / ((1,2,3))\n",
    "\n",
    "2. bool 함수(True, False)  \n",
    "\n",
    "    1) 숫자를 인자로 bool 함수 호출 : bool(0)    # 0 이외의 숫자는 모두 True 반환  \n",
    "    2) 문자를 인자로 bool 함수 호출 : bool('a')  # bool(''), bool(None)은 False 반환 / bool(' ') 공백은 문자이므로 True  \n",
    "    3) 리스트, 튜플, 세트를 인자로 bool 함수 호출 : 각 인자에 항목이 없으면 False 반환     \n",
    "    "
   ]
  },
  {
   "cell_type": "code",
   "execution_count": 29,
   "metadata": {},
   "outputs": [],
   "source": [
    "def print_name(name):\n",
    "    if bool(name):\n",
    "        print('입력된 이름:', name)\n",
    "    else:\n",
    "        print('입력된 이름이 없습니다.')"
   ]
  },
  {
   "cell_type": "code",
   "execution_count": 30,
   "metadata": {},
   "outputs": [
    {
     "name": "stdout",
     "output_type": "stream",
     "text": [
      "입력된 이름: James\n"
     ]
    }
   ],
   "source": [
    "print_name('James')"
   ]
  },
  {
   "cell_type": "code",
   "execution_count": 31,
   "metadata": {},
   "outputs": [
    {
     "name": "stdout",
     "output_type": "stream",
     "text": [
      "입력된 이름이 없습니다.\n"
     ]
    }
   ],
   "source": [
    "print_name('')"
   ]
  },
  {
   "cell_type": "markdown",
   "metadata": {},
   "source": [
    "# 8/1 추가"
   ]
  },
  {
   "cell_type": "markdown",
   "metadata": {},
   "source": [
    "### 최소값과 최대값\n",
    "\n",
    "- 최소값 : [min()]\n",
    "- 최대값 : [max()]\n",
    "\n",
    "숫자, 문자 모두 가능"
   ]
  },
  {
   "cell_type": "code",
   "execution_count": 9,
   "metadata": {},
   "outputs": [
    {
     "data": {
      "text/plain": [
       "[0, 99.5]"
      ]
     },
     "execution_count": 9,
     "metadata": {},
     "output_type": "execute_result"
    }
   ],
   "source": [
    "# 리스트\n",
    "\n",
    "myNum = [10, 5, 12, 0, 3.5, 99.5, 42]\n",
    "[min(myNum), max(myNum)]"
   ]
  },
  {
   "cell_type": "code",
   "execution_count": 8,
   "metadata": {},
   "outputs": [
    {
     "data": {
      "text/plain": [
       "['a', 'z']"
      ]
     },
     "execution_count": 8,
     "metadata": {},
     "output_type": "execute_result"
    }
   ],
   "source": [
    "myStr = 'zxyabc'\n",
    "[min(myStr), max(myStr)]"
   ]
  },
  {
   "cell_type": "code",
   "execution_count": 12,
   "metadata": {},
   "outputs": [
    {
     "data": {
      "text/plain": [
       "[0, 99.5]"
      ]
     },
     "execution_count": 12,
     "metadata": {},
     "output_type": "execute_result"
    }
   ],
   "source": [
    "# 튜플\n",
    "\n",
    "myNum = (10, 5, 12, 0, 3.5, 99.5, 42)\n",
    "[min(myNum), max(myNum)]"
   ]
  },
  {
   "cell_type": "code",
   "execution_count": 13,
   "metadata": {},
   "outputs": [
    {
     "data": {
      "text/plain": [
       "['Abc', 'efg']"
      ]
     },
     "execution_count": 13,
     "metadata": {},
     "output_type": "execute_result"
    }
   ],
   "source": [
    "myNum = {'Abc', 'abc', 'bcd', 'efg'}\n",
    "[min(myNum), max(myNum)]"
   ]
  },
  {
   "cell_type": "markdown",
   "metadata": {},
   "source": [
    "### 절대값과 전체 합\n",
    "\n",
    "- 절대값: [abs(값)]\n",
    "- 전체합: sum(sumList)"
   ]
  },
  {
   "cell_type": "code",
   "execution_count": 14,
   "metadata": {},
   "outputs": [
    {
     "data": {
      "text/plain": [
       "[10, 10]"
      ]
     },
     "execution_count": 14,
     "metadata": {},
     "output_type": "execute_result"
    }
   ],
   "source": [
    "[abs(10), abs(-10)]"
   ]
  },
  {
   "cell_type": "code",
   "execution_count": 15,
   "metadata": {},
   "outputs": [
    {
     "data": {
      "text/plain": [
       "[2.45, 2.45]"
      ]
     },
     "execution_count": 15,
     "metadata": {},
     "output_type": "execute_result"
    }
   ],
   "source": [
    "[abs(2.45), abs(-2.45)]"
   ]
  },
  {
   "cell_type": "code",
   "execution_count": 17,
   "metadata": {},
   "outputs": [
    {
     "data": {
      "text/plain": [
       "55"
      ]
     },
     "execution_count": 17,
     "metadata": {},
     "output_type": "execute_result"
    }
   ],
   "source": [
    "sumList = [1, 2, 3, 4, 5, 6, 7, 8, 9, 10]\n",
    "sum(sumList)"
   ]
  },
  {
   "cell_type": "markdown",
   "metadata": {},
   "source": [
    "### 항목의 개수\n",
    "\n",
    "- len()\n"
   ]
  },
  {
   "cell_type": "code",
   "execution_count": 18,
   "metadata": {},
   "outputs": [
    {
     "data": {
      "text/plain": [
       "5"
      ]
     },
     "execution_count": 18,
     "metadata": {},
     "output_type": "execute_result"
    }
   ],
   "source": [
    "len('ab cd') # 공백도 글자수에 포함"
   ]
  },
  {
   "cell_type": "code",
   "execution_count": 19,
   "metadata": {},
   "outputs": [
    {
     "data": {
      "text/plain": [
       "8"
      ]
     },
     "execution_count": 19,
     "metadata": {},
     "output_type": "execute_result"
    }
   ],
   "source": [
    "len([1, 2, 3, 4, 5, 6, 7, 8,]) # 리스트"
   ]
  },
  {
   "cell_type": "code",
   "execution_count": 20,
   "metadata": {},
   "outputs": [
    {
     "data": {
      "text/plain": [
       "5"
      ]
     },
     "execution_count": 20,
     "metadata": {},
     "output_type": "execute_result"
    }
   ],
   "source": [
    "len((1,2,3,4,5)) # 튜플"
   ]
  },
  {
   "cell_type": "code",
   "execution_count": 21,
   "metadata": {},
   "outputs": [
    {
     "data": {
      "text/plain": [
       "4"
      ]
     },
     "execution_count": 21,
     "metadata": {},
     "output_type": "execute_result"
    }
   ],
   "source": [
    "len({'a','b','c','d'}) # 세트"
   ]
  },
  {
   "cell_type": "code",
   "execution_count": 22,
   "metadata": {},
   "outputs": [
    {
     "data": {
      "text/plain": [
       "3"
      ]
     },
     "execution_count": 22,
     "metadata": {},
     "output_type": "execute_result"
    }
   ],
   "source": [
    "len({1: 'Thomas', 2:'Edward', 3:'Herry'}) # 딕셔너리"
   ]
  },
  {
   "cell_type": "markdown",
   "metadata": {},
   "source": [
    "### 내장 함수의 활용"
   ]
  },
  {
   "cell_type": "code",
   "execution_count": 24,
   "metadata": {},
   "outputs": [
    {
     "name": "stdout",
     "output_type": "stream",
     "text": [
      "총점:350, 평균: 87.5\n"
     ]
    }
   ],
   "source": [
    "# 시험점수는 각 90, 80, 95, 85 / 합계와 평균을 구하라.\n",
    "\n",
    "# 1. sum(), len() 사용 X\n",
    "\n",
    "scores = [90, 80, 95, 85]\n",
    "\n",
    "score_sum = 0\n",
    "subject_num  = 0\n",
    "for score in scores:\n",
    "    score_sum = score_sum + score\n",
    "    subject_num = subject_num + 1\n",
    "    \n",
    "average = score_sum / subject_num\n",
    "\n",
    "print('총점:{0}, 평균: {1}'.format(score_sum, average))"
   ]
  },
  {
   "cell_type": "code",
   "execution_count": 27,
   "metadata": {},
   "outputs": [
    {
     "name": "stdout",
     "output_type": "stream",
     "text": [
      "총점:350, 평균:87.5\n"
     ]
    }
   ],
   "source": [
    "# 2. sum(), len() 내장함수 사용\n",
    "\n",
    "scores = [90, 80, 95, 85]\n",
    "\n",
    "print('총점:{0}, 평균:{1}'.format(sum(scores), sum(scores)/len(scores)))\n"
   ]
  },
  {
   "cell_type": "code",
   "execution_count": 28,
   "metadata": {
    "scrolled": true
   },
   "outputs": [
    {
     "name": "stdout",
     "output_type": "stream",
     "text": [
      "최하점수: 80, 최고점수: 95\n"
     ]
    }
   ],
   "source": [
    "# 최소값/ 최대값 구하기\n",
    "\n",
    "print('최하점수: {0}, 최고점수: {1}'.format(min(scores), max(scores)))"
   ]
  },
  {
   "cell_type": "code",
   "execution_count": 33,
   "metadata": {},
   "outputs": [
    {
     "name": "stdout",
     "output_type": "stream",
     "text": [
      "총점:350, 평균:87.5\n",
      "총점:315, 평균:78.75\n",
      "총점:346, 평균:86.5\n"
     ]
    }
   ],
   "source": [
    "# 여러명인 경우 / 리스트 안에 리스트 삽입 가능\n",
    "\n",
    "score_table = [\n",
    "    [90, 80, 95, 85],\n",
    "    [60, 85, 75, 95],\n",
    "    [98, 80, 76, 92]]\n",
    "\n",
    "for score_list in score_table:\n",
    "    print('총점:{0}, 평균:{1}'.format(sum(score_list), sum(score_list)/len(score_list)))"
   ]
  },
  {
   "cell_type": "code",
   "execution_count": null,
   "metadata": {},
   "outputs": [],
   "source": []
  }
 ],
 "metadata": {
  "kernelspec": {
   "display_name": "Python 3",
   "language": "python",
   "name": "python3"
  },
  "language_info": {
   "codemirror_mode": {
    "name": "ipython",
    "version": 3
   },
   "file_extension": ".py",
   "mimetype": "text/x-python",
   "name": "python",
   "nbconvert_exporter": "python",
   "pygments_lexer": "ipython3",
   "version": "3.6.8"
  }
 },
 "nbformat": 4,
 "nbformat_minor": 2
}
