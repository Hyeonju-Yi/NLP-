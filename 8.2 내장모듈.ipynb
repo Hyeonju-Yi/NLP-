{
 "cells": [
  {
   "cell_type": "markdown",
   "metadata": {},
   "source": [
    "# 내장 모듈"
   ]
  },
  {
   "cell_type": "markdown",
   "metadata": {},
   "source": [
    "### 난수 발생 모듈\n",
    " - 난수(random number): 임의의 숫자\n",
    " \n",
    " - 형태  \n",
    " import random  \n",
    " random.random()\n",
    "\n",
    "\n",
    " - random(): 0.0 <= 실수 < 1.0 범위의 임의의 실수를 반환  \n",
    "        ex) random.random()\n",
    " - randint(a,b) : a <= 정수 <= b 범위의 임의의 정수 반환  \n",
    "        ex) random.randint(1,6)\n",
    " - randrange([start,] stop [,step]): range([start,] stop[,step]) 에서 임의의 정수를 반환  \n",
    "        ex) random.randrange(0, 10, 2)\n",
    " - choice(seq) : 공백이 아닌 시퀸스(seq)에서 임의의 항목을 반환  \n",
    "        ex) random.choice([1,2,3])\n",
    " - sample(population, k) : 시퀸스로 이뤄진 모집단(population)에서 중복되지 않는 k개의 인자를 반환  \n",
    "        ex) random.sample([1,2,3,4,5], 2) "
   ]
  },
  {
   "cell_type": "code",
   "execution_count": 1,
   "metadata": {},
   "outputs": [
    {
     "data": {
      "text/plain": [
       "0.26892179167579455"
      ]
     },
     "execution_count": 1,
     "metadata": {},
     "output_type": "execute_result"
    }
   ],
   "source": [
    "import random\n",
    "random.random()"
   ]
  },
  {
   "cell_type": "code",
   "execution_count": 4,
   "metadata": {},
   "outputs": [
    {
     "name": "stdout",
     "output_type": "stream",
     "text": [
      "주사위 두 개의 숫자: 6, 3\n"
     ]
    }
   ],
   "source": [
    "import random\n",
    "\n",
    "dice1 = random.randint(1,6)\n",
    "dice2 = random.randint(1,6)\n",
    "print('주사위 두 개의 숫자: {0}, {1}'.format(dice1, dice2))"
   ]
  },
  {
   "cell_type": "code",
   "execution_count": 6,
   "metadata": {},
   "outputs": [
    {
     "data": {
      "text/plain": [
       "120"
      ]
     },
     "execution_count": 6,
     "metadata": {},
     "output_type": "execute_result"
    }
   ],
   "source": [
    "import random\n",
    "\n",
    "random.randrange(10, 130, 5)"
   ]
  },
  {
   "cell_type": "code",
   "execution_count": 7,
   "metadata": {},
   "outputs": [
    {
     "data": {
      "text/plain": [
       "'비빔밥'"
      ]
     },
     "execution_count": 7,
     "metadata": {},
     "output_type": "execute_result"
    }
   ],
   "source": [
    "import random\n",
    "\n",
    "menu = ['비빔밥', '된장찌개', '볶음밥', '닭도리탕','불고기', '피자']\n",
    "random.choice(menu)"
   ]
  },
  {
   "cell_type": "code",
   "execution_count": 13,
   "metadata": {},
   "outputs": [
    {
     "data": {
      "text/plain": [
       "'B'"
      ]
     },
     "execution_count": 13,
     "metadata": {},
     "output_type": "execute_result"
    }
   ],
   "source": [
    "import random\n",
    "\n",
    "menu = ['A','B','C','D']\n",
    "random.choice(menu)"
   ]
  },
  {
   "cell_type": "code",
   "execution_count": 21,
   "metadata": {},
   "outputs": [
    {
     "data": {
      "text/plain": [
       "[9, 9, 8, 6]"
      ]
     },
     "execution_count": 21,
     "metadata": {},
     "output_type": "execute_result"
    }
   ],
   "source": [
    "import random\n",
    "\n",
    "random.sample([1,3,5,6,7,8,9,9], 4)"
   ]
  },
  {
   "cell_type": "code",
   "execution_count": null,
   "metadata": {},
   "outputs": [],
   "source": []
  },
  {
   "cell_type": "code",
   "execution_count": 89,
   "metadata": {},
   "outputs": [
    {
     "data": {
      "text/plain": [
       "6340"
      ]
     },
     "execution_count": 89,
     "metadata": {},
     "output_type": "execute_result"
    }
   ],
   "source": [
    "import random\n",
    "\n",
    "random.randrange(100, 20000, 156)"
   ]
  },
  {
   "cell_type": "markdown",
   "metadata": {},
   "source": [
    "### 날짜 및 시간 관련 처리 모듈\n",
    "\n",
    "import datetime  \n",
    "각 객체를 생성하여 이용  \n",
    "**코드를 실행하는데 얼마의 시간이 걸린다. 를 확인할 때 사용하기도 함.**\n",
    "\n",
    "- date 클래스 : 날짜 표현  \n",
    "      date_obj =  datetime.date(year, month, day)\n",
    "- time 클래스 : 시간 표현  \n",
    "      time_obj = datetime.time(hour, minute, second)\n",
    "- datetime 클래스 : 날짜와 시간을 표현  \n",
    "      datetime_obj = datetime.datetime(year, month, day, hour, minute, second)\n",
    "\n"
   ]
  },
  {
   "cell_type": "code",
   "execution_count": 130,
   "metadata": {},
   "outputs": [
    {
     "name": "stdout",
     "output_type": "stream",
     "text": [
      "2019-08-02\n"
     ]
    }
   ],
   "source": [
    "import datetime\n",
    "\n",
    "set_day = datetime.date(2019,8,2)\n",
    "print(set_day)"
   ]
  },
  {
   "cell_type": "code",
   "execution_count": 135,
   "metadata": {},
   "outputs": [
    {
     "name": "stdout",
     "output_type": "stream",
     "text": [
      "2019/8/2\n"
     ]
    }
   ],
   "source": [
    "print('{0}/{1}/{2}'.format(set_day.year, set_day.month, set_day.day))"
   ]
  },
  {
   "cell_type": "code",
   "execution_count": 136,
   "metadata": {},
   "outputs": [
    {
     "name": "stdout",
     "output_type": "stream",
     "text": [
      "2019-08-02 10:01:04.993825\n"
     ]
    }
   ],
   "source": [
    "print(datetime.datetime.now())"
   ]
  },
  {
   "cell_type": "code",
   "execution_count": 139,
   "metadata": {},
   "outputs": [
    {
     "name": "stdout",
     "output_type": "stream",
     "text": [
      "100 days, 0:00:00\n"
     ]
    },
    {
     "data": {
      "text/plain": [
       "datetime.timedelta"
      ]
     },
     "execution_count": 139,
     "metadata": {},
     "output_type": "execute_result"
    }
   ],
   "source": [
    "import datetime\n",
    "\n",
    "day1 = datetime.date(2019,4,1)\n",
    "day2 = datetime.date(2019,7,10)\n",
    "\n",
    "diff_day = day2 - day1\n",
    "print(diff_day)\n",
    "type(diff_day)"
   ]
  },
  {
   "cell_type": "code",
   "execution_count": 140,
   "metadata": {},
   "outputs": [
    {
     "data": {
      "text/plain": [
       "datetime.date"
      ]
     },
     "execution_count": 140,
     "metadata": {},
     "output_type": "execute_result"
    }
   ],
   "source": [
    "type(day1)"
   ]
  },
  {
   "cell_type": "code",
   "execution_count": 145,
   "metadata": {},
   "outputs": [
    {
     "name": "stdout",
     "output_type": "stream",
     "text": [
      "** 지정된 두 날짜의 차이는 100일 입니다.**\n"
     ]
    }
   ],
   "source": [
    "print('** 지정된 두 날짜의 차이는 {}일 입니다.**'.format(diff_day.days))"
   ]
  },
  {
   "cell_type": "code",
   "execution_count": 156,
   "metadata": {},
   "outputs": [
    {
     "name": "stdout",
     "output_type": "stream",
     "text": [
      "2019-08-02\n"
     ]
    }
   ],
   "source": [
    "import datetime\n",
    "\n",
    "print(datetime.date.today())"
   ]
  },
  {
   "cell_type": "code",
   "execution_count": 157,
   "metadata": {},
   "outputs": [
    {
     "name": "stdout",
     "output_type": "stream",
     "text": [
      "-214 days, 0:00:00\n"
     ]
    }
   ],
   "source": [
    "import datetime # 같은 범위까지 설정을 해야 함. day : day \n",
    "\n",
    "today = datetime.date.today()\n",
    "special_day = datetime.date(2018,12,31)\n",
    "print(special_day - today)"
   ]
  },
  {
   "cell_type": "code",
   "execution_count": 159,
   "metadata": {},
   "outputs": [
    {
     "name": "stdout",
     "output_type": "stream",
     "text": [
      "15:30:45\n"
     ]
    }
   ],
   "source": [
    "import datetime\n",
    "\n",
    "set_time = datetime.time(15,30,45)\n",
    "print(set_time)"
   ]
  },
  {
   "cell_type": "code",
   "execution_count": 161,
   "metadata": {},
   "outputs": [
    {
     "name": "stdout",
     "output_type": "stream",
     "text": [
      "15:30:45\n"
     ]
    }
   ],
   "source": [
    "print('{0}:{1}:{2}'.format(set_time.hour, set_time.minute, set_time.second))"
   ]
  },
  {
   "cell_type": "code",
   "execution_count": 181,
   "metadata": {},
   "outputs": [
    {
     "name": "stdout",
     "output_type": "stream",
     "text": [
      "2018-10-09 10:20:00\n"
     ]
    }
   ],
   "source": [
    "import datetime\n",
    "\n",
    "set_dt = datetime.datetime(2018,10,9,10,20,0)\n",
    "print(set_dt)"
   ]
  },
  {
   "cell_type": "code",
   "execution_count": 182,
   "metadata": {},
   "outputs": [
    {
     "name": "stdout",
     "output_type": "stream",
     "text": [
      "날짜: 2018/10/9\n",
      "시각: 10/20/0\n"
     ]
    }
   ],
   "source": [
    "print('날짜: {0}/{1}/{2}'. format(set_dt.year, set_dt.month, set_dt.day))\n",
    "print('시각: {0}/{1}/{2}'. format(set_dt.hour, set_dt.minute, set_dt.second))"
   ]
  },
  {
   "cell_type": "code",
   "execution_count": 205,
   "metadata": {},
   "outputs": [
    {
     "name": "stdout",
     "output_type": "stream",
     "text": [
      "2019-08-02 10:22:13.625488\n"
     ]
    }
   ],
   "source": [
    "import datetime\n",
    "\n",
    "now = datetime.datetime.now()\n",
    "print(now)"
   ]
  },
  {
   "cell_type": "code",
   "execution_count": 206,
   "metadata": {},
   "outputs": [
    {
     "name": "stdout",
     "output_type": "stream",
     "text": [
      "Date & Time: 2019-08-02, 10:22:13\n"
     ]
    }
   ],
   "source": [
    "print('Date & Time: {:%Y-%m-%d, %H:%M:%S}'.format(now))"
   ]
  },
  {
   "cell_type": "code",
   "execution_count": 209,
   "metadata": {},
   "outputs": [
    {
     "name": "stdout",
     "output_type": "stream",
     "text": [
      "Date: 2019-08-02\n",
      "Time: 10/22/13\n"
     ]
    }
   ],
   "source": [
    "print('Date: {:%Y-%m-%d}'.format(now))\n",
    "print('Time: {:%H/%M/%S}'.format(now))"
   ]
  },
  {
   "cell_type": "code",
   "execution_count": 211,
   "metadata": {},
   "outputs": [
    {
     "name": "stdout",
     "output_type": "stream",
     "text": [
      "현재 날짜 및 시각: 2019-08-02 10:23:20.825163\n",
      "차이: -609 days, 2:07:24.174837\n"
     ]
    }
   ],
   "source": [
    "now = datetime.datetime.now()\n",
    "set_dt = datetime.datetime(2017,12,1,12,30,45)\n",
    "\n",
    "print('현재 날짜 및 시각:', now)\n",
    "print('차이:', set_dt - now)"
   ]
  },
  {
   "cell_type": "code",
   "execution_count": 212,
   "metadata": {},
   "outputs": [
    {
     "name": "stdout",
     "output_type": "stream",
     "text": [
      "2019-07-01\n"
     ]
    }
   ],
   "source": [
    "from datetime import date, time, datetime\n",
    "\n",
    "print(date(2019,7,1))"
   ]
  },
  {
   "cell_type": "code",
   "execution_count": 213,
   "metadata": {},
   "outputs": [
    {
     "name": "stdout",
     "output_type": "stream",
     "text": [
      "2019-08-02\n"
     ]
    }
   ],
   "source": [
    "print(date.today())"
   ]
  },
  {
   "cell_type": "code",
   "execution_count": 214,
   "metadata": {},
   "outputs": [
    {
     "name": "stdout",
     "output_type": "stream",
     "text": [
      "2020-02-14 18:10:50\n"
     ]
    }
   ],
   "source": [
    "print(datetime(2020, 2, 14, 18, 10, 50))"
   ]
  },
  {
   "cell_type": "code",
   "execution_count": 215,
   "metadata": {},
   "outputs": [
    {
     "name": "stdout",
     "output_type": "stream",
     "text": [
      "2019-08-02 10:24:18.766288\n"
     ]
    }
   ],
   "source": [
    "print(datetime.now())"
   ]
  },
  {
   "cell_type": "code",
   "execution_count": 221,
   "metadata": {},
   "outputs": [
    {
     "name": "stdout",
     "output_type": "stream",
     "text": [
      "현재 날짜: 2019-08-02\n",
      "우리 만난지 303 days, 0:00:00일 째\n"
     ]
    }
   ],
   "source": [
    "now = datetime.date.today()\n",
    "set_dt = datetime.date(2018,10,3)\n",
    "dif_tm = now -set_dt\n",
    "\n",
    "print('현재 날짜:', now)\n",
    "print('우리 만난지 {}일 째'.format(dif_tm))\n"
   ]
  },
  {
   "cell_type": "markdown",
   "metadata": {},
   "source": [
    "###  달력 생성 및 처리 모듈\n",
    "\n",
    "- calendar(year [, m=3]) : 지정된 year의 전체 달력을 문자열로 반환(기본 형식은 3개의 열)\n",
    "- month(year, month) : 지정된 year와 month의 달력을 문자열로 반환\n",
    "- monthrange(year, month) : 지정된 year와 month의 시작요일과 일수 반환 / 월요일(0)~일요일(6)\n",
    "- firstweekday() : 달력에 표시되는 주의 첫 번째 요일값을 반환 / 기본값은 월요일(0)\n",
    "- setfirstweekday(weekday): 달력에 표시되는 주의 첫 번째 요일을 지정\n",
    "- isleap(year) : 지정된 year가 윤년인지 판단/ True, False 반환"
   ]
  },
  {
   "cell_type": "code",
   "execution_count": 222,
   "metadata": {},
   "outputs": [
    {
     "name": "stdout",
     "output_type": "stream",
     "text": [
      "                                  2019\n",
      "\n",
      "      January                   February                   March\n",
      "Mo Tu We Th Fr Sa Su      Mo Tu We Th Fr Sa Su      Mo Tu We Th Fr Sa Su\n",
      "    1  2  3  4  5  6                   1  2  3                   1  2  3\n",
      " 7  8  9 10 11 12 13       4  5  6  7  8  9 10       4  5  6  7  8  9 10\n",
      "14 15 16 17 18 19 20      11 12 13 14 15 16 17      11 12 13 14 15 16 17\n",
      "21 22 23 24 25 26 27      18 19 20 21 22 23 24      18 19 20 21 22 23 24\n",
      "28 29 30 31               25 26 27 28               25 26 27 28 29 30 31\n",
      "\n",
      "       April                      May                       June\n",
      "Mo Tu We Th Fr Sa Su      Mo Tu We Th Fr Sa Su      Mo Tu We Th Fr Sa Su\n",
      " 1  2  3  4  5  6  7             1  2  3  4  5                      1  2\n",
      " 8  9 10 11 12 13 14       6  7  8  9 10 11 12       3  4  5  6  7  8  9\n",
      "15 16 17 18 19 20 21      13 14 15 16 17 18 19      10 11 12 13 14 15 16\n",
      "22 23 24 25 26 27 28      20 21 22 23 24 25 26      17 18 19 20 21 22 23\n",
      "29 30                     27 28 29 30 31            24 25 26 27 28 29 30\n",
      "\n",
      "        July                     August                  September\n",
      "Mo Tu We Th Fr Sa Su      Mo Tu We Th Fr Sa Su      Mo Tu We Th Fr Sa Su\n",
      " 1  2  3  4  5  6  7                1  2  3  4                         1\n",
      " 8  9 10 11 12 13 14       5  6  7  8  9 10 11       2  3  4  5  6  7  8\n",
      "15 16 17 18 19 20 21      12 13 14 15 16 17 18       9 10 11 12 13 14 15\n",
      "22 23 24 25 26 27 28      19 20 21 22 23 24 25      16 17 18 19 20 21 22\n",
      "29 30 31                  26 27 28 29 30 31         23 24 25 26 27 28 29\n",
      "                                                    30\n",
      "\n",
      "      October                   November                  December\n",
      "Mo Tu We Th Fr Sa Su      Mo Tu We Th Fr Sa Su      Mo Tu We Th Fr Sa Su\n",
      "    1  2  3  4  5  6                   1  2  3                         1\n",
      " 7  8  9 10 11 12 13       4  5  6  7  8  9 10       2  3  4  5  6  7  8\n",
      "14 15 16 17 18 19 20      11 12 13 14 15 16 17       9 10 11 12 13 14 15\n",
      "21 22 23 24 25 26 27      18 19 20 21 22 23 24      16 17 18 19 20 21 22\n",
      "28 29 30 31               25 26 27 28 29 30         23 24 25 26 27 28 29\n",
      "                                                    30 31\n",
      "\n"
     ]
    }
   ],
   "source": [
    "import calendar\n",
    "print(calendar.calendar(2019))"
   ]
  },
  {
   "cell_type": "code",
   "execution_count": 225,
   "metadata": {},
   "outputs": [
    {
     "name": "stdout",
     "output_type": "stream",
     "text": [
      "                                               2019\n",
      "\n",
      "      January                   February                   March                     April\n",
      "Mo Tu We Th Fr Sa Su      Mo Tu We Th Fr Sa Su      Mo Tu We Th Fr Sa Su      Mo Tu We Th Fr Sa Su\n",
      "    1  2  3  4  5  6                   1  2  3                   1  2  3       1  2  3  4  5  6  7\n",
      " 7  8  9 10 11 12 13       4  5  6  7  8  9 10       4  5  6  7  8  9 10       8  9 10 11 12 13 14\n",
      "14 15 16 17 18 19 20      11 12 13 14 15 16 17      11 12 13 14 15 16 17      15 16 17 18 19 20 21\n",
      "21 22 23 24 25 26 27      18 19 20 21 22 23 24      18 19 20 21 22 23 24      22 23 24 25 26 27 28\n",
      "28 29 30 31               25 26 27 28               25 26 27 28 29 30 31      29 30\n",
      "\n",
      "        May                       June                      July                     August\n",
      "Mo Tu We Th Fr Sa Su      Mo Tu We Th Fr Sa Su      Mo Tu We Th Fr Sa Su      Mo Tu We Th Fr Sa Su\n",
      "       1  2  3  4  5                      1  2       1  2  3  4  5  6  7                1  2  3  4\n",
      " 6  7  8  9 10 11 12       3  4  5  6  7  8  9       8  9 10 11 12 13 14       5  6  7  8  9 10 11\n",
      "13 14 15 16 17 18 19      10 11 12 13 14 15 16      15 16 17 18 19 20 21      12 13 14 15 16 17 18\n",
      "20 21 22 23 24 25 26      17 18 19 20 21 22 23      22 23 24 25 26 27 28      19 20 21 22 23 24 25\n",
      "27 28 29 30 31            24 25 26 27 28 29 30      29 30 31                  26 27 28 29 30 31\n",
      "\n",
      "     September                  October                   November                  December\n",
      "Mo Tu We Th Fr Sa Su      Mo Tu We Th Fr Sa Su      Mo Tu We Th Fr Sa Su      Mo Tu We Th Fr Sa Su\n",
      "                   1          1  2  3  4  5  6                   1  2  3                         1\n",
      " 2  3  4  5  6  7  8       7  8  9 10 11 12 13       4  5  6  7  8  9 10       2  3  4  5  6  7  8\n",
      " 9 10 11 12 13 14 15      14 15 16 17 18 19 20      11 12 13 14 15 16 17       9 10 11 12 13 14 15\n",
      "16 17 18 19 20 21 22      21 22 23 24 25 26 27      18 19 20 21 22 23 24      16 17 18 19 20 21 22\n",
      "23 24 25 26 27 28 29      28 29 30 31               25 26 27 28 29 30         23 24 25 26 27 28 29\n",
      "30                                                                            30 31\n",
      "\n"
     ]
    }
   ],
   "source": [
    "import calendar\n",
    "\n",
    "print(calendar.calendar(2019, m=4)) # 월의 갯수를 조정"
   ]
  },
  {
   "cell_type": "code",
   "execution_count": 227,
   "metadata": {},
   "outputs": [
    {
     "name": "stdout",
     "output_type": "stream",
     "text": [
      "    August 2019\n",
      "Mo Tu We Th Fr Sa Su\n",
      "          1  2  3  4\n",
      " 5  6  7  8  9 10 11\n",
      "12 13 14 15 16 17 18\n",
      "19 20 21 22 23 24 25\n",
      "26 27 28 29 30 31\n",
      "\n"
     ]
    }
   ],
   "source": [
    "print(calendar.month(2019,8))"
   ]
  },
  {
   "cell_type": "code",
   "execution_count": 233,
   "metadata": {},
   "outputs": [
    {
     "data": {
      "text/plain": [
       "(2, 31)"
      ]
     },
     "execution_count": 233,
     "metadata": {},
     "output_type": "execute_result"
    }
   ],
   "source": [
    "calendar.monthrange(2020,1) # 수요일, 31일까지"
   ]
  },
  {
   "cell_type": "code",
   "execution_count": 234,
   "metadata": {},
   "outputs": [
    {
     "data": {
      "text/plain": [
       "0"
      ]
     },
     "execution_count": 234,
     "metadata": {},
     "output_type": "execute_result"
    }
   ],
   "source": [
    "calendar.firstweekday()"
   ]
  },
  {
   "cell_type": "code",
   "execution_count": 237,
   "metadata": {},
   "outputs": [
    {
     "name": "stdout",
     "output_type": "stream",
     "text": [
      "   September 2020\n",
      "Su Mo Tu We Th Fr Sa\n",
      "       1  2  3  4  5\n",
      " 6  7  8  9 10 11 12\n",
      "13 14 15 16 17 18 19\n",
      "20 21 22 23 24 25 26\n",
      "27 28 29 30\n",
      "\n"
     ]
    }
   ],
   "source": [
    "calendar.setfirstweekday(calendar.SUNDAY)\n",
    "print(calendar.month(2020,9))"
   ]
  },
  {
   "cell_type": "code",
   "execution_count": 236,
   "metadata": {},
   "outputs": [
    {
     "name": "stdout",
     "output_type": "stream",
     "text": [
      "2\n"
     ]
    }
   ],
   "source": [
    "print(calendar.weekday(2019, 12, 25)) # 19년 12월 25일은 수요일"
   ]
  },
  {
   "cell_type": "markdown",
   "metadata": {},
   "source": [
    "### 패키지"
   ]
  },
  {
   "cell_type": "code",
   "execution_count": 4,
   "metadata": {},
   "outputs": [],
   "source": [
    "mkdir C:\\myPyCode\\packages\\image; C:\\myPyCode\\packages\\image\\io_file"
   ]
  },
  {
   "cell_type": "code",
   "execution_count": 5,
   "metadata": {},
   "outputs": [
    {
     "name": "stdout",
     "output_type": "stream",
     "text": [
      "Writing C:\\myPyCode\\packages\\image\\__init__.py\n"
     ]
    }
   ],
   "source": [
    "%%writefile C:\\myPyCode\\packages\\image\\__init__.py\n",
    "# File name: __init__.py"
   ]
  },
  {
   "cell_type": "code",
   "execution_count": 6,
   "metadata": {},
   "outputs": [
    {
     "name": "stdout",
     "output_type": "stream",
     "text": [
      "Writing C:\\myPyCode\\packages\\image\\io_file\\__init__.py\n"
     ]
    }
   ],
   "source": [
    "%%writefile C:\\myPyCode\\packages\\image\\io_file\\__init__.py\n",
    "# File name: __init__.py"
   ]
  },
  {
   "cell_type": "code",
   "execution_count": 7,
   "metadata": {},
   "outputs": [
    {
     "name": "stdout",
     "output_type": "stream",
     "text": [
      "Writing C:\\myPyCode\\packages\\image\\io_file\\imgread.py\n"
     ]
    }
   ],
   "source": [
    "%%writefile C:\\myPyCode\\packages\\image\\io_file\\imgread.py\n",
    "# File name: imgread.py\n",
    "    \n",
    "def pngread():\n",
    "    print(\"pngread in imgread module\")\n",
    "\n",
    "def jpgread():\n",
    "    print(\"jpgread in imgread module\")\n"
   ]
  },
  {
   "cell_type": "code",
   "execution_count": 8,
   "metadata": {},
   "outputs": [
    {
     "name": "stdout",
     "output_type": "stream",
     "text": [
      "폴더 PATH의 목록입니다.\n",
      "볼륨 일련 번호는 7C2C-5413입니다.\n",
      "C:\\MYPYCODE\\PACKAGES\n",
      "└─image\n",
      "    │  __init__.py\n",
      "    │  \n",
      "    └─io_file\n",
      "            imgread.py\n",
      "            __init__.py\n",
      "            \n"
     ]
    }
   ],
   "source": [
    "!tree /F c:\\myPyCode\\packages"
   ]
  },
  {
   "cell_type": "code",
   "execution_count": 9,
   "metadata": {},
   "outputs": [
    {
     "name": "stdout",
     "output_type": "stream",
     "text": [
      "pngread in imgread module\n",
      "jpgread in imgread module\n"
     ]
    }
   ],
   "source": [
    "import image.io_file.imgread\n",
    "\n",
    "image.io_file.imgread.pngread()\n",
    "image.io_file.imgread.jpgread()"
   ]
  },
  {
   "cell_type": "code",
   "execution_count": 10,
   "metadata": {},
   "outputs": [
    {
     "name": "stdout",
     "output_type": "stream",
     "text": [
      "pngread in imgread module\n",
      "jpgread in imgread module\n"
     ]
    }
   ],
   "source": [
    "from image.io_file import imgread\n",
    "\n",
    "imgread.pngread()   \n",
    "imgread.jpgread()"
   ]
  }
 ],
 "metadata": {
  "kernelspec": {
   "display_name": "Python 3",
   "language": "python",
   "name": "python3"
  },
  "language_info": {
   "codemirror_mode": {
    "name": "ipython",
    "version": 3
   },
   "file_extension": ".py",
   "mimetype": "text/x-python",
   "name": "python",
   "nbconvert_exporter": "python",
   "pygments_lexer": "ipython3",
   "version": "3.6.8"
  }
 },
 "nbformat": 4,
 "nbformat_minor": 2
}
